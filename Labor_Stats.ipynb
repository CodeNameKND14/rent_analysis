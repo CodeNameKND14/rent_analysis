{
 "cells": [
  {
   "cell_type": "code",
   "execution_count": 278,
   "metadata": {},
   "outputs": [],
   "source": [
    "import pandas as pd\n",
    "import numpy as np\n",
    "import seaborn as sns\n",
    "import matplotlib.pyplot as plt\n",
    "import requests\n",
    "import json\n",
    "\n",
    "from config import bls_api_key"
   ]
  },
  {
   "cell_type": "code",
   "execution_count": 98,
   "metadata": {},
   "outputs": [
    {
     "data": {
      "text/plain": [
       "['LASST510000000000003',\n",
       " 'LASST520000000000003',\n",
       " 'LASST530000000000003',\n",
       " 'LASST540000000000003',\n",
       " 'LASST550000000000003',\n",
       " 'LASST560000000000003']"
      ]
     },
     "execution_count": 98,
     "metadata": {},
     "output_type": "execute_result"
    }
   ],
   "source": [
    "# Create Series list for all states\n",
    "series_list = []\n",
    "for i in range(56):\n",
    "    if i+1 <= 9:\n",
    "        series_list.append(f\"LASST0{i+1}0000000000003\")\n",
    "    elif i+1 >= 10:\n",
    "        series_list.append(f\"LASST{i+1}0000000000003\")\n",
    "\n",
    "series_list_2 = series_list[50:]\n",
    "series_list_2"
   ]
  },
  {
   "cell_type": "code",
   "execution_count": 100,
   "metadata": {},
   "outputs": [
    {
     "name": "stdout",
     "output_type": "stream",
     "text": [
      "1\n",
      "2\n",
      "Can not get info for series: LASST030000000000003\n",
      "2\n",
      "3\n",
      "4\n",
      "5\n",
      "Can not get info for series: LASST070000000000003\n",
      "5\n",
      "6\n",
      "7\n",
      "8\n",
      "9\n",
      "10\n",
      "11\n",
      "Can not get info for series: LASST140000000000003\n",
      "11\n",
      "12\n",
      "13\n",
      "14\n",
      "15\n",
      "16\n",
      "17\n",
      "18\n",
      "19\n",
      "20\n",
      "21\n",
      "22\n",
      "23\n",
      "24\n",
      "25\n",
      "26\n",
      "27\n",
      "28\n",
      "29\n",
      "30\n",
      "31\n",
      "32\n",
      "33\n",
      "34\n",
      "35\n",
      "36\n",
      "37\n",
      "38\n",
      "39\n",
      "Can not get info for series: LASST430000000000003\n",
      "39\n",
      "40\n",
      "41\n",
      "42\n",
      "43\n",
      "44\n",
      "45\n",
      "46\n",
      "Can not get info for series: LASST510000000000003\n",
      "46\n",
      "Can not get info for series: LASST520000000000003\n",
      "46\n",
      "Can not get info for series: LASST530000000000003\n",
      "46\n",
      "Can not get info for series: LASST540000000000003\n",
      "46\n",
      "Can not get info for series: LASST550000000000003\n",
      "46\n",
      "Can not get info for series: LASST560000000000003\n",
      "46\n",
      "47\n",
      "Can not get info for series: LASST020000000000003\n",
      "47\n",
      "48\n",
      "49\n",
      "50\n",
      "51\n",
      "Can not get info for series: LASST070000000000003\n",
      "51\n",
      "Can not get info for series: LASST080000000000003\n",
      "51\n",
      "Can not get info for series: LASST090000000000003\n",
      "51\n",
      "Can not get info for series: LASST100000000000003\n",
      "51\n",
      "Can not get info for series: LASST110000000000003\n",
      "51\n",
      "Can not get info for series: LASST120000000000003\n",
      "51\n",
      "Can not get info for series: LASST130000000000003\n",
      "51\n",
      "Can not get info for series: LASST140000000000003\n",
      "51\n",
      "Can not get info for series: LASST150000000000003\n",
      "51\n",
      "Can not get info for series: LASST160000000000003\n",
      "51\n",
      "Can not get info for series: LASST170000000000003\n",
      "51\n",
      "Can not get info for series: LASST180000000000003\n",
      "51\n",
      "Can not get info for series: LASST190000000000003\n",
      "51\n",
      "Can not get info for series: LASST200000000000003\n",
      "51\n",
      "Can not get info for series: LASST210000000000003\n",
      "51\n",
      "Can not get info for series: LASST220000000000003\n",
      "51\n",
      "Can not get info for series: LASST230000000000003\n",
      "51\n",
      "Can not get info for series: LASST240000000000003\n",
      "51\n",
      "Can not get info for series: LASST250000000000003\n",
      "51\n",
      "Can not get info for series: LASST260000000000003\n",
      "51\n",
      "Can not get info for series: LASST270000000000003\n",
      "51\n",
      "Can not get info for series: LASST280000000000003\n",
      "51\n",
      "Can not get info for series: LASST290000000000003\n",
      "51\n",
      "Can not get info for series: LASST300000000000003\n",
      "51\n",
      "Can not get info for series: LASST310000000000003\n",
      "51\n",
      "Can not get info for series: LASST320000000000003\n",
      "51\n",
      "Can not get info for series: LASST330000000000003\n",
      "51\n",
      "Can not get info for series: LASST340000000000003\n",
      "51\n",
      "Can not get info for series: LASST350000000000003\n",
      "51\n",
      "Can not get info for series: LASST360000000000003\n",
      "51\n",
      "Can not get info for series: LASST370000000000003\n",
      "51\n",
      "Can not get info for series: LASST380000000000003\n",
      "51\n",
      "Can not get info for series: LASST390000000000003\n",
      "51\n",
      "Can not get info for series: LASST400000000000003\n",
      "51\n",
      "Can not get info for series: LASST410000000000003\n",
      "51\n",
      "Can not get info for series: LASST420000000000003\n",
      "51\n",
      "Can not get info for series: LASST430000000000003\n",
      "51\n",
      "Can not get info for series: LASST440000000000003\n",
      "51\n",
      "Can not get info for series: LASST450000000000003\n",
      "51\n",
      "Can not get info for series: LASST460000000000003\n",
      "51\n",
      "Can not get info for series: LASST470000000000003\n",
      "51\n",
      "Can not get info for series: LASST480000000000003\n",
      "51\n",
      "Can not get info for series: LASST490000000000003\n",
      "51\n",
      "Can not get info for series: LASST500000000000003\n",
      "51\n",
      "Can not get info for series: LASST510000000000003\n",
      "51\n",
      "Can not get info for series: LASST520000000000003\n",
      "51\n",
      "Can not get info for series: LASST530000000000003\n",
      "51\n",
      "Can not get info for series: LASST540000000000003\n",
      "51\n",
      "Can not get info for series: LASST550000000000003\n",
      "51\n",
      "Can not get info for series: LASST560000000000003\n",
      "51\n"
     ]
    }
   ],
   "source": [
    "state = []\n",
    "unemployment_rate = []\n",
    "\n",
    "for series in [series_list, series_list_2]: \n",
    "    default_url = 'https://api.bls.gov/publicAPI/v2/timeseries/data/'\n",
    "    params = {\n",
    "        'seriesid':series,\n",
    "        'registrationkey':bls_api_key,\n",
    "        'catalog':True,\n",
    "        'startyear':'2018',\n",
    "        'endyear':'2018',\n",
    "        'calculations':True,\n",
    "        'annualaverage':True\n",
    "    }\n",
    "\n",
    "    headers = {'Content-type': 'application/json'}\n",
    "    data = json.dumps(params)\n",
    "    p = requests.post('https://api.bls.gov/publicAPI/v2/timeseries/data/', data=data, headers=headers)\n",
    "    json_data = json.loads(p.text)\n",
    "    \n",
    "    for i in range(len(series_list)):\n",
    "        try:\n",
    "            state.append(json_data['Results']['series'][i]['catalog']['area'])\n",
    "            unemployment_rate.append(json_data['Results']['series'][i]['data'][0]['value'])\n",
    "        except:\n",
    "            print(f\"Can not get info for series: {series_list[i]}\")\n"
   ]
  },
  {
   "cell_type": "code",
   "execution_count": 74,
   "metadata": {},
   "outputs": [
    {
     "name": "stdout",
     "output_type": "stream",
     "text": [
      "Alaska\n",
      "dict_keys(['year', 'period', 'periodName', 'value', 'footnotes', 'calculations'])\n",
      "3.8\n"
     ]
    }
   ],
   "source": [
    "print(json_data['Results']['series'][1]['catalog']['area'])\n",
    "print(json_data['Results']['series'][0]['data'][0].keys())\n",
    "print(json_data['Results']['series'][0]['data'][0]['value'])"
   ]
  },
  {
   "cell_type": "code",
   "execution_count": 116,
   "metadata": {
    "scrolled": true
   },
   "outputs": [],
   "source": [
    "# Create data frame\n",
    "unemployment_data = pd.DataFrame({'unemployment_rate':unemployment_rate}, index=state)\n",
    "unemployment_data.reset_index(inplace=True)\n",
    "unemployment_data.columns = ['State','unemployment_rate']\n",
    "unemployment_data['unemployment_rate'] = unemployment_data['unemployment_rate'].astype(float)\n",
    "unemployment_data.head()\n",
    "\n",
    "# Export to CSV to save on API calls\n",
    "unemployment_data.to_csv('./output/unemployment_rates_by_state.csv', index=False)"
   ]
  },
  {
   "cell_type": "code",
   "execution_count": 112,
   "metadata": {},
   "outputs": [
    {
     "data": {
      "text/plain": [
       "count    51.000000\n",
       "mean      3.735294\n",
       "std       0.841861\n",
       "min       2.400000\n",
       "25%       3.100000\n",
       "50%       3.700000\n",
       "75%       4.250000\n",
       "max       6.500000\n",
       "Name: unemployment_rate, dtype: float64"
      ]
     },
     "execution_count": 112,
     "metadata": {},
     "output_type": "execute_result"
    }
   ],
   "source": [
    "unemployment_data['unemployment_rate'].describe()"
   ]
  },
  {
   "cell_type": "code",
   "execution_count": 113,
   "metadata": {},
   "outputs": [
    {
     "data": {
      "text/plain": [
       "<matplotlib.axes._subplots.AxesSubplot at 0x11c7d9cc0>"
      ]
     },
     "execution_count": 113,
     "metadata": {},
     "output_type": "execute_result"
    },
    {
     "data": {
      "image/png": "[encoded data removed]",
      "text/plain": [
       "<Figure size 432x288 with 1 Axes>"
      ]
     },
     "metadata": {
      "needs_background": "light"
     },
     "output_type": "display_data"
    }
   ],
   "source": [
    "# Graph\n",
    "unemployment_data.boxplot('unemployment_rate')"
   ]
  },
  {
   "cell_type": "code",
   "execution_count": 114,
   "metadata": {},
   "outputs": [
    {
     "data": {
      "text/html": [
       "<div>\n",
       "<style scoped>\n",
       "    .dataframe tbody tr th:only-of-type {\n",
       "        vertical-align: middle;\n",
       "    }\n",
       "\n",
       "    .dataframe tbody tr th {\n",
       "        vertical-align: top;\n",
       "    }\n",
       "\n",
       "    .dataframe thead th {\n",
       "        text-align: right;\n",
       "    }\n",
       "</style>\n",
       "<table border=\"1\" class=\"dataframe\">\n",
       "  <thead>\n",
       "    <tr style=\"text-align: right;\">\n",
       "      <th></th>\n",
       "      <th>State</th>\n",
       "      <th>unemployment_rate</th>\n",
       "    </tr>\n",
       "  </thead>\n",
       "  <tbody>\n",
       "    <tr>\n",
       "      <th>1</th>\n",
       "      <td>Alaska</td>\n",
       "      <td>6.5</td>\n",
       "    </tr>\n",
       "  </tbody>\n",
       "</table>\n",
       "</div>"
      ],
      "text/plain": [
       "    State  unemployment_rate\n",
       "1  Alaska                6.5"
      ]
     },
     "execution_count": 114,
     "metadata": {},
     "output_type": "execute_result"
    }
   ],
   "source": [
    "# Get outlier\n",
    "unemployment_data[unemployment_data['unemployment_rate'] == 6.5]"
   ]
  },
  {
   "cell_type": "code",
   "execution_count": 115,
   "metadata": {},
   "outputs": [
    {
     "data": {
      "text/plain": [
       "<matplotlib.axes._subplots.AxesSubplot at 0x11c598128>"
      ]
     },
     "execution_count": 115,
     "metadata": {},
     "output_type": "execute_result"
    },
    {
     "data": {
      "image/png": "[encoded data removed]",
      "text/plain": [
       "<Figure size 432x288 with 1 Axes>"
      ]
     },
     "metadata": {
      "needs_background": "light"
     },
     "output_type": "display_data"
    }
   ],
   "source": [
    "sns.distplot(unemployment_data['unemployment_rate'])"
   ]
  },
  {
   "cell_type": "markdown",
   "metadata": {},
   "source": [
    "### State and County Wages\n",
    "(Quarterly Census of Employment & Wages - QCEW)"
   ]
  },
  {
   "cell_type": "code",
   "execution_count": 368,
   "metadata": {},
   "outputs": [
    {
     "data": {
      "text/html": [
       "<div>\n",
       "<style scoped>\n",
       "    .dataframe tbody tr th:only-of-type {\n",
       "        vertical-align: middle;\n",
       "    }\n",
       "\n",
       "    .dataframe tbody tr th {\n",
       "        vertical-align: top;\n",
       "    }\n",
       "\n",
       "    .dataframe thead th {\n",
       "        text-align: right;\n",
       "    }\n",
       "</style>\n",
       "<table border=\"1\" class=\"dataframe\">\n",
       "  <thead>\n",
       "    <tr style=\"text-align: right;\">\n",
       "      <th></th>\n",
       "      <th>area_fips</th>\n",
       "      <th>area_title</th>\n",
       "    </tr>\n",
       "  </thead>\n",
       "  <tbody>\n",
       "    <tr>\n",
       "      <th>0</th>\n",
       "      <td>1000</td>\n",
       "      <td>Alabama -- Statewide</td>\n",
       "    </tr>\n",
       "    <tr>\n",
       "      <th>1</th>\n",
       "      <td>1001</td>\n",
       "      <td>Autauga County, Alabama</td>\n",
       "    </tr>\n",
       "    <tr>\n",
       "      <th>2</th>\n",
       "      <td>1003</td>\n",
       "      <td>Baldwin County, Alabama</td>\n",
       "    </tr>\n",
       "    <tr>\n",
       "      <th>3</th>\n",
       "      <td>1005</td>\n",
       "      <td>Barbour County, Alabama</td>\n",
       "    </tr>\n",
       "    <tr>\n",
       "      <th>4</th>\n",
       "      <td>1007</td>\n",
       "      <td>Bibb County, Alabama</td>\n",
       "    </tr>\n",
       "  </tbody>\n",
       "</table>\n",
       "</div>"
      ],
      "text/plain": [
       "   area_fips               area_title\n",
       "0       1000     Alabama -- Statewide\n",
       "1       1001  Autauga County, Alabama\n",
       "2       1003  Baldwin County, Alabama\n",
       "3       1005  Barbour County, Alabama\n",
       "4       1007     Bibb County, Alabama"
      ]
     },
     "execution_count": 368,
     "metadata": {},
     "output_type": "execute_result"
    }
   ],
   "source": [
    "# Import table mapping series to county, state for use in API data pull\n",
    "county_index = pd.read_csv('./data/area_titles.csv')\n",
    "county_index.head()"
   ]
  },
  {
   "cell_type": "code",
   "execution_count": 369,
   "metadata": {},
   "outputs": [],
   "source": [
    "# Separate County name and State name\n",
    "def split_state_county(s,index):\n",
    "    if len(s.split(\",\")) > 1:\n",
    "        return s.split(\",\")[index].strip()\n",
    "\n",
    "county_index['County'] = county_index['area_title'].apply(split_state_county, args=(0,))\n",
    "county_index['State'] = county_index['area_title'].apply(split_state_county, args=(1,))\n",
    "\n",
    "# Drop area_title\n",
    "county_index.drop('area_title',axis=1,inplace=True)\n",
    "\n"
   ]
  },
  {
   "cell_type": "code",
   "execution_count": 370,
   "metadata": {},
   "outputs": [
    {
     "name": "stdout",
     "output_type": "stream",
     "text": [
      "<class 'pandas.core.frame.DataFrame'>\n",
      "RangeIndex: 3515 entries, 0 to 3514\n",
      "Data columns (total 3 columns):\n",
      "area_fips    3515 non-null int64\n",
      "County       3405 non-null object\n",
      "State        3405 non-null object\n",
      "dtypes: int64(1), object(2)\n",
      "memory usage: 82.5+ KB\n",
      "<class 'pandas.core.frame.DataFrame'>\n",
      "Int64Index: 3405 entries, 1 to 3514\n",
      "Data columns (total 3 columns):\n",
      "area_fips    3405 non-null int64\n",
      "County       3405 non-null object\n",
      "State        3405 non-null object\n",
      "dtypes: int64(1), object(2)\n",
      "memory usage: 106.4+ KB\n"
     ]
    },
    {
     "data": {
      "text/html": [
       "<div>\n",
       "<style scoped>\n",
       "    .dataframe tbody tr th:only-of-type {\n",
       "        vertical-align: middle;\n",
       "    }\n",
       "\n",
       "    .dataframe tbody tr th {\n",
       "        vertical-align: top;\n",
       "    }\n",
       "\n",
       "    .dataframe thead th {\n",
       "        text-align: right;\n",
       "    }\n",
       "</style>\n",
       "<table border=\"1\" class=\"dataframe\">\n",
       "  <thead>\n",
       "    <tr style=\"text-align: right;\">\n",
       "      <th></th>\n",
       "      <th>area_fips</th>\n",
       "      <th>County</th>\n",
       "      <th>State</th>\n",
       "    </tr>\n",
       "  </thead>\n",
       "  <tbody>\n",
       "    <tr>\n",
       "      <th>1</th>\n",
       "      <td>1001</td>\n",
       "      <td>Autauga County</td>\n",
       "      <td>Alabama</td>\n",
       "    </tr>\n",
       "    <tr>\n",
       "      <th>2</th>\n",
       "      <td>1003</td>\n",
       "      <td>Baldwin County</td>\n",
       "      <td>Alabama</td>\n",
       "    </tr>\n",
       "    <tr>\n",
       "      <th>3</th>\n",
       "      <td>1005</td>\n",
       "      <td>Barbour County</td>\n",
       "      <td>Alabama</td>\n",
       "    </tr>\n",
       "    <tr>\n",
       "      <th>4</th>\n",
       "      <td>1007</td>\n",
       "      <td>Bibb County</td>\n",
       "      <td>Alabama</td>\n",
       "    </tr>\n",
       "    <tr>\n",
       "      <th>5</th>\n",
       "      <td>1009</td>\n",
       "      <td>Blount County</td>\n",
       "      <td>Alabama</td>\n",
       "    </tr>\n",
       "  </tbody>\n",
       "</table>\n",
       "</div>"
      ],
      "text/plain": [
       "   area_fips          County    State\n",
       "1       1001  Autauga County  Alabama\n",
       "2       1003  Baldwin County  Alabama\n",
       "3       1005  Barbour County  Alabama\n",
       "4       1007     Bibb County  Alabama\n",
       "5       1009   Blount County  Alabama"
      ]
     },
     "execution_count": 370,
     "metadata": {},
     "output_type": "execute_result"
    }
   ],
   "source": [
    "county_index.info()\n",
    "county_index = county_index.dropna()\n",
    "county_index.info()\n",
    "county_index.head()"
   ]
  },
  {
   "cell_type": "code",
   "execution_count": 371,
   "metadata": {},
   "outputs": [
    {
     "data": {
      "text/html": [
       "<div>\n",
       "<style scoped>\n",
       "    .dataframe tbody tr th:only-of-type {\n",
       "        vertical-align: middle;\n",
       "    }\n",
       "\n",
       "    .dataframe tbody tr th {\n",
       "        vertical-align: top;\n",
       "    }\n",
       "\n",
       "    .dataframe thead th {\n",
       "        text-align: right;\n",
       "    }\n",
       "</style>\n",
       "<table border=\"1\" class=\"dataframe\">\n",
       "  <thead>\n",
       "    <tr style=\"text-align: right;\">\n",
       "      <th></th>\n",
       "      <th>State</th>\n",
       "      <th>County</th>\n",
       "    </tr>\n",
       "  </thead>\n",
       "  <tbody>\n",
       "    <tr>\n",
       "      <th>0</th>\n",
       "      <td>Florida</td>\n",
       "      <td>Miami-Dade County</td>\n",
       "    </tr>\n",
       "    <tr>\n",
       "      <th>1</th>\n",
       "      <td>California</td>\n",
       "      <td>Stanislaus County</td>\n",
       "    </tr>\n",
       "    <tr>\n",
       "      <th>2</th>\n",
       "      <td>Oregon</td>\n",
       "      <td>Multnomah County</td>\n",
       "    </tr>\n",
       "    <tr>\n",
       "      <th>3</th>\n",
       "      <td>Texas</td>\n",
       "      <td>Dallas County</td>\n",
       "    </tr>\n",
       "    <tr>\n",
       "      <th>4</th>\n",
       "      <td>California</td>\n",
       "      <td>Orange County</td>\n",
       "    </tr>\n",
       "    <tr>\n",
       "      <th>5</th>\n",
       "      <td>California</td>\n",
       "      <td>Orange County</td>\n",
       "    </tr>\n",
       "    <tr>\n",
       "      <th>6</th>\n",
       "      <td>California</td>\n",
       "      <td>Orange County</td>\n",
       "    </tr>\n",
       "    <tr>\n",
       "      <th>7</th>\n",
       "      <td>Iowa</td>\n",
       "      <td>Linn County</td>\n",
       "    </tr>\n",
       "    <tr>\n",
       "      <th>8</th>\n",
       "      <td>Connecticut</td>\n",
       "      <td>New Haven County</td>\n",
       "    </tr>\n",
       "    <tr>\n",
       "      <th>9</th>\n",
       "      <td>Washington</td>\n",
       "      <td>King County</td>\n",
       "    </tr>\n",
       "  </tbody>\n",
       "</table>\n",
       "</div>"
      ],
      "text/plain": [
       "         State             County\n",
       "0      Florida  Miami-Dade County\n",
       "1   California  Stanislaus County\n",
       "2       Oregon   Multnomah County\n",
       "3        Texas      Dallas County\n",
       "4   California      Orange County\n",
       "5   California      Orange County\n",
       "6   California      Orange County\n",
       "7         Iowa        Linn County\n",
       "8  Connecticut   New Haven County\n",
       "9   Washington        King County"
      ]
     },
     "execution_count": 371,
     "metadata": {},
     "output_type": "execute_result"
    }
   ],
   "source": [
    "# Join with Master dataset to reduce the number of API calls\n",
    "master = pd.read_csv('./output/master_data.csv')\n",
    "master = master[['State','County']]\n",
    "master.head(10)"
   ]
  },
  {
   "cell_type": "code",
   "execution_count": 372,
   "metadata": {
    "scrolled": true
   },
   "outputs": [
    {
     "data": {
      "text/html": [
       "<div>\n",
       "<style scoped>\n",
       "    .dataframe tbody tr th:only-of-type {\n",
       "        vertical-align: middle;\n",
       "    }\n",
       "\n",
       "    .dataframe tbody tr th {\n",
       "        vertical-align: top;\n",
       "    }\n",
       "\n",
       "    .dataframe thead th {\n",
       "        text-align: right;\n",
       "    }\n",
       "</style>\n",
       "<table border=\"1\" class=\"dataframe\">\n",
       "  <thead>\n",
       "    <tr style=\"text-align: right;\">\n",
       "      <th></th>\n",
       "      <th>State</th>\n",
       "      <th>County</th>\n",
       "    </tr>\n",
       "  </thead>\n",
       "  <tbody>\n",
       "    <tr>\n",
       "      <th>0</th>\n",
       "      <td>Florida</td>\n",
       "      <td>Miami-Dade County</td>\n",
       "    </tr>\n",
       "    <tr>\n",
       "      <th>1</th>\n",
       "      <td>California</td>\n",
       "      <td>Stanislaus County</td>\n",
       "    </tr>\n",
       "    <tr>\n",
       "      <th>2</th>\n",
       "      <td>Oregon</td>\n",
       "      <td>Multnomah County</td>\n",
       "    </tr>\n",
       "    <tr>\n",
       "      <th>3</th>\n",
       "      <td>Texas</td>\n",
       "      <td>Dallas County</td>\n",
       "    </tr>\n",
       "    <tr>\n",
       "      <th>4</th>\n",
       "      <td>California</td>\n",
       "      <td>Orange County</td>\n",
       "    </tr>\n",
       "    <tr>\n",
       "      <th>7</th>\n",
       "      <td>Iowa</td>\n",
       "      <td>Linn County</td>\n",
       "    </tr>\n",
       "    <tr>\n",
       "      <th>8</th>\n",
       "      <td>Connecticut</td>\n",
       "      <td>New Haven County</td>\n",
       "    </tr>\n",
       "    <tr>\n",
       "      <th>9</th>\n",
       "      <td>Washington</td>\n",
       "      <td>King County</td>\n",
       "    </tr>\n",
       "    <tr>\n",
       "      <th>10</th>\n",
       "      <td>Virginia</td>\n",
       "      <td>Hampton City</td>\n",
       "    </tr>\n",
       "    <tr>\n",
       "      <th>11</th>\n",
       "      <td>Virginia</td>\n",
       "      <td>Virginia Beach City</td>\n",
       "    </tr>\n",
       "  </tbody>\n",
       "</table>\n",
       "</div>"
      ],
      "text/plain": [
       "          State               County\n",
       "0       Florida    Miami-Dade County\n",
       "1    California    Stanislaus County\n",
       "2        Oregon     Multnomah County\n",
       "3         Texas        Dallas County\n",
       "4    California        Orange County\n",
       "7          Iowa          Linn County\n",
       "8   Connecticut     New Haven County\n",
       "9    Washington          King County\n",
       "10     Virginia         Hampton City\n",
       "11     Virginia  Virginia Beach City"
      ]
     },
     "execution_count": 372,
     "metadata": {},
     "output_type": "execute_result"
    }
   ],
   "source": [
    "# Drop duplicates from master\n",
    "master_deduped = master.drop_duplicates(['State','County'])\n",
    "master_deduped.head(10)"
   ]
  },
  {
   "cell_type": "code",
   "execution_count": 373,
   "metadata": {},
   "outputs": [
    {
     "name": "stdout",
     "output_type": "stream",
     "text": [
      "<class 'pandas.core.frame.DataFrame'>\n",
      "MultiIndex: 159 entries, (Alabama, Jefferson County) to (Wisconsin, Milwaukee County)\n",
      "Data columns (total 1 columns):\n",
      "area_fips    159 non-null int64\n",
      "dtypes: int64(1)\n",
      "memory usage: 3.4+ KB\n"
     ]
    }
   ],
   "source": [
    "# Set indexes\n",
    "county_index_for_join = county_index.set_index(['State','County'])\n",
    "master_deduped = master_deduped.set_index(['State','County'])\n",
    "\n",
    "# Perform join\n",
    "county_index_filtered = master_deduped.join(county_index_for_join, how='inner')\n",
    "county_index_filtered.info()"
   ]
  },
  {
   "cell_type": "code",
   "execution_count": 374,
   "metadata": {
    "scrolled": false
   },
   "outputs": [
    {
     "data": {
      "text/html": [
       "<div>\n",
       "<style scoped>\n",
       "    .dataframe tbody tr th:only-of-type {\n",
       "        vertical-align: middle;\n",
       "    }\n",
       "\n",
       "    .dataframe tbody tr th {\n",
       "        vertical-align: top;\n",
       "    }\n",
       "\n",
       "    .dataframe thead th {\n",
       "        text-align: right;\n",
       "    }\n",
       "</style>\n",
       "<table border=\"1\" class=\"dataframe\">\n",
       "  <thead>\n",
       "    <tr style=\"text-align: right;\">\n",
       "      <th></th>\n",
       "      <th>State</th>\n",
       "      <th>County</th>\n",
       "      <th>area_fips</th>\n",
       "    </tr>\n",
       "  </thead>\n",
       "  <tbody>\n",
       "    <tr>\n",
       "      <th>154</th>\n",
       "      <td>Washington</td>\n",
       "      <td>King County</td>\n",
       "      <td>53033</td>\n",
       "    </tr>\n",
       "    <tr>\n",
       "      <th>155</th>\n",
       "      <td>Washington</td>\n",
       "      <td>Pierce County</td>\n",
       "      <td>53053</td>\n",
       "    </tr>\n",
       "    <tr>\n",
       "      <th>156</th>\n",
       "      <td>Washington</td>\n",
       "      <td>Snohomish County</td>\n",
       "      <td>53061</td>\n",
       "    </tr>\n",
       "    <tr>\n",
       "      <th>157</th>\n",
       "      <td>Wisconsin</td>\n",
       "      <td>Dane County</td>\n",
       "      <td>55025</td>\n",
       "    </tr>\n",
       "    <tr>\n",
       "      <th>158</th>\n",
       "      <td>Wisconsin</td>\n",
       "      <td>Milwaukee County</td>\n",
       "      <td>55079</td>\n",
       "    </tr>\n",
       "  </tbody>\n",
       "</table>\n",
       "</div>"
      ],
      "text/plain": [
       "          State            County  area_fips\n",
       "154  Washington       King County      53033\n",
       "155  Washington     Pierce County      53053\n",
       "156  Washington  Snohomish County      53061\n",
       "157   Wisconsin       Dane County      55025\n",
       "158   Wisconsin  Milwaukee County      55079"
      ]
     },
     "execution_count": 374,
     "metadata": {},
     "output_type": "execute_result"
    }
   ],
   "source": [
    "counties = county_index_filtered.reset_index()\n",
    "counties.head()\n",
    "counties.tail()"
   ]
  },
  {
   "cell_type": "code",
   "execution_count": 375,
   "metadata": {},
   "outputs": [
    {
     "data": {
      "text/plain": [
       "159"
      ]
     },
     "execution_count": 375,
     "metadata": {},
     "output_type": "execute_result"
    }
   ],
   "source": [
    "len(series_list)"
   ]
  },
  {
   "cell_type": "code",
   "execution_count": 299,
   "metadata": {
    "scrolled": false
   },
   "outputs": [
    {
     "name": "stdout",
     "output_type": "stream",
     "text": [
      "['ENU0107310010', 'ENU0109710010', 'ENU0110110010', 'ENU0112510010', 'ENU0401310010', 'ENU0401910010', 'ENU0511910010', 'ENU0600110010', 'ENU0601310010', 'ENU0601910010', 'ENU0602910010', 'ENU0603710010', 'ENU0605310010', 'ENU0605910010', 'ENU0606110010', 'ENU0606510010', 'ENU0606710010', 'ENU0607110010', 'ENU0607310010', 'ENU0607510010', 'ENU0607710010', 'ENU0608110010', 'ENU0608510010', 'ENU0609510010', 'ENU0609710010', 'ENU0609910010', 'ENU0611110010', 'ENU0800110010', 'ENU0800510010', 'ENU0801310010', 'ENU0803110010', 'ENU0804110010', 'ENU0805910010', 'ENU0806910010', 'ENU0810110010', 'ENU0900110010', 'ENU0900310010', 'ENU0900910010', 'ENU1200110010', 'ENU1201110010']\n",
      "['ENU1203110010', 'ENU1205710010', 'ENU1208610010', 'ENU1209510010', 'ENU1209910010', 'ENU1210310010', 'ENU1302110010', 'ENU1312110010', 'ENU1321510010', 'ENU1500310010', 'ENU1600110010', 'ENU1703110010', 'ENU1704310010', 'ENU1708910010', 'ENU1714310010', 'ENU1716710010', 'ENU1720110010', 'ENU1800310010', 'ENU1809710010', 'ENU1816310010', 'ENU1911310010', 'ENU1915310010', 'ENU1916310010', 'ENU2009110010', 'ENU2017710010', 'ENU2020910010', 'ENU2106710010', 'ENU2111110010', 'ENU2201710010', 'ENU2203310010', 'ENU2207110010', 'ENU2451010010', 'ENU2501710010', 'ENU2502510010', 'ENU2606510010', 'ENU2616110010', 'ENU2705310010', 'ENU2712310010', 'ENU2901910010', 'ENU2907710010']\n",
      "['ENU2909510010', 'ENU3011110010', 'ENU3105510010', 'ENU3110910010', 'ENU3200310010', 'ENU3301110010', 'ENU3401310010', 'ENU3401710010', 'ENU3402310010', 'ENU3403110010', 'ENU3500110010', 'ENU3602910010', 'ENU3605510010', 'ENU3606710010', 'ENU3608110010', 'ENU3611910010', 'ENU3705110010', 'ENU3706310010', 'ENU3708110010', 'ENU3711910010', 'ENU3712910010', 'ENU3718310010', 'ENU3801710010', 'ENU3904910010', 'ENU3906110010', 'ENU3909510010', 'ENU3911310010', 'ENU3915310010', 'ENU4002710010', 'ENU4010910010', 'ENU4014310010', 'ENU4104710010', 'ENU4105110010', 'ENU4106710010', 'ENU4200310010', 'ENU4207710010', 'ENU4210110010', 'ENU4400710010', 'ENU4501910010', 'ENU4507910010']\n",
      "['ENU4609910010', 'ENU4703710010', 'ENU4714910010', 'ENU4715710010', 'ENU4802710010', 'ENU4802910010', 'ENU4803910010', 'ENU4808510010', 'ENU4811310010', 'ENU4812110010', 'ENU4814110010', 'ENU4815710010', 'ENU4816710010', 'ENU4820110010', 'ENU4821510010', 'ENU4830310010', 'ENU4830910010', 'ENU4835510010', 'ENU4837510010', 'ENU4842310010', 'ENU4843910010', 'ENU4844110010', 'ENU4845310010', 'ENU4847910010', 'ENU4849110010', 'ENU4903510010', 'ENU5151010010', 'ENU5155010010', 'ENU5165010010', 'ENU5170010010', 'ENU5171010010', 'ENU5176010010', 'ENU5181010010', 'ENU5301110010', 'ENU5303310010', 'ENU5305310010', 'ENU5306110010', 'ENU5502510010', 'ENU5507910010']\n"
     ]
    }
   ],
   "source": [
    "series_list=[]\n",
    "for area_code in counties['area_fips']:\n",
    "    if len(str(area_code)) < 5:\n",
    "        series_list.append(f\"ENU0{area_code}10010\")\n",
    "    else:\n",
    "        series_list.append(f\"ENU{area_code}10010\")\n",
    "series_list\n",
    "\n",
    "# API only allows for up to 50 calls at once -- will split call\n",
    "def chunks(l, n):\n",
    "    n = max(1, n)\n",
    "    return (l[i:i+n] for i in range(0, len(l), n))\n",
    "\n",
    "for i in chunks(series_list,40):\n",
    "    print(i)"
   ]
  },
  {
   "cell_type": "code",
   "execution_count": 307,
   "metadata": {},
   "outputs": [],
   "source": [
    "series_name = []\n",
    "wage_data = [] # pct change over 12 month period\n",
    "\n",
    "for series in chunks(series_list,40): \n",
    "    default_url = 'https://api.bls.gov/publicAPI/v2/timeseries/data/'\n",
    "    params = {\n",
    "        'seriesid':series,\n",
    "        'registrationkey':bls_api_key,\n",
    "        'catalog':True,\n",
    "        'startyear':'2018',\n",
    "        'endyear':'2018',\n",
    "        'calculations':True,\n",
    "        'annualaverage':True\n",
    "    }\n",
    "\n",
    "    headers = {'Content-type': 'application/json'}\n",
    "    data = json.dumps(params)\n",
    "    p = requests.post('https://api.bls.gov/publicAPI/v2/timeseries/data/', data=data, headers=headers)\n",
    "    json_data = json.loads(p.text)\n",
    "    \n",
    "    for i in range(4):\n",
    "        try:\n",
    "            series_name.append(json_data['Results']['series'][i]['seriesID'])\n",
    "            wage_data.append(json_data['Results']['series'][i]['data'][0]['calculations']['pct_changes']['12'])\n",
    "        except:\n",
    "            print(f\"Can not get info for series: {series_list[i]}\")\n"
   ]
  },
  {
   "cell_type": "code",
   "execution_count": 376,
   "metadata": {},
   "outputs": [
    {
     "name": "stdout",
     "output_type": "stream",
     "text": [
      "{'status': 'REQUEST_SUCCEEDED', 'responseTime': 632, 'message': ['Unable to get Catalog Data for series ENU4609910010', 'Unable to get Catalog Data for series ENU4703710010', 'Unable to get Catalog Data for series ENU4714910010', 'Unable to get Catalog Data for series ENU4715710010', 'Unable to get Catalog Data for series ENU4802710010', 'Unable to get Catalog Data for series ENU4802910010', 'Unable to get Catalog Data for series ENU4803910010', 'Unable to get Catalog Data for series ENU4808510010', 'Unable to get Catalog Data for series ENU4811310010', 'Unable to get Catalog Data for series ENU4812110010', 'Unable to get Catalog Data for series ENU4814110010', 'Unable to get Catalog Data for series ENU4815710010', 'Unable to get Catalog Data for series ENU4816710010', 'Unable to get Catalog Data for series ENU4820110010', 'Unable to get Catalog Data for series ENU4821510010', 'Unable to get Catalog Data for series ENU4830310010', 'Unable to get Catalog Data for series ENU4830910010', 'Unable to get Catalog Data for series ENU4835510010', 'Unable to get Catalog Data for series ENU4837510010', 'Unable to get Catalog Data for series ENU4842310010', 'Unable to get Catalog Data for series ENU4843910010', 'Unable to get Catalog Data for series ENU4844110010', 'Unable to get Catalog Data for series ENU4845310010', 'Unable to get Catalog Data for series ENU4847910010', 'Unable to get Catalog Data for series ENU4849110010', 'Unable to get Catalog Data for series ENU4903510010', 'Unable to get Catalog Data for series ENU5151010010', 'Unable to get Catalog Data for series ENU5155010010', 'Unable to get Catalog Data for series ENU5165010010', 'Unable to get Catalog Data for series ENU5170010010', 'Unable to get Catalog Data for series ENU5171010010', 'Unable to get Catalog Data for series ENU5176010010', 'Unable to get Catalog Data for series ENU5181010010', 'Unable to get Catalog Data for series ENU5301110010', 'Unable to get Catalog Data for series ENU5303310010', 'Unable to get Catalog Data for series ENU5305310010', 'Unable to get Catalog Data for series ENU5306110010', 'Unable to get Catalog Data for series ENU5502510010', 'Unable to get Catalog Data for series ENU5507910010'], 'Results': {'series': [{'seriesID': 'ENU4609910010', 'data': [{'year': '2018', 'period': 'M13', 'periodName': 'Annual', 'latest': 'true', 'value': '126793', 'footnotes': [{'code': 'P', 'text': 'Preliminary.'}], 'calculations': {'net_changes': {'1': '-1776', '3': '-1138', '6': '640', '12': '1379'}, 'pct_changes': {'1': '-1.4', '3': '-0.9', '6': '0.5', '12': '1.1'}}}, {'year': '2018', 'period': 'M12', 'periodName': 'December', 'value': '128569', 'footnotes': [{'code': 'P', 'text': 'Preliminary.'}], 'calculations': {'net_changes': {'1': '307', '3': '900', '6': '-229', '12': '1855'}, 'pct_changes': {'1': '0.2', '3': '0.7', '6': '-0.2', '12': '1.5'}}}, {'year': '2018', 'period': 'M11', 'periodName': 'November', 'value': '128262', 'footnotes': [{'code': 'P', 'text': 'Preliminary.'}], 'calculations': {'net_changes': {'1': '331', '3': '1771', '6': '539', '12': '1697'}, 'pct_changes': {'1': '0.3', '3': '1.4', '6': '0.4', '12': '1.3'}}}, {'year': '2018', 'period': 'M10', 'periodName': 'October', 'value': '127931', 'footnotes': [{'code': 'P', 'text': 'Preliminary.'}], 'calculations': {'net_changes': {'1': '262', '3': '1778', '6': '2352', '12': '1778'}, 'pct_changes': {'1': '0.2', '3': '1.4', '6': '1.9', '12': '1.4'}}}, {'year': '2018', 'period': 'M09', 'periodName': 'September', 'value': '127669', 'footnotes': [{'code': 'P', 'text': 'Preliminary.'}], 'calculations': {'net_changes': {'1': '1178', '3': '-1129', '6': '2442', '12': '1923'}, 'pct_changes': {'1': '0.9', '3': '-0.9', '6': '2.0', '12': '1.5'}}}, {'year': '2018', 'period': 'M08', 'periodName': 'August', 'value': '126491', 'footnotes': [{'code': 'P', 'text': 'Preliminary.'}], 'calculations': {'net_changes': {'1': '338', '3': '-1232', '6': '1719', '12': '1866'}, 'pct_changes': {'1': '0.3', '3': '-1.0', '6': '1.4', '12': '1.5'}}}, {'year': '2018', 'period': 'M07', 'periodName': 'July', 'value': '126153', 'footnotes': [{'code': 'P', 'text': 'Preliminary.'}], 'calculations': {'net_changes': {'1': '-2645', '3': '574', '6': '1813', '12': '1345'}, 'pct_changes': {'1': '-2.1', '3': '0.5', '6': '1.5', '12': '1.1'}}}, {'year': '2018', 'period': 'M06', 'periodName': 'June', 'value': '128798', 'footnotes': [{'code': 'P', 'text': 'Preliminary.'}], 'calculations': {'net_changes': {'1': '1075', '3': '3571', '6': '2084', '12': '1282'}, 'pct_changes': {'1': '0.8', '3': '2.9', '6': '1.6', '12': '1.0'}}}, {'year': '2018', 'period': 'M05', 'periodName': 'May', 'value': '127723', 'footnotes': [{'code': 'P', 'text': 'Preliminary.'}], 'calculations': {'net_changes': {'1': '2144', '3': '2951', '6': '1158', '12': '1086'}, 'pct_changes': {'1': '1.7', '3': '2.4', '6': '0.9', '12': '0.9'}}}, {'year': '2018', 'period': 'M04', 'periodName': 'April', 'value': '125579', 'footnotes': [{'code': 'P', 'text': 'Preliminary.'}], 'calculations': {'net_changes': {'1': '352', '3': '1239', '6': '-574', '12': '125'}, 'pct_changes': {'1': '0.3', '3': '1.0', '6': '-0.5', '12': '0.1'}}}, {'year': '2018', 'period': 'M03', 'periodName': 'March', 'value': '125227', 'footnotes': [{'code': 'P', 'text': 'Preliminary.'}], 'calculations': {'net_changes': {'1': '455', '3': '-1487', '6': '-519', '12': '1198'}, 'pct_changes': {'1': '0.4', '3': '-1.2', '6': '-0.4', '12': '1.0'}}}, {'year': '2018', 'period': 'M02', 'periodName': 'February', 'value': '124772', 'footnotes': [{'code': 'P', 'text': 'Preliminary.'}], 'calculations': {'net_changes': {'1': '432', '3': '-1793', '6': '147', '12': '1446'}, 'pct_changes': {'1': '0.3', '3': '-1.4', '6': '0.1', '12': '1.2'}}}, {'year': '2018', 'period': 'M01', 'periodName': 'January', 'value': '124340', 'footnotes': [{'code': 'P', 'text': 'Preliminary.'}], 'calculations': {'net_changes': {'1': '-2374', '3': '-1813', '6': '-468', '12': '941'}, 'pct_changes': {'1': '-1.9', '3': '-1.4', '6': '-0.4', '12': '0.8'}}}]}, {'seriesID': 'ENU4703710010', 'data': [{'year': '2018', 'period': 'M13', 'periodName': 'Annual', 'latest': 'true', 'value': '496162', 'footnotes': [{'code': 'P', 'text': 'Preliminary.'}], 'calculations': {'net_changes': {'1': '-11330', '3': '-8178', '6': '5843', '12': '12628'}, 'pct_changes': {'1': '-2.2', '3': '-1.6', '6': '1.2', '12': '2.6'}}}, {'year': '2018', 'period': 'M12', 'periodName': 'December', 'value': '507492', 'footnotes': [{'code': 'P', 'text': 'Preliminary.'}], 'calculations': {'net_changes': {'1': '-216', '3': '3986', '6': '8782', '12': '14532'}, 'pct_changes': {'1': '0.0', '3': '0.8', '6': '1.8', '12': '2.9'}}}, {'year': '2018', 'period': 'M11', 'periodName': 'November', 'value': '507708', 'footnotes': [{'code': 'P', 'text': 'Preliminary.'}], 'calculations': {'net_changes': {'1': '3368', '3': '6088', '6': '13918', '12': '13585'}, 'pct_changes': {'1': '0.7', '3': '1.2', '6': '2.8', '12': '2.7'}}}, {'year': '2018', 'period': 'M10', 'periodName': 'October', 'value': '504340', 'footnotes': [{'code': 'P', 'text': 'Preliminary.'}], 'calculations': {'net_changes': {'1': '834', '3': '14021', '6': '12471', '12': '12636'}, 'pct_changes': {'1': '0.2', '3': '2.9', '6': '2.5', '12': '2.6'}}}, {'year': '2018', 'period': 'M09', 'periodName': 'September', 'value': '503506', 'footnotes': [{'code': 'P', 'text': 'Preliminary.'}], 'calculations': {'net_changes': {'1': '1886', '3': '4796', '6': '15279', '12': '13835'}, 'pct_changes': {'1': '0.4', '3': '1.0', '6': '3.1', '12': '2.8'}}}, {'year': '2018', 'period': 'M08', 'periodName': 'August', 'value': '501620', 'footnotes': [{'code': 'P', 'text': 'Preliminary.'}], 'calculations': {'net_changes': {'1': '11301', '3': '7830', '6': '16248', '12': '13492'}, 'pct_changes': {'1': '2.3', '3': '1.6', '6': '3.3', '12': '2.8'}}}, {'year': '2018', 'period': 'M07', 'periodName': 'July', 'value': '490319', 'footnotes': [{'code': 'P', 'text': 'Preliminary.'}], 'calculations': {'net_changes': {'1': '-8391', '3': '-1550', '6': '9323', '12': '11077'}, 'pct_changes': {'1': '-1.7', '3': '-0.3', '6': '1.9', '12': '2.3'}}}, {'year': '2018', 'period': 'M06', 'periodName': 'June', 'value': '498710', 'footnotes': [{'code': 'P', 'text': 'Preliminary.'}], 'calculations': {'net_changes': {'1': '4920', '3': '10483', '6': '5750', '12': '12965'}, 'pct_changes': {'1': '1.0', '3': '2.1', '6': '1.2', '12': '2.7'}}}, {'year': '2018', 'period': 'M05', 'periodName': 'May', 'value': '493790', 'footnotes': [{'code': 'P', 'text': 'Preliminary.'}], 'calculations': {'net_changes': {'1': '1921', '3': '8418', '6': '-333', '12': '11530'}, 'pct_changes': {'1': '0.4', '3': '1.7', '6': '-0.1', '12': '2.4'}}}, {'year': '2018', 'period': 'M04', 'periodName': 'April', 'value': '491869', 'footnotes': [{'code': 'P', 'text': 'Preliminary.'}], 'calculations': {'net_changes': {'1': '3642', '3': '10873', '6': '165', '12': '11422'}, 'pct_changes': {'1': '0.7', '3': '2.3', '6': '0.0', '12': '2.4'}}}, {'year': '2018', 'period': 'M03', 'periodName': 'March', 'value': '488227', 'footnotes': [{'code': 'P', 'text': 'Preliminary.'}], 'calculations': {'net_changes': {'1': '2855', '3': '-4733', '6': '-1444', '12': '12321'}, 'pct_changes': {'1': '0.6', '3': '-1.0', '6': '-0.3', '12': '2.6'}}}, {'year': '2018', 'period': 'M02', 'periodName': 'February', 'value': '485372', 'footnotes': [{'code': 'P', 'text': 'Preliminary.'}], 'calculations': {'net_changes': {'1': '4376', '3': '-8751', '6': '-2756', '12': '12234'}, 'pct_changes': {'1': '0.9', '3': '-1.8', '6': '-0.6', '12': '2.6'}}}, {'year': '2018', 'period': 'M01', 'periodName': 'January', 'value': '480996', 'footnotes': [{'code': 'P', 'text': 'Preliminary.'}], 'calculations': {'net_changes': {'1': '-11964', '3': '-10708', '6': '1754', '12': '11910'}, 'pct_changes': {'1': '-2.4', '3': '-2.2', '6': '0.4', '12': '2.5'}}}]}, {'seriesID': 'ENU4714910010', 'data': [{'year': '2018', 'period': 'M13', 'periodName': 'Annual', 'latest': 'true', 'value': '130043', 'footnotes': [{'code': 'P', 'text': 'Preliminary.'}], 'calculations': {'net_changes': {'1': '-3186', '3': '-1161', '6': '1946', '12': '5452'}, 'pct_changes': {'1': '-2.4', '3': '-0.9', '6': '1.5', '12': '4.4'}}}, {'year': '2018', 'period': 'M12', 'periodName': 'December', 'value': '133229', 'footnotes': [{'code': 'P', 'text': 'Preliminary.'}], 'calculations': {'net_changes': {'1': '-444', '3': '2327', '6': '3696', '12': '4107'}, 'pct_changes': {'1': '-0.3', '3': '1.8', '6': '2.9', '12': '3.2'}}}, {'year': '2018', 'period': 'M11', 'periodName': 'November', 'value': '133673', 'footnotes': [{'code': 'P', 'text': 'Preliminary.'}], 'calculations': {'net_changes': {'1': '2469', '3': '3403', '6': '4497', '12': '4606'}, 'pct_changes': {'1': '1.9', '3': '2.6', '6': '3.5', '12': '3.6'}}}, {'year': '2018', 'period': 'M10', 'periodName': 'October', 'value': '131204', 'footnotes': [{'code': 'P', 'text': 'Preliminary.'}], 'calculations': {'net_changes': {'1': '302', '3': '3107', '6': '1892', '12': '4246'}, 'pct_changes': {'1': '0.2', '3': '2.4', '6': '1.5', '12': '3.3'}}}, {'year': '2018', 'period': 'M09', 'periodName': 'September', 'value': '130902', 'footnotes': [{'code': 'P', 'text': 'Preliminary.'}], 'calculations': {'net_changes': {'1': '632', '3': '1369', '6': '1832', '12': '4847'}, 'pct_changes': {'1': '0.5', '3': '1.1', '6': '1.4', '12': '3.8'}}}, {'year': '2018', 'period': 'M08', 'periodName': 'August', 'value': '130270', 'footnotes': [{'code': 'P', 'text': 'Preliminary.'}], 'calculations': {'net_changes': {'1': '2173', '3': '1094', '6': '1570', '12': '5730'}, 'pct_changes': {'1': '1.7', '3': '0.8', '6': '1.2', '12': '4.6'}}}, {'year': '2018', 'period': 'M07', 'periodName': 'July', 'value': '128097', 'footnotes': [{'code': 'P', 'text': 'Preliminary.'}], 'calculations': {'net_changes': {'1': '-1436', '3': '-1215', '6': '742', '12': '5414'}, 'pct_changes': {'1': '-1.1', '3': '-0.9', '6': '0.6', '12': '4.4'}}}, {'year': '2018', 'period': 'M06', 'periodName': 'June', 'value': '129533', 'footnotes': [{'code': 'P', 'text': 'Preliminary.'}], 'calculations': {'net_changes': {'1': '357', '3': '463', '6': '411', '12': '5141'}, 'pct_changes': {'1': '0.3', '3': '0.4', '6': '0.3', '12': '4.1'}}}, {'year': '2018', 'period': 'M05', 'periodName': 'May', 'value': '129176', 'footnotes': [{'code': 'P', 'text': 'Preliminary.'}], 'calculations': {'net_changes': {'1': '-136', '3': '476', '6': '109', '12': '5862'}, 'pct_changes': {'1': '-0.1', '3': '0.4', '6': '0.1', '12': '4.8'}}}, {'year': '2018', 'period': 'M04', 'periodName': 'April', 'value': '129312', 'footnotes': [{'code': 'P', 'text': 'Preliminary.'}], 'calculations': {'net_changes': {'1': '242', '3': '1957', '6': '2354', '12': '5751'}, 'pct_changes': {'1': '0.2', '3': '1.5', '6': '1.9', '12': '4.7'}}}, {'year': '2018', 'period': 'M03', 'periodName': 'March', 'value': '129070', 'footnotes': [{'code': 'P', 'text': 'Preliminary.'}], 'calculations': {'net_changes': {'1': '370', '3': '-52', '6': '3015', '12': '6182'}, 'pct_changes': {'1': '0.3', '3': '0.0', '6': '2.4', '12': '5.0'}}}, {'year': '2018', 'period': 'M02', 'periodName': 'February', 'value': '128700', 'footnotes': [{'code': 'P', 'text': 'Preliminary.'}], 'calculations': {'net_changes': {'1': '1345', '3': '-367', '6': '4160', '12': '6910'}, 'pct_changes': {'1': '1.1', '3': '-0.3', '6': '3.3', '12': '5.7'}}}, {'year': '2018', 'period': 'M01', 'periodName': 'January', 'value': '127355', 'footnotes': [{'code': 'P', 'text': 'Preliminary.'}], 'calculations': {'net_changes': {'1': '-1767', '3': '397', '6': '4672', '12': '6630'}, 'pct_changes': {'1': '-1.4', '3': '0.3', '6': '3.8', '12': '5.5'}}}]}, {'seriesID': 'ENU4715710010', 'data': [{'year': '2018', 'period': 'M13', 'periodName': 'Annual', 'latest': 'true', 'value': '499339', 'footnotes': [{'code': 'P', 'text': 'Preliminary.'}], 'calculations': {'net_changes': {'1': '-9014', '3': '-4236', '6': '-301', '12': '6405'}, 'pct_changes': {'1': '-1.8', '3': '-0.8', '6': '-0.1', '12': '1.3'}}}, {'year': '2018', 'period': 'M12', 'periodName': 'December', 'value': '508353', 'footnotes': [{'code': 'P', 'text': 'Preliminary.'}], 'calculations': {'net_changes': {'1': '-970', '3': '7310', '6': '6744', '12': '5299'}, 'pct_changes': {'1': '-0.2', '3': '1.5', '6': '1.3', '12': '1.1'}}}, {'year': '2018', 'period': 'M11', 'periodName': 'November', 'value': '509323', 'footnotes': [{'code': 'P', 'text': 'Preliminary.'}], 'calculations': {'net_changes': {'1': '5748', '3': '6837', '6': '10734', '12': '8310'}, 'pct_changes': {'1': '1.1', '3': '1.4', '6': '2.2', '12': '1.7'}}}, {'year': '2018', 'period': 'M10', 'periodName': 'October', 'value': '503575', 'footnotes': [{'code': 'P', 'text': 'Preliminary.'}], 'calculations': {'net_changes': {'1': '2532', '3': '3935', '6': '8790', '12': '7986'}, 'pct_changes': {'1': '0.5', '3': '0.8', '6': '1.8', '12': '1.6'}}}, {'year': '2018', 'period': 'M09', 'periodName': 'September', 'value': '501043', 'footnotes': [{'code': 'P', 'text': 'Preliminary.'}], 'calculations': {'net_changes': {'1': '-1443', '3': '-566', '6': '8033', '12': '7528'}, 'pct_changes': {'1': '-0.3', '3': '-0.1', '6': '1.6', '12': '1.5'}}}, {'year': '2018', 'period': 'M08', 'periodName': 'August', 'value': '502486', 'footnotes': [{'code': 'P', 'text': 'Preliminary.'}], 'calculations': {'net_changes': {'1': '2846', '3': '3897', '6': '10852', '12': '8323'}, 'pct_changes': {'1': '0.6', '3': '0.8', '6': '2.2', '12': '1.7'}}}, {'year': '2018', 'period': 'M07', 'periodName': 'July', 'value': '499640', 'footnotes': [{'code': 'P', 'text': 'Preliminary.'}], 'calculations': {'net_changes': {'1': '-1969', '3': '4855', '6': '11618', '12': '7189'}, 'pct_changes': {'1': '-0.4', '3': '1.0', '6': '2.4', '12': '1.5'}}}, {'year': '2018', 'period': 'M06', 'periodName': 'June', 'value': '501609', 'footnotes': [{'code': 'P', 'text': 'Preliminary.'}], 'calculations': {'net_changes': {'1': '3020', '3': '8599', '6': '-1445', '12': '5968'}, 'pct_changes': {'1': '0.6', '3': '1.7', '6': '-0.3', '12': '1.2'}}}, {'year': '2018', 'period': 'M05', 'periodName': 'May', 'value': '498589', 'footnotes': [{'code': 'P', 'text': 'Preliminary.'}], 'calculations': {'net_changes': {'1': '3804', '3': '6955', '6': '-2424', '12': '6532'}, 'pct_changes': {'1': '0.8', '3': '1.4', '6': '-0.5', '12': '1.3'}}}, {'year': '2018', 'period': 'M04', 'periodName': 'April', 'value': '494785', 'footnotes': [{'code': 'P', 'text': 'Preliminary.'}], 'calculations': {'net_changes': {'1': '1775', '3': '6763', '6': '-804', '12': '4293'}, 'pct_changes': {'1': '0.4', '3': '1.4', '6': '-0.2', '12': '0.9'}}}, {'year': '2018', 'period': 'M03', 'periodName': 'March', 'value': '493010', 'footnotes': [{'code': 'P', 'text': 'Preliminary.'}], 'calculations': {'net_changes': {'1': '1376', '3': '-10044', '6': '-505', '12': '5599'}, 'pct_changes': {'1': '0.3', '3': '-2.0', '6': '-0.1', '12': '1.1'}}}, {'year': '2018', 'period': 'M02', 'periodName': 'February', 'value': '491634', 'footnotes': [{'code': 'P', 'text': 'Preliminary.'}], 'calculations': {'net_changes': {'1': '3612', '3': '-9379', '6': '-2529', '12': '5087'}, 'pct_changes': {'1': '0.7', '3': '-1.9', '6': '-0.5', '12': '1.0'}}}, {'year': '2018', 'period': 'M01', 'periodName': 'January', 'value': '488022', 'footnotes': [{'code': 'P', 'text': 'Preliminary.'}], 'calculations': {'net_changes': {'1': '-15032', '3': '-7567', '6': '-4429', '12': '4749'}, 'pct_changes': {'1': '-3.0', '3': '-1.5', '6': '-0.9', '12': '1.0'}}}]}, {'seriesID': 'ENU4802710010', 'data': [{'year': '2018', 'period': 'M13', 'periodName': 'Annual', 'latest': 'true', 'value': '118588', 'footnotes': [{'code': 'P', 'text': 'Preliminary.'}], 'calculations': {'net_changes': {'1': '-1676', '3': '-444', '6': '1199', '12': '481'}, 'pct_changes': {'1': '-1.4', '3': '-0.4', '6': '1.0', '12': '0.4'}}}, {'year': '2018', 'period': 'M12', 'periodName': 'December', 'value': '120264', 'footnotes': [{'code': 'P', 'text': 'Preliminary.'}], 'calculations': {'net_changes': {'1': '265', '3': '1647', '6': '1601', '12': '736'}, 'pct_changes': {'1': '0.2', '3': '1.4', '6': '1.3', '12': '0.6'}}}, {'year': '2018', 'period': 'M11', 'periodName': 'November', 'value': '119999', 'footnotes': [{'code': 'P', 'text': 'Preliminary.'}], 'calculations': {'net_changes': {'1': '967', '3': '2126', '6': '1167', '12': '725'}, 'pct_changes': {'1': '0.8', '3': '1.8', '6': '1.0', '12': '0.6'}}}, {'year': '2018', 'period': 'M10', 'periodName': 'October', 'value': '119032', 'footnotes': [{'code': 'P', 'text': 'Preliminary.'}], 'calculations': {'net_changes': {'1': '415', '3': '1643', '6': '485', '12': '856'}, 'pct_changes': {'1': '0.3', '3': '1.4', '6': '0.4', '12': '0.7'}}}, {'year': '2018', 'period': 'M09', 'periodName': 'September', 'value': '118617', 'footnotes': [{'code': 'P', 'text': 'Preliminary.'}], 'calculations': {'net_changes': {'1': '744', '3': '-46', '6': '437', '12': '1172'}, 'pct_changes': {'1': '0.6', '3': '0.0', '6': '0.4', '12': '1.0'}}}, {'year': '2018', 'period': 'M08', 'periodName': 'August', 'value': '117873', 'footnotes': [{'code': 'P', 'text': 'Preliminary.'}], 'calculations': {'net_changes': {'1': '484', '3': '-959', '6': '-182', '12': '148'}, 'pct_changes': {'1': '0.4', '3': '-0.8', '6': '-0.2', '12': '0.1'}}}, {'year': '2018', 'period': 'M07', 'periodName': 'July', 'value': '117389', 'footnotes': [{'code': 'P', 'text': 'Preliminary.'}], 'calculations': {'net_changes': {'1': '-1274', '3': '-1158', '6': '-217', '12': '614'}, 'pct_changes': {'1': '-1.1', '3': '-1.0', '6': '-0.2', '12': '0.5'}}}, {'year': '2018', 'period': 'M06', 'periodName': 'June', 'value': '118663', 'footnotes': [{'code': 'P', 'text': 'Preliminary.'}], 'calculations': {'net_changes': {'1': '-169', '3': '483', '6': '-865', '12': '-381'}, 'pct_changes': {'1': '-0.1', '3': '0.4', '6': '-0.7', '12': '-0.3'}}}, {'year': '2018', 'period': 'M05', 'periodName': 'May', 'value': '118832', 'footnotes': [{'code': 'P', 'text': 'Preliminary.'}], 'calculations': {'net_changes': {'1': '285', '3': '777', '6': '-442', '12': '-157'}, 'pct_changes': {'1': '0.2', '3': '0.7', '6': '-0.4', '12': '-0.1'}}}, {'year': '2018', 'period': 'M04', 'periodName': 'April', 'value': '118547', 'footnotes': [{'code': 'P', 'text': 'Preliminary.'}], 'calculations': {'net_changes': {'1': '367', '3': '941', '6': '371', '12': '569'}, 'pct_changes': {'1': '0.3', '3': '0.8', '6': '0.3', '12': '0.5'}}}, {'year': '2018', 'period': 'M03', 'periodName': 'March', 'value': '118180', 'footnotes': [{'code': 'P', 'text': 'Preliminary.'}], 'calculations': {'net_changes': {'1': '125', '3': '-1348', '6': '735', '12': '542'}, 'pct_changes': {'1': '0.1', '3': '-1.1', '6': '0.6', '12': '0.5'}}}, {'year': '2018', 'period': 'M02', 'periodName': 'February', 'value': '118055', 'footnotes': [{'code': 'P', 'text': 'Preliminary.'}], 'calculations': {'net_changes': {'1': '449', '3': '-1219', '6': '330', '12': '510'}, 'pct_changes': {'1': '0.4', '3': '-1.0', '6': '0.3', '12': '0.4'}}}, {'year': '2018', 'period': 'M01', 'periodName': 'January', 'value': '117606', 'footnotes': [{'code': 'P', 'text': 'Preliminary.'}], 'calculations': {'net_changes': {'1': '-1922', '3': '-570', '6': '831', '12': '441'}, 'pct_changes': {'1': '-1.6', '3': '-0.5', '6': '0.7', '12': '0.4'}}}]}, {'seriesID': 'ENU4802910010', 'data': [{'year': '2018', 'period': 'M13', 'periodName': 'Annual', 'latest': 'true', 'value': '866347', 'footnotes': [{'code': 'P', 'text': 'Preliminary.'}], 'calculations': {'net_changes': {'1': '-13064', '3': '-6172', '6': '4152', '12': '12022'}, 'pct_changes': {'1': '-1.5', '3': '-0.7', '6': '0.5', '12': '1.4'}}}, {'year': '2018', 'period': 'M12', 'periodName': 'December', 'value': '879411', 'footnotes': [{'code': 'P', 'text': 'Preliminary.'}], 'calculations': {'net_changes': {'1': '1569', '3': '9925', '6': '11763', '12': '13811'}, 'pct_changes': {'1': '0.2', '3': '1.1', '6': '1.4', '12': '1.6'}}}, {'year': '2018', 'period': 'M11', 'periodName': 'November', 'value': '877842', 'footnotes': [{'code': 'P', 'text': 'Preliminary.'}], 'calculations': {'net_changes': {'1': '5323', '3': '9972', '6': '11324', '12': '14672'}, 'pct_changes': {'1': '0.6', '3': '1.1', '6': '1.3', '12': '1.7'}}}, {'year': '2018', 'period': 'M10', 'periodName': 'October', 'value': '872519', 'footnotes': [{'code': 'P', 'text': 'Preliminary.'}], 'calculations': {'net_changes': {'1': '3033', '3': '10324', '6': '7518', '12': '12906'}, 'pct_changes': {'1': '0.3', '3': '1.2', '6': '0.9', '12': '1.5'}}}, {'year': '2018', 'period': 'M09', 'periodName': 'September', 'value': '869486', 'footnotes': [{'code': 'P', 'text': 'Preliminary.'}], 'calculations': {'net_changes': {'1': '1616', '3': '1838', '6': '7709', '12': '12091'}, 'pct_changes': {'1': '0.2', '3': '0.2', '6': '0.9', '12': '1.4'}}}, {'year': '2018', 'period': 'M08', 'periodName': 'August', 'value': '867870', 'footnotes': [{'code': 'P', 'text': 'Preliminary.'}], 'calculations': {'net_changes': {'1': '5675', '3': '1352', '6': '11346', '12': '16406'}, 'pct_changes': {'1': '0.7', '3': '0.2', '6': '1.3', '12': '1.9'}}}, {'year': '2018', 'period': 'M07', 'periodName': 'July', 'value': '862195', 'footnotes': [{'code': 'P', 'text': 'Preliminary.'}], 'calculations': {'net_changes': {'1': '-5453', '3': '-2806', '6': '12826', '12': '13240'}, 'pct_changes': {'1': '-0.6', '3': '-0.3', '6': '1.5', '12': '1.6'}}}, {'year': '2018', 'period': 'M06', 'periodName': 'June', 'value': '867648', 'footnotes': [{'code': 'P', 'text': 'Preliminary.'}], 'calculations': {'net_changes': {'1': '1130', '3': '5871', '6': '2048', '12': '13373'}, 'pct_changes': {'1': '0.1', '3': '0.7', '6': '0.2', '12': '1.6'}}}, {'year': '2018', 'period': 'M05', 'periodName': 'May', 'value': '866518', 'footnotes': [{'code': 'P', 'text': 'Preliminary.'}], 'calculations': {'net_changes': {'1': '1517', '3': '9994', '6': '3348', '12': '12407'}, 'pct_changes': {'1': '0.2', '3': '1.2', '6': '0.4', '12': '1.5'}}}, {'year': '2018', 'period': 'M04', 'periodName': 'April', 'value': '865001', 'footnotes': [{'code': 'P', 'text': 'Preliminary.'}], 'calculations': {'net_changes': {'1': '3224', '3': '15632', '6': '5388', '12': '12343'}, 'pct_changes': {'1': '0.4', '3': '1.8', '6': '0.6', '12': '1.4'}}}, {'year': '2018', 'period': 'M03', 'periodName': 'March', 'value': '861777', 'footnotes': [{'code': 'P', 'text': 'Preliminary.'}], 'calculations': {'net_changes': {'1': '5253', '3': '-3823', '6': '4382', '12': '9708'}, 'pct_changes': {'1': '0.6', '3': '-0.4', '6': '0.5', '12': '1.1'}}}, {'year': '2018', 'period': 'M02', 'periodName': 'February', 'value': '856524', 'footnotes': [{'code': 'P', 'text': 'Preliminary.'}], 'calculations': {'net_changes': {'1': '7155', '3': '-6646', '6': '5060', '12': '8130'}, 'pct_changes': {'1': '0.8', '3': '-0.8', '6': '0.6', '12': '1.0'}}}, {'year': '2018', 'period': 'M01', 'periodName': 'January', 'value': '849369', 'footnotes': [{'code': 'P', 'text': 'Preliminary.'}], 'calculations': {'net_changes': {'1': '-16231', '3': '-10244', '6': '414', '12': '5169'}, 'pct_changes': {'1': '-1.9', '3': '-1.2', '6': '0.0', '12': '0.6'}}}]}, {'seriesID': 'ENU4803910010', 'data': [{'year': '2018', 'period': 'M13', 'periodName': 'Annual', 'latest': 'true', 'value': '112550', 'footnotes': [{'code': 'P', 'text': 'Preliminary.'}], 'calculations': {'net_changes': {'1': '-2499', '3': '-1796', '6': '375', '12': '5572'}, 'pct_changes': {'1': '-2.2', '3': '-1.6', '6': '0.3', '12': '5.2'}}}, {'year': '2018', 'period': 'M12', 'periodName': 'December', 'value': '115049', 'footnotes': [{'code': 'P', 'text': 'Preliminary.'}], 'calculations': {'net_changes': {'1': '-398', '3': '1267', '6': '2122', '12': '4823'}, 'pct_changes': {'1': '-0.3', '3': '1.1', '6': '1.9', '12': '4.4'}}}, {'year': '2018', 'period': 'M11', 'periodName': 'November', 'value': '115447', 'footnotes': [{'code': 'P', 'text': 'Preliminary.'}], 'calculations': {'net_changes': {'1': '1101', '3': '1986', '6': '3066', '12': '5331'}, 'pct_changes': {'1': '1.0', '3': '1.8', '6': '2.7', '12': '4.8'}}}, {'year': '2018', 'period': 'M10', 'periodName': 'October', 'value': '114346', 'footnotes': [{'code': 'P', 'text': 'Preliminary.'}], 'calculations': {'net_changes': {'1': '564', '3': '2171', '6': '2751', '12': '5272'}, 'pct_changes': {'1': '0.5', '3': '1.9', '6': '2.5', '12': '4.8'}}}, {'year': '2018', 'period': 'M09', 'periodName': 'September', 'value': '113782', 'footnotes': [{'code': 'P', 'text': 'Preliminary.'}], 'calculations': {'net_changes': {'1': '321', '3': '855', '6': '2953', '12': '6584'}, 'pct_changes': {'1': '0.3', '3': '0.8', '6': '2.7', '12': '6.1'}}}, {'year': '2018', 'period': 'M08', 'periodName': 'August', 'value': '113461', 'footnotes': [{'code': 'P', 'text': 'Preliminary.'}], 'calculations': {'net_changes': {'1': '1286', '3': '1080', '6': '3280', '12': '5834'}, 'pct_changes': {'1': '1.1', '3': '1.0', '6': '3.0', '12': '5.4'}}}, {'year': '2018', 'period': 'M07', 'periodName': 'July', 'value': '112175', 'footnotes': [{'code': 'P', 'text': 'Preliminary.'}], 'calculations': {'net_changes': {'1': '-752', '3': '580', '6': '3753', '12': '4494'}, 'pct_changes': {'1': '-0.7', '3': '0.5', '6': '3.5', '12': '4.2'}}}, {'year': '2018', 'period': 'M06', 'periodName': 'June', 'value': '112927', 'footnotes': [{'code': 'P', 'text': 'Preliminary.'}], 'calculations': {'net_changes': {'1': '546', '3': '2098', '6': '2701', '12': '6967'}, 'pct_changes': {'1': '0.5', '3': '1.9', '6': '2.5', '12': '6.6'}}}, {'year': '2018', 'period': 'M05', 'periodName': 'May', 'value': '112381', 'footnotes': [{'code': 'P', 'text': 'Preliminary.'}], 'calculations': {'net_changes': {'1': '786', '3': '2200', '6': '2265', '12': '6099'}, 'pct_changes': {'1': '0.7', '3': '2.0', '6': '2.1', '12': '5.7'}}}, {'year': '2018', 'period': 'M04', 'periodName': 'April', 'value': '111595', 'footnotes': [{'code': 'P', 'text': 'Preliminary.'}], 'calculations': {'net_changes': {'1': '766', '3': '3173', '6': '2521', '12': '5439'}, 'pct_changes': {'1': '0.7', '3': '2.9', '6': '2.3', '12': '5.1'}}}, {'year': '2018', 'period': 'M03', 'periodName': 'March', 'value': '110829', 'footnotes': [{'code': 'P', 'text': 'Preliminary.'}], 'calculations': {'net_changes': {'1': '648', '3': '603', '6': '3631', '12': '5885'}, 'pct_changes': {'1': '0.6', '3': '0.5', '6': '3.4', '12': '5.6'}}}, {'year': '2018', 'period': 'M02', 'periodName': 'February', 'value': '110181', 'footnotes': [{'code': 'P', 'text': 'Preliminary.'}], 'calculations': {'net_changes': {'1': '1759', '3': '65', '6': '2554', '12': '5715'}, 'pct_changes': {'1': '1.6', '3': '0.1', '6': '2.4', '12': '5.5'}}}, {'year': '2018', 'period': 'M01', 'periodName': 'January', 'value': '108422', 'footnotes': [{'code': 'P', 'text': 'Preliminary.'}], 'calculations': {'net_changes': {'1': '-1804', '3': '-652', '6': '741', '12': '4413'}, 'pct_changes': {'1': '-1.6', '3': '-0.6', '6': '0.7', '12': '4.2'}}}]}, {'seriesID': 'ENU4808510010', 'data': [{'year': '2018', 'period': 'M13', 'periodName': 'Annual', 'latest': 'true', 'value': '415467', 'footnotes': [{'code': 'P', 'text': 'Preliminary.'}], 'calculations': {'net_changes': {'1': '-8784', '3': '-4462', '6': '-30', '12': '16931'}, 'pct_changes': {'1': '-2.1', '3': '-1.1', '6': '0.0', '12': '4.2'}}}, {'year': '2018', 'period': 'M12', 'periodName': 'December', 'value': '424251', 'footnotes': [{'code': 'P', 'text': 'Preliminary.'}], 'calculations': {'net_changes': {'1': '767', '3': '7154', '6': '5941', '12': '14497'}, 'pct_changes': {'1': '0.2', '3': '1.7', '6': '1.4', '12': '3.5'}}}, {'year': '2018', 'period': 'M11', 'periodName': 'November', 'value': '423484', 'footnotes': [{'code': 'P', 'text': 'Preliminary.'}], 'calculations': {'net_changes': {'1': '3555', '3': '8330', '6': '8113', '12': '14126'}, 'pct_changes': {'1': '0.8', '3': '2.0', '6': '2.0', '12': '3.5'}}}, {'year': '2018', 'period': 'M10', 'periodName': 'October', 'value': '419929', 'footnotes': [{'code': 'P', 'text': 'Preliminary.'}], 'calculations': {'net_changes': {'1': '2832', '3': '4432', '6': '7496', '12': '15026'}, 'pct_changes': {'1': '0.7', '3': '1.1', '6': '1.8', '12': '3.7'}}}, {'year': '2018', 'period': 'M09', 'periodName': 'September', 'value': '417097', 'footnotes': [{'code': 'P', 'text': 'Preliminary.'}], 'calculations': {'net_changes': {'1': '1943', '3': '-1213', '6': '6165', '12': '18473'}, 'pct_changes': {'1': '0.5', '3': '-0.3', '6': '1.5', '12': '4.6'}}}, {'year': '2018', 'period': 'M08', 'periodName': 'August', 'value': '415154', 'footnotes': [{'code': 'P', 'text': 'Preliminary.'}], 'calculations': {'net_changes': {'1': '-343', '3': '-217', '6': '7066', '12': '17797'}, 'pct_changes': {'1': '-0.1', '3': '-0.1', '6': '1.7', '12': '4.5'}}}, {'year': '2018', 'period': 'M07', 'periodName': 'July', 'value': '415497', 'footnotes': [{'code': 'P', 'text': 'Preliminary.'}], 'calculations': {'net_changes': {'1': '-2813', '3': '3064', '6': '10443', '12': '18133'}, 'pct_changes': {'1': '-0.7', '3': '0.7', '6': '2.6', '12': '4.6'}}}, {'year': '2018', 'period': 'M06', 'periodName': 'June', 'value': '418310', 'footnotes': [{'code': 'P', 'text': 'Preliminary.'}], 'calculations': {'net_changes': {'1': '2939', '3': '7378', '6': '8556', '12': '18245'}, 'pct_changes': {'1': '0.7', '3': '1.8', '6': '2.1', '12': '4.6'}}}, {'year': '2018', 'period': 'M05', 'periodName': 'May', 'value': '415371', 'footnotes': [{'code': 'P', 'text': 'Preliminary.'}], 'calculations': {'net_changes': {'1': '2938', '3': '7283', '6': '6013', '12': '18444'}, 'pct_changes': {'1': '0.7', '3': '1.8', '6': '1.5', '12': '4.6'}}}, {'year': '2018', 'period': 'M04', 'periodName': 'April', 'value': '412433', 'footnotes': [{'code': 'P', 'text': 'Preliminary.'}], 'calculations': {'net_changes': {'1': '1501', '3': '7379', '6': '7530', '12': '17734'}, 'pct_changes': {'1': '0.4', '3': '1.8', '6': '1.9', '12': '4.5'}}}, {'year': '2018', 'period': 'M03', 'periodName': 'March', 'value': '410932', 'footnotes': [{'code': 'P', 'text': 'Preliminary.'}], 'calculations': {'net_changes': {'1': '2844', '3': '1178', '6': '12308', '12': '18077'}, 'pct_changes': {'1': '0.7', '3': '0.3', '6': '3.1', '12': '4.6'}}}, {'year': '2018', 'period': 'M02', 'periodName': 'February', 'value': '408088', 'footnotes': [{'code': 'P', 'text': 'Preliminary.'}], 'calculations': {'net_changes': {'1': '3034', '3': '-1270', '6': '10731', '12': '16727'}, 'pct_changes': {'1': '0.7', '3': '-0.3', '6': '2.7', '12': '4.3'}}}, {'year': '2018', 'period': 'M01', 'periodName': 'January', 'value': '405054', 'footnotes': [{'code': 'P', 'text': 'Preliminary.'}], 'calculations': {'net_changes': {'1': '-4700', '3': '151', '6': '7690', '12': '15887'}, 'pct_changes': {'1': '-1.1', '3': '0.0', '6': '1.9', '12': '4.1'}}}]}, {'seriesID': 'ENU4811310010', 'data': [{'year': '2018', 'period': 'M13', 'periodName': 'Annual', 'latest': 'true', 'value': '1708342', 'footnotes': [{'code': 'P', 'text': 'Preliminary.'}], 'calculations': {'net_changes': {'1': '-33117', '3': '-18932', '6': '780', '12': '23009'}, 'pct_changes': {'1': '-1.9', '3': '-1.1', '6': '0.0', '12': '1.4'}}}, {'year': '2018', 'period': 'M12', 'periodName': 'December', 'value': '1741459', 'footnotes': [{'code': 'P', 'text': 'Preliminary.'}], 'calculations': {'net_changes': {'1': '1031', '3': '28519', '6': '29302', '12': '24001'}, 'pct_changes': {'1': '0.1', '3': '1.7', '6': '1.7', '12': '1.4'}}}, {'year': '2018', 'period': 'M11', 'periodName': 'November', 'value': '1740428', 'footnotes': [{'code': 'P', 'text': 'Preliminary.'}], 'calculations': {'net_changes': {'1': '13154', '3': '24521', '6': '39211', '12': '24511'}, 'pct_changes': {'1': '0.8', '3': '1.4', '6': '2.3', '12': '1.4'}}}, {'year': '2018', 'period': 'M10', 'periodName': 'October', 'value': '1727274', 'footnotes': [{'code': 'P', 'text': 'Preliminary.'}], 'calculations': {'net_changes': {'1': '14334', '3': '19712', '6': '35205', '12': '24380'}, 'pct_changes': {'1': '0.8', '3': '1.2', '6': '2.1', '12': '1.4'}}}, {'year': '2018', 'period': 'M09', 'periodName': 'September', 'value': '1712940', 'footnotes': [{'code': 'P', 'text': 'Preliminary.'}], 'calculations': {'net_changes': {'1': '-2967', '3': '783', '6': '25273', '12': '20867'}, 'pct_changes': {'1': '-0.2', '3': '0.0', '6': '1.5', '12': '1.2'}}}, {'year': '2018', 'period': 'M08', 'periodName': 'August', 'value': '1715907', 'footnotes': [{'code': 'P', 'text': 'Preliminary.'}], 'calculations': {'net_changes': {'1': '8345', '3': '14690', '6': '30700', '12': '25962'}, 'pct_changes': {'1': '0.5', '3': '0.9', '6': '1.8', '12': '1.5'}}}, {'year': '2018', 'period': 'M07', 'periodName': 'July', 'value': '1707562', 'footnotes': [{'code': 'P', 'text': 'Preliminary.'}], 'calculations': {'net_changes': {'1': '-4595', '3': '15493', '6': '31347', '12': '26310'}, 'pct_changes': {'1': '-0.3', '3': '0.9', '6': '1.9', '12': '1.6'}}}, {'year': '2018', 'period': 'M06', 'periodName': 'June', 'value': '1712157', 'footnotes': [{'code': 'P', 'text': 'Preliminary.'}], 'calculations': {'net_changes': {'1': '10940', '3': '24490', '6': '-5301', '12': '23735'}, 'pct_changes': {'1': '0.6', '3': '1.5', '6': '-0.3', '12': '1.4'}}}, {'year': '2018', 'period': 'M05', 'periodName': 'May', 'value': '1701217', 'footnotes': [{'code': 'P', 'text': 'Preliminary.'}], 'calculations': {'net_changes': {'1': '9148', '3': '16010', '6': '-14700', '12': '21919'}, 'pct_changes': {'1': '0.5', '3': '1.0', '6': '-0.9', '12': '1.3'}}}, {'year': '2018', 'period': 'M04', 'periodName': 'April', 'value': '1692069', 'footnotes': [{'code': 'P', 'text': 'Preliminary.'}], 'calculations': {'net_changes': {'1': '4402', '3': '15854', '6': '-10825', '12': '19697'}, 'pct_changes': {'1': '0.3', '3': '0.9', '6': '-0.6', '12': '1.2'}}}, {'year': '2018', 'period': 'M03', 'periodName': 'March', 'value': '1687667', 'footnotes': [{'code': 'P', 'text': 'Preliminary.'}], 'calculations': {'net_changes': {'1': '2460', '3': '-29791', '6': '-4406', '12': '21346'}, 'pct_changes': {'1': '0.1', '3': '-1.7', '6': '-0.3', '12': '1.3'}}}, {'year': '2018', 'period': 'M02', 'periodName': 'February', 'value': '1685207', 'footnotes': [{'code': 'P', 'text': 'Preliminary.'}], 'calculations': {'net_changes': {'1': '8992', '3': '-30710', '6': '-4738', '12': '21303'}, 'pct_changes': {'1': '0.5', '3': '-1.8', '6': '-0.3', '12': '1.3'}}}, {'year': '2018', 'period': 'M01', 'periodName': 'January', 'value': '1676215', 'footnotes': [{'code': 'P', 'text': 'Preliminary.'}], 'calculations': {'net_changes': {'1': '-41243', '3': '-26679', '6': '-5037', '12': '22073'}, 'pct_changes': {'1': '-2.4', '3': '-1.6', '6': '-0.3', '12': '1.3'}}}]}, {'seriesID': 'ENU4812110010', 'data': [{'year': '2018', 'period': 'M13', 'periodName': 'Annual', 'latest': 'true', 'value': '246098', 'footnotes': [{'code': 'P', 'text': 'Preliminary.'}], 'calculations': {'net_changes': {'1': '-6335', '3': '-3249', '6': '-99', '12': '6911'}, 'pct_changes': {'1': '-2.5', '3': '-1.3', '6': '0.0', '12': '2.9'}}}, {'year': '2018', 'period': 'M12', 'periodName': 'December', 'value': '252433', 'footnotes': [{'code': 'P', 'text': 'Preliminary.'}], 'calculations': {'net_changes': {'1': '823', '3': '5591', '6': '5162', '12': '8080'}, 'pct_changes': {'1': '0.3', '3': '2.3', '6': '2.1', '12': '3.3'}}}, {'year': '2018', 'period': 'M11', 'periodName': 'November', 'value': '251610', 'footnotes': [{'code': 'P', 'text': 'Preliminary.'}], 'calculations': {'net_changes': {'1': '2263', '3': '4009', '6': '6202', '12': '6744'}, 'pct_changes': {'1': '0.9', '3': '1.6', '6': '2.5', '12': '2.8'}}}, {'year': '2018', 'period': 'M10', 'periodName': 'October', 'value': '249347', 'footnotes': [{'code': 'P', 'text': 'Preliminary.'}], 'calculations': {'net_changes': {'1': '2505', '3': '3150', '6': '5851', '12': '7704'}, 'pct_changes': {'1': '1.0', '3': '1.3', '6': '2.4', '12': '3.2'}}}, {'year': '2018', 'period': 'M09', 'periodName': 'September', 'value': '246842', 'footnotes': [{'code': 'P', 'text': 'Preliminary.'}], 'calculations': {'net_changes': {'1': '-759', '3': '-429', '6': '4336', '12': '6817'}, 'pct_changes': {'1': '-0.3', '3': '-0.2', '6': '1.8', '12': '2.8'}}}, {'year': '2018', 'period': 'M08', 'periodName': 'August', 'value': '247601', 'footnotes': [{'code': 'P', 'text': 'Preliminary.'}], 'calculations': {'net_changes': {'1': '1404', '3': '2193', '6': '6391', '12': '7673'}, 'pct_changes': {'1': '0.6', '3': '0.9', '6': '2.6', '12': '3.2'}}}, {'year': '2018', 'period': 'M07', 'periodName': 'July', 'value': '246197', 'footnotes': [{'code': 'P', 'text': 'Preliminary.'}], 'calculations': {'net_changes': {'1': '-1074', '3': '2701', '6': '6941', '12': '7558'}, 'pct_changes': {'1': '-0.4', '3': '1.1', '6': '2.9', '12': '3.2'}}}, {'year': '2018', 'period': 'M06', 'periodName': 'June', 'value': '247271', 'footnotes': [{'code': 'P', 'text': 'Preliminary.'}], 'calculations': {'net_changes': {'1': '1863', '3': '4765', '6': '2918', '12': '6384'}, 'pct_changes': {'1': '0.8', '3': '2.0', '6': '1.2', '12': '2.7'}}}, {'year': '2018', 'period': 'M05', 'periodName': 'May', 'value': '245408', 'footnotes': [{'code': 'P', 'text': 'Preliminary.'}], 'calculations': {'net_changes': {'1': '1912', '3': '4198', '6': '542', '12': '6428'}, 'pct_changes': {'1': '0.8', '3': '1.7', '6': '0.2', '12': '2.7'}}}, {'year': '2018', 'period': 'M04', 'periodName': 'April', 'value': '243496', 'footnotes': [{'code': 'P', 'text': 'Preliminary.'}], 'calculations': {'net_changes': {'1': '990', '3': '4240', '6': '1853', '12': '5893'}, 'pct_changes': {'1': '0.4', '3': '1.8', '6': '0.8', '12': '2.5'}}}, {'year': '2018', 'period': 'M03', 'periodName': 'March', 'value': '242506', 'footnotes': [{'code': 'P', 'text': 'Preliminary.'}], 'calculations': {'net_changes': {'1': '1296', '3': '-1847', '6': '2481', '12': '6809'}, 'pct_changes': {'1': '0.5', '3': '-0.8', '6': '1.0', '12': '2.9'}}}, {'year': '2018', 'period': 'M02', 'periodName': 'February', 'value': '241210', 'footnotes': [{'code': 'P', 'text': 'Preliminary.'}], 'calculations': {'net_changes': {'1': '1954', '3': '-3656', '6': '1282', '12': '6793'}, 'pct_changes': {'1': '0.8', '3': '-1.5', '6': '0.5', '12': '2.9'}}}, {'year': '2018', 'period': 'M01', 'periodName': 'January', 'value': '239256', 'footnotes': [{'code': 'P', 'text': 'Preliminary.'}], 'calculations': {'net_changes': {'1': '-5097', '3': '-2387', '6': '617', '12': '6051'}, 'pct_changes': {'1': '-2.1', '3': '-1.0', '6': '0.3', '12': '2.6'}}}]}, {'seriesID': 'ENU4814110010', 'data': [{'year': '2018', 'period': 'M13', 'periodName': 'Annual', 'latest': 'true', 'value': '306293', 'footnotes': [{'code': 'P', 'text': 'Preliminary.'}], 'calculations': {'net_changes': {'1': '-5630', '3': '-3581', '6': '4453', '12': '5325'}, 'pct_changes': {'1': '-1.8', '3': '-1.2', '6': '1.5', '12': '1.8'}}}, {'year': '2018', 'period': 'M12', 'periodName': 'December', 'value': '311923', 'footnotes': [{'code': 'P', 'text': 'Preliminary.'}], 'calculations': {'net_changes': {'1': '-446', '3': '4754', '6': '7769', '12': '5850'}, 'pct_changes': {'1': '-0.1', '3': '1.5', '6': '2.6', '12': '1.9'}}}, {'year': '2018', 'period': 'M11', 'periodName': 'November', 'value': '312369', 'footnotes': [{'code': 'P', 'text': 'Preliminary.'}], 'calculations': {'net_changes': {'1': '2495', '3': '8506', '6': '5676', '12': '6841'}, 'pct_changes': {'1': '0.8', '3': '2.8', '6': '1.9', '12': '2.2'}}}, {'year': '2018', 'period': 'M10', 'periodName': 'October', 'value': '309874', 'footnotes': [{'code': 'P', 'text': 'Preliminary.'}], 'calculations': {'net_changes': {'1': '2705', '3': '8034', '6': '4431', '12': '7125'}, 'pct_changes': {'1': '0.9', '3': '2.7', '6': '1.5', '12': '2.4'}}}, {'year': '2018', 'period': 'M09', 'periodName': 'September', 'value': '307169', 'footnotes': [{'code': 'P', 'text': 'Preliminary.'}], 'calculations': {'net_changes': {'1': '3306', '3': '3015', '6': '2788', '12': '5966'}, 'pct_changes': {'1': '1.1', '3': '1.0', '6': '0.9', '12': '2.0'}}}, {'year': '2018', 'period': 'M08', 'periodName': 'August', 'value': '303863', 'footnotes': [{'code': 'P', 'text': 'Preliminary.'}], 'calculations': {'net_changes': {'1': '2023', '3': '-2830', '6': '-683', '12': '7293'}, 'pct_changes': {'1': '0.7', '3': '-0.9', '6': '-0.2', '12': '2.5'}}}, {'year': '2018', 'period': 'M07', 'periodName': 'July', 'value': '301840', 'footnotes': [{'code': 'P', 'text': 'Preliminary.'}], 'calculations': {'net_changes': {'1': '-2314', '3': '-3603', '6': '-1415', '12': '6337'}, 'pct_changes': {'1': '-0.8', '3': '-1.2', '6': '-0.5', '12': '2.1'}}}, {'year': '2018', 'period': 'M06', 'periodName': 'June', 'value': '304154', 'footnotes': [{'code': 'P', 'text': 'Preliminary.'}], 'calculations': {'net_changes': {'1': '-2539', '3': '-227', '6': '-1919', '12': '4215'}, 'pct_changes': {'1': '-0.8', '3': '-0.1', '6': '-0.6', '12': '1.4'}}}, {'year': '2018', 'period': 'M05', 'periodName': 'May', 'value': '306693', 'footnotes': [{'code': 'P', 'text': 'Preliminary.'}], 'calculations': {'net_changes': {'1': '1250', '3': '2147', '6': '1165', '12': '3964'}, 'pct_changes': {'1': '0.4', '3': '0.7', '6': '0.4', '12': '1.3'}}}, {'year': '2018', 'period': 'M04', 'periodName': 'April', 'value': '305443', 'footnotes': [{'code': 'P', 'text': 'Preliminary.'}], 'calculations': {'net_changes': {'1': '1062', '3': '2188', '6': '2694', '12': '3501'}, 'pct_changes': {'1': '0.3', '3': '0.7', '6': '0.9', '12': '1.2'}}}, {'year': '2018', 'period': 'M03', 'periodName': 'March', 'value': '304381', 'footnotes': [{'code': 'P', 'text': 'Preliminary.'}], 'calculations': {'net_changes': {'1': '-165', '3': '-1692', '6': '3178', '12': '3897'}, 'pct_changes': {'1': '-0.1', '3': '-0.6', '6': '1.1', '12': '1.3'}}}, {'year': '2018', 'period': 'M02', 'periodName': 'February', 'value': '304546', 'footnotes': [{'code': 'P', 'text': 'Preliminary.'}], 'calculations': {'net_changes': {'1': '1291', '3': '-982', '6': '7976', '12': '4156'}, 'pct_changes': {'1': '0.4', '3': '-0.3', '6': '2.7', '12': '1.4'}}}, {'year': '2018', 'period': 'M01', 'periodName': 'January', 'value': '303255', 'footnotes': [{'code': 'P', 'text': 'Preliminary.'}], 'calculations': {'net_changes': {'1': '-2818', '3': '506', '6': '7752', '12': '4748'}, 'pct_changes': {'1': '-0.9', '3': '0.2', '6': '2.6', '12': '1.6'}}}]}, {'seriesID': 'ENU4815710010', 'data': [{'year': '2018', 'period': 'M13', 'periodName': 'Annual', 'latest': 'true', 'value': '189248', 'footnotes': [{'code': 'P', 'text': 'Preliminary.'}], 'calculations': {'net_changes': {'1': '-6258', '3': '-2005', '6': '309', '12': '10485'}, 'pct_changes': {'1': '-3.2', '3': '-1.0', '6': '0.2', '12': '5.9'}}}, {'year': '2018', 'period': 'M12', 'periodName': 'December', 'value': '195506', 'footnotes': [{'code': 'P', 'text': 'Preliminary.'}], 'calculations': {'net_changes': {'1': '1568', '3': '4518', '6': '5165', '12': '9702'}, 'pct_changes': {'1': '0.8', '3': '2.4', '6': '2.7', '12': '5.2'}}}, {'year': '2018', 'period': 'M11', 'periodName': 'November', 'value': '193938', 'footnotes': [{'code': 'P', 'text': 'Preliminary.'}], 'calculations': {'net_changes': {'1': '2685', '3': '2070', '6': '5436', '12': '9981'}, 'pct_changes': {'1': '1.4', '3': '1.1', '6': '2.9', '12': '5.4'}}}, {'year': '2018', 'period': 'M10', 'periodName': 'October', 'value': '191253', 'footnotes': [{'code': 'P', 'text': 'Preliminary.'}], 'calculations': {'net_changes': {'1': '265', '3': '2314', '6': '5582', '12': '11067'}, 'pct_changes': {'1': '0.1', '3': '1.2', '6': '3.0', '12': '6.1'}}}, {'year': '2018', 'period': 'M09', 'periodName': 'September', 'value': '190988', 'footnotes': [{'code': 'P', 'text': 'Preliminary.'}], 'calculations': {'net_changes': {'1': '-880', '3': '647', '6': '5011', '12': '13131'}, 'pct_changes': {'1': '-0.5', '3': '0.3', '6': '2.7', '12': '7.4'}}}, {'year': '2018', 'period': 'M08', 'periodName': 'August', 'value': '191868', 'footnotes': [{'code': 'P', 'text': 'Preliminary.'}], 'calculations': {'net_changes': {'1': '2929', '3': '3366', '6': '7004', '12': '11760'}, 'pct_changes': {'1': '1.6', '3': '1.8', '6': '3.8', '12': '6.5'}}}, {'year': '2018', 'period': 'M07', 'periodName': 'July', 'value': '188939', 'footnotes': [{'code': 'P', 'text': 'Preliminary.'}], 'calculations': {'net_changes': {'1': '-1402', '3': '3268', '6': '5809', '12': '10982'}, 'pct_changes': {'1': '-0.7', '3': '1.8', '6': '3.2', '12': '6.2'}}}, {'year': '2018', 'period': 'M06', 'periodName': 'June', 'value': '190341', 'footnotes': [{'code': 'P', 'text': 'Preliminary.'}], 'calculations': {'net_changes': {'1': '1839', '3': '4364', '6': '4537', '12': '10503'}, 'pct_changes': {'1': '1.0', '3': '2.3', '6': '2.4', '12': '5.8'}}}, {'year': '2018', 'period': 'M05', 'periodName': 'May', 'value': '188502', 'footnotes': [{'code': 'P', 'text': 'Preliminary.'}], 'calculations': {'net_changes': {'1': '2831', '3': '3638', '6': '4545', '12': '11011'}, 'pct_changes': {'1': '1.5', '3': '2.0', '6': '2.5', '12': '6.2'}}}, {'year': '2018', 'period': 'M04', 'periodName': 'April', 'value': '185671', 'footnotes': [{'code': 'P', 'text': 'Preliminary.'}], 'calculations': {'net_changes': {'1': '-306', '3': '2541', '6': '5485', '12': '9663'}, 'pct_changes': {'1': '-0.2', '3': '1.4', '6': '3.0', '12': '5.5'}}}, {'year': '2018', 'period': 'M03', 'periodName': 'March', 'value': '185977', 'footnotes': [{'code': 'P', 'text': 'Preliminary.'}], 'calculations': {'net_changes': {'1': '1113', '3': '173', '6': '8120', '12': '9154'}, 'pct_changes': {'1': '0.6', '3': '0.1', '6': '4.6', '12': '5.2'}}}, {'year': '2018', 'period': 'M02', 'periodName': 'February', 'value': '184864', 'footnotes': [{'code': 'P', 'text': 'Preliminary.'}], 'calculations': {'net_changes': {'1': '1734', '3': '907', '6': '4756', '12': '9765'}, 'pct_changes': {'1': '0.9', '3': '0.5', '6': '2.6', '12': '5.6'}}}, {'year': '2018', 'period': 'M01', 'periodName': 'January', 'value': '183130', 'footnotes': [{'code': 'P', 'text': 'Preliminary.'}], 'calculations': {'net_changes': {'1': '-2674', '3': '2944', '6': '5173', '12': '9098'}, 'pct_changes': {'1': '-1.4', '3': '1.6', '6': '2.9', '12': '5.2'}}}]}, {'seriesID': 'ENU4816710010', 'data': [{'year': '2018', 'period': 'M13', 'periodName': 'Annual', 'latest': 'true', 'value': '109282', 'footnotes': [{'code': 'P', 'text': 'Preliminary.'}], 'calculations': {'net_changes': {'1': '-728', '3': '702', '6': '-937', '12': '-695'}, 'pct_changes': {'1': '-0.7', '3': '0.6', '6': '-0.9', '12': '-0.6'}}}, {'year': '2018', 'period': 'M12', 'periodName': 'December', 'value': '110010', 'footnotes': [{'code': 'P', 'text': 'Preliminary.'}], 'calculations': {'net_changes': {'1': '11', '3': '1419', '6': '-1022', '12': '-921'}, 'pct_changes': {'1': '0.0', '3': '1.3', '6': '-0.9', '12': '-0.8'}}}, {'year': '2018', 'period': 'M11', 'periodName': 'November', 'value': '109999', 'footnotes': [{'code': 'P', 'text': 'Preliminary.'}], 'calculations': {'net_changes': {'1': '1419', '3': '-247', '6': '358', '12': '-707'}, 'pct_changes': {'1': '1.3', '3': '-0.2', '6': '0.3', '12': '-0.6'}}}, {'year': '2018', 'period': 'M10', 'periodName': 'October', 'value': '108580', 'footnotes': [{'code': 'P', 'text': 'Preliminary.'}], 'calculations': {'net_changes': {'1': '-11', '3': '-1639', '6': '94', '12': '-844'}, 'pct_changes': {'1': '0.0', '3': '-1.5', '6': '0.1', '12': '-0.8'}}}, {'year': '2018', 'period': 'M09', 'periodName': 'September', 'value': '108591', 'footnotes': [{'code': 'P', 'text': 'Preliminary.'}], 'calculations': {'net_changes': {'1': '-1655', '3': '-2441', '6': '-512', '12': '194'}, 'pct_changes': {'1': '-1.5', '3': '-2.2', '6': '-0.5', '12': '0.2'}}}, {'year': '2018', 'period': 'M08', 'periodName': 'August', 'value': '110246', 'footnotes': [{'code': 'P', 'text': 'Preliminary.'}], 'calculations': {'net_changes': {'1': '27', '3': '605', '6': '1935', '12': '-130'}, 'pct_changes': {'1': '0.0', '3': '0.6', '6': '1.8', '12': '-0.1'}}}, {'year': '2018', 'period': 'M07', 'periodName': 'July', 'value': '110219', 'footnotes': [{'code': 'P', 'text': 'Preliminary.'}], 'calculations': {'net_changes': {'1': '-813', '3': '1733', '6': '3055', '12': '-332'}, 'pct_changes': {'1': '-0.7', '3': '1.6', '6': '2.9', '12': '-0.3'}}}, {'year': '2018', 'period': 'M06', 'periodName': 'June', 'value': '111032', 'footnotes': [{'code': 'P', 'text': 'Preliminary.'}], 'calculations': {'net_changes': {'1': '1391', '3': '1929', '6': '101', '12': '-454'}, 'pct_changes': {'1': '1.3', '3': '1.8', '6': '0.1', '12': '-0.4'}}}, {'year': '2018', 'period': 'M05', 'periodName': 'May', 'value': '109641', 'footnotes': [{'code': 'P', 'text': 'Preliminary.'}], 'calculations': {'net_changes': {'1': '1155', '3': '1330', '6': '-1065', '12': '-861'}, 'pct_changes': {'1': '1.1', '3': '1.2', '6': '-1.0', '12': '-0.8'}}}, {'year': '2018', 'period': 'M04', 'periodName': 'April', 'value': '108486', 'footnotes': [{'code': 'P', 'text': 'Preliminary.'}], 'calculations': {'net_changes': {'1': '-617', '3': '1322', '6': '-938', '12': '-1404'}, 'pct_changes': {'1': '-0.6', '3': '1.2', '6': '-0.9', '12': '-1.3'}}}, {'year': '2018', 'period': 'M03', 'periodName': 'March', 'value': '109103', 'footnotes': [{'code': 'P', 'text': 'Preliminary.'}], 'calculations': {'net_changes': {'1': '792', '3': '-1828', '6': '706', '12': '-1099'}, 'pct_changes': {'1': '0.7', '3': '-1.6', '6': '0.7', '12': '-1.0'}}}, {'year': '2018', 'period': 'M02', 'periodName': 'February', 'value': '108311', 'footnotes': [{'code': 'P', 'text': 'Preliminary.'}], 'calculations': {'net_changes': {'1': '1147', '3': '-2395', '6': '-2065', '12': '-929'}, 'pct_changes': {'1': '1.1', '3': '-2.2', '6': '-1.9', '12': '-0.9'}}}, {'year': '2018', 'period': 'M01', 'periodName': 'January', 'value': '107164', 'footnotes': [{'code': 'P', 'text': 'Preliminary.'}], 'calculations': {'net_changes': {'1': '-3767', '3': '-2260', '6': '-3387', '12': '-857'}, 'pct_changes': {'1': '-3.4', '3': '-2.1', '6': '-3.1', '12': '-0.8'}}}]}, {'seriesID': 'ENU4820110010', 'data': [{'year': '2018', 'period': 'M13', 'periodName': 'Annual', 'latest': 'true', 'value': '2307653', 'footnotes': [{'code': 'P', 'text': 'Preliminary.'}], 'calculations': {'net_changes': {'1': '-39125', '3': '-25318', '6': '1490', '12': '34895'}, 'pct_changes': {'1': '-1.7', '3': '-1.1', '6': '0.1', '12': '1.5'}}}, {'year': '2018', 'period': 'M12', 'periodName': 'December', 'value': '2346778', 'footnotes': [{'code': 'P', 'text': 'Preliminary.'}], 'calculations': {'net_changes': {'1': '4344', '3': '36109', '6': '35598', '12': '47926'}, 'pct_changes': {'1': '0.2', '3': '1.6', '6': '1.5', '12': '2.1'}}}, {'year': '2018', 'period': 'M11', 'periodName': 'November', 'value': '2342434', 'footnotes': [{'code': 'P', 'text': 'Preliminary.'}], 'calculations': {'net_changes': {'1': '9463', '3': '27087', '6': '37724', '12': '46379'}, 'pct_changes': {'1': '0.4', '3': '1.2', '6': '1.6', '12': '2.0'}}}, {'year': '2018', 'period': 'M10', 'periodName': 'October', 'value': '2332971', 'footnotes': [{'code': 'P', 'text': 'Preliminary.'}], 'calculations': {'net_changes': {'1': '22302', '3': '26808', '6': '38842', '12': '47439'}, 'pct_changes': {'1': '1.0', '3': '1.2', '6': '1.7', '12': '2.1'}}}, {'year': '2018', 'period': 'M09', 'periodName': 'September', 'value': '2310669', 'footnotes': [{'code': 'P', 'text': 'Preliminary.'}], 'calculations': {'net_changes': {'1': '-4678', '3': '-511', '6': '19126', '12': '49609'}, 'pct_changes': {'1': '-0.2', '3': '0.0', '6': '0.8', '12': '2.2'}}}, {'year': '2018', 'period': 'M08', 'periodName': 'August', 'value': '2315347', 'footnotes': [{'code': 'P', 'text': 'Preliminary.'}], 'calculations': {'net_changes': {'1': '9184', '3': '10637', '6': '34494', '12': '44036'}, 'pct_changes': {'1': '0.4', '3': '0.5', '6': '1.5', '12': '1.9'}}}, {'year': '2018', 'period': 'M07', 'periodName': 'July', 'value': '2306163', 'footnotes': [{'code': 'P', 'text': 'Preliminary.'}], 'calculations': {'net_changes': {'1': '-5017', '3': '12034', '6': '51107', '12': '39265'}, 'pct_changes': {'1': '-0.2', '3': '0.5', '6': '2.3', '12': '1.7'}}}, {'year': '2018', 'period': 'M06', 'periodName': 'June', 'value': '2311180', 'footnotes': [{'code': 'P', 'text': 'Preliminary.'}], 'calculations': {'net_changes': {'1': '6470', '3': '19637', '6': '12328', '12': '24562'}, 'pct_changes': {'1': '0.3', '3': '0.9', '6': '0.5', '12': '1.1'}}}, {'year': '2018', 'period': 'M05', 'periodName': 'May', 'value': '2304710', 'footnotes': [{'code': 'P', 'text': 'Preliminary.'}], 'calculations': {'net_changes': {'1': '10581', '3': '23857', '6': '8655', '12': '24403'}, 'pct_changes': {'1': '0.5', '3': '1.0', '6': '0.4', '12': '1.1'}}}, {'year': '2018', 'period': 'M04', 'periodName': 'April', 'value': '2294129', 'footnotes': [{'code': 'P', 'text': 'Preliminary.'}], 'calculations': {'net_changes': {'1': '2586', '3': '39073', '6': '8597', '12': '25398'}, 'pct_changes': {'1': '0.1', '3': '1.7', '6': '0.4', '12': '1.1'}}}, {'year': '2018', 'period': 'M03', 'periodName': 'March', 'value': '2291543', 'footnotes': [{'code': 'P', 'text': 'Preliminary.'}], 'calculations': {'net_changes': {'1': '10690', '3': '-7309', '6': '30483', '12': '26170'}, 'pct_changes': {'1': '0.5', '3': '-0.3', '6': '1.3', '12': '1.2'}}}, {'year': '2018', 'period': 'M02', 'periodName': 'February', 'value': '2280853', 'footnotes': [{'code': 'P', 'text': 'Preliminary.'}], 'calculations': {'net_changes': {'1': '25797', '3': '-15202', '6': '9542', '12': '26606'}, 'pct_changes': {'1': '1.1', '3': '-0.7', '6': '0.4', '12': '1.2'}}}, {'year': '2018', 'period': 'M01', 'periodName': 'January', 'value': '2255056', 'footnotes': [{'code': 'P', 'text': 'Preliminary.'}], 'calculations': {'net_changes': {'1': '-43796', '3': '-30476', '6': '-11842', '12': '16939'}, 'pct_changes': {'1': '-1.9', '3': '-1.3', '6': '-0.5', '12': '0.8'}}}]}, {'seriesID': 'ENU4821510010', 'data': [{'year': '2018', 'period': 'M13', 'periodName': 'Annual', 'latest': 'true', 'value': '261245', 'footnotes': [{'code': 'P', 'text': 'Preliminary.'}], 'calculations': {'net_changes': {'1': '-5765', '3': '-1049', '6': '4953', '12': '6221'}, 'pct_changes': {'1': '-2.2', '3': '-0.4', '6': '1.9', '12': '2.4'}}}, {'year': '2018', 'period': 'M12', 'periodName': 'December', 'value': '267010', 'footnotes': [{'code': 'P', 'text': 'Preliminary.'}], 'calculations': {'net_changes': {'1': '915', '3': '7733', '6': '5718', '12': '5197'}, 'pct_changes': {'1': '0.3', '3': '3.0', '6': '2.2', '12': '2.0'}}}, {'year': '2018', 'period': 'M11', 'periodName': 'November', 'value': '266095', 'footnotes': [{'code': 'P', 'text': 'Preliminary.'}], 'calculations': {'net_changes': {'1': '3801', '3': '8125', '6': '3205', '12': '6423'}, 'pct_changes': {'1': '1.4', '3': '3.1', '6': '1.2', '12': '2.5'}}}, {'year': '2018', 'period': 'M10', 'periodName': 'October', 'value': '262294', 'footnotes': [{'code': 'P', 'text': 'Preliminary.'}], 'calculations': {'net_changes': {'1': '3017', '3': '6002', '6': '521', '12': '6250'}, 'pct_changes': {'1': '1.2', '3': '2.3', '6': '0.2', '12': '2.4'}}}, {'year': '2018', 'period': 'M09', 'periodName': 'September', 'value': '259277', 'footnotes': [{'code': 'P', 'text': 'Preliminary.'}], 'calculations': {'net_changes': {'1': '1307', '3': '-2015', '6': '-2542', '12': '6541'}, 'pct_changes': {'1': '0.5', '3': '-0.8', '6': '-1.0', '12': '2.6'}}}, {'year': '2018', 'period': 'M08', 'periodName': 'August', 'value': '257970', 'footnotes': [{'code': 'P', 'text': 'Preliminary.'}], 'calculations': {'net_changes': {'1': '1678', '3': '-4920', '6': '-2031', '12': '7822'}, 'pct_changes': {'1': '0.7', '3': '-1.9', '6': '-0.8', '12': '3.1'}}}, {'year': '2018', 'period': 'M07', 'periodName': 'July', 'value': '256292', 'footnotes': [{'code': 'P', 'text': 'Preliminary.'}], 'calculations': {'net_changes': {'1': '-5000', '3': '-5481', '6': '-1940', '12': '7381'}, 'pct_changes': {'1': '-1.9', '3': '-2.1', '6': '-0.8', '12': '3.0'}}}, {'year': '2018', 'period': 'M06', 'periodName': 'June', 'value': '261292', 'footnotes': [{'code': 'P', 'text': 'Preliminary.'}], 'calculations': {'net_changes': {'1': '-1598', '3': '-527', '6': '-521', '12': '6410'}, 'pct_changes': {'1': '-0.6', '3': '-0.2', '6': '-0.2', '12': '2.5'}}}, {'year': '2018', 'period': 'M05', 'periodName': 'May', 'value': '262890', 'footnotes': [{'code': 'P', 'text': 'Preliminary.'}], 'calculations': {'net_changes': {'1': '1117', '3': '2889', '6': '3218', '12': '6021'}, 'pct_changes': {'1': '0.4', '3': '1.1', '6': '1.2', '12': '2.3'}}}, {'year': '2018', 'period': 'M04', 'periodName': 'April', 'value': '261773', 'footnotes': [{'code': 'P', 'text': 'Preliminary.'}], 'calculations': {'net_changes': {'1': '-46', '3': '3541', '6': '5729', '12': '5385'}, 'pct_changes': {'1': '0.0', '3': '1.4', '6': '2.2', '12': '2.1'}}}, {'year': '2018', 'period': 'M03', 'periodName': 'March', 'value': '261819', 'footnotes': [{'code': 'P', 'text': 'Preliminary.'}], 'calculations': {'net_changes': {'1': '1818', '3': '6', '6': '9083', '12': '6146'}, 'pct_changes': {'1': '0.7', '3': '0.0', '6': '3.6', '12': '2.4'}}}, {'year': '2018', 'period': 'M02', 'periodName': 'February', 'value': '260001', 'footnotes': [{'code': 'P', 'text': 'Preliminary.'}], 'calculations': {'net_changes': {'1': '1769', '3': '329', '6': '9853', '12': '5828'}, 'pct_changes': {'1': '0.7', '3': '0.1', '6': '3.9', '12': '2.3'}}}, {'year': '2018', 'period': 'M01', 'periodName': 'January', 'value': '258232', 'footnotes': [{'code': 'P', 'text': 'Preliminary.'}], 'calculations': {'net_changes': {'1': '-3581', '3': '2188', '6': '9321', '12': '5258'}, 'pct_changes': {'1': '-1.4', '3': '0.9', '6': '3.7', '12': '2.1'}}}]}, {'seriesID': 'ENU4830310010', 'data': [{'year': '2018', 'period': 'M13', 'periodName': 'Annual', 'latest': 'true', 'value': '139739', 'footnotes': [{'code': 'P', 'text': 'Preliminary.'}], 'calculations': {'net_changes': {'1': '-1795', '3': '-817', '6': '980', '12': '493'}, 'pct_changes': {'1': '-1.3', '3': '-0.6', '6': '0.7', '12': '0.4'}}}, {'year': '2018', 'period': 'M12', 'periodName': 'December', 'value': '141534', 'footnotes': [{'code': 'P', 'text': 'Preliminary.'}], 'calculations': {'net_changes': {'1': '-438', '3': '1688', '6': '1826', '12': '553'}, 'pct_changes': {'1': '-0.3', '3': '1.2', '6': '1.3', '12': '0.4'}}}, {'year': '2018', 'period': 'M11', 'periodName': 'November', 'value': '141972', 'footnotes': [{'code': 'P', 'text': 'Preliminary.'}], 'calculations': {'net_changes': {'1': '1416', '3': '1920', '6': '1640', '12': '302'}, 'pct_changes': {'1': '1.0', '3': '1.4', '6': '1.2', '12': '0.2'}}}, {'year': '2018', 'period': 'M10', 'periodName': 'October', 'value': '140556', 'footnotes': [{'code': 'P', 'text': 'Preliminary.'}], 'calculations': {'net_changes': {'1': '710', '3': '1797', '6': '979', '12': '66'}, 'pct_changes': {'1': '0.5', '3': '1.3', '6': '0.7', '12': '0.0'}}}, {'year': '2018', 'period': 'M09', 'periodName': 'September', 'value': '139846', 'footnotes': [{'code': 'P', 'text': 'Preliminary.'}], 'calculations': {'net_changes': {'1': '-206', '3': '138', '6': '1309', '12': '664'}, 'pct_changes': {'1': '-0.1', '3': '0.1', '6': '0.9', '12': '0.5'}}}, {'year': '2018', 'period': 'M08', 'periodName': 'August', 'value': '140052', 'footnotes': [{'code': 'P', 'text': 'Preliminary.'}], 'calculations': {'net_changes': {'1': '1293', '3': '-280', '6': '1558', '12': '1021'}, 'pct_changes': {'1': '0.9', '3': '-0.2', '6': '1.1', '12': '0.7'}}}, {'year': '2018', 'period': 'M07', 'periodName': 'July', 'value': '138759', 'footnotes': [{'code': 'P', 'text': 'Preliminary.'}], 'calculations': {'net_changes': {'1': '-949', '3': '-818', '6': '1259', '12': '921'}, 'pct_changes': {'1': '-0.7', '3': '-0.6', '6': '0.9', '12': '0.7'}}}, {'year': '2018', 'period': 'M06', 'periodName': 'June', 'value': '139708', 'footnotes': [{'code': 'P', 'text': 'Preliminary.'}], 'calculations': {'net_changes': {'1': '-624', '3': '1171', '6': '-1273', '12': '766'}, 'pct_changes': {'1': '-0.4', '3': '0.8', '6': '-0.9', '12': '0.6'}}}, {'year': '2018', 'period': 'M05', 'periodName': 'May', 'value': '140332', 'footnotes': [{'code': 'P', 'text': 'Preliminary.'}], 'calculations': {'net_changes': {'1': '755', '3': '1838', '6': '-1338', '12': '558'}, 'pct_changes': {'1': '0.5', '3': '1.3', '6': '-0.9', '12': '0.4'}}}, {'year': '2018', 'period': 'M04', 'periodName': 'April', 'value': '139577', 'footnotes': [{'code': 'P', 'text': 'Preliminary.'}], 'calculations': {'net_changes': {'1': '1040', '3': '2077', '6': '-913', '12': '333'}, 'pct_changes': {'1': '0.8', '3': '1.5', '6': '-0.6', '12': '0.2'}}}, {'year': '2018', 'period': 'M03', 'periodName': 'March', 'value': '138537', 'footnotes': [{'code': 'P', 'text': 'Preliminary.'}], 'calculations': {'net_changes': {'1': '43', '3': '-2444', '6': '-645', '12': '358'}, 'pct_changes': {'1': '0.0', '3': '-1.7', '6': '-0.5', '12': '0.3'}}}, {'year': '2018', 'period': 'M02', 'periodName': 'February', 'value': '138494', 'footnotes': [{'code': 'P', 'text': 'Preliminary.'}], 'calculations': {'net_changes': {'1': '994', '3': '-3176', '6': '-537', '12': '155'}, 'pct_changes': {'1': '0.7', '3': '-2.2', '6': '-0.4', '12': '0.1'}}}, {'year': '2018', 'period': 'M01', 'periodName': 'January', 'value': '137500', 'footnotes': [{'code': 'P', 'text': 'Preliminary.'}], 'calculations': {'net_changes': {'1': '-3481', '3': '-2990', '6': '-338', '12': '223'}, 'pct_changes': {'1': '-2.5', '3': '-2.1', '6': '-0.2', '12': '0.2'}}}]}, {'seriesID': 'ENU4830910010', 'data': [{'year': '2018', 'period': 'M13', 'periodName': 'Annual', 'latest': 'true', 'value': '113423', 'footnotes': [{'code': 'P', 'text': 'Preliminary.'}], 'calculations': {'net_changes': {'1': '-1731', '3': '-953', '6': '275', '12': '913'}, 'pct_changes': {'1': '-1.5', '3': '-0.8', '6': '0.2', '12': '0.8'}}}, {'year': '2018', 'period': 'M12', 'periodName': 'December', 'value': '115154', 'footnotes': [{'code': 'P', 'text': 'Preliminary.'}], 'calculations': {'net_changes': {'1': '-277', '3': '1305', '6': '1044', '12': '1900'}, 'pct_changes': {'1': '-0.2', '3': '1.1', '6': '0.9', '12': '1.7'}}}, {'year': '2018', 'period': 'M11', 'periodName': 'November', 'value': '115431', 'footnotes': [{'code': 'P', 'text': 'Preliminary.'}], 'calculations': {'net_changes': {'1': '1055', '3': '1345', '6': '2116', '12': '2459'}, 'pct_changes': {'1': '0.9', '3': '1.2', '6': '1.9', '12': '2.2'}}}, {'year': '2018', 'period': 'M10', 'periodName': 'October', 'value': '114376', 'footnotes': [{'code': 'P', 'text': 'Preliminary.'}], 'calculations': {'net_changes': {'1': '527', '3': '1228', '6': '1482', '12': '2234'}, 'pct_changes': {'1': '0.5', '3': '1.1', '6': '1.3', '12': '2.0'}}}, {'year': '2018', 'period': 'M09', 'periodName': 'September', 'value': '113849', 'footnotes': [{'code': 'P', 'text': 'Preliminary.'}], 'calculations': {'net_changes': {'1': '-237', '3': '-261', '6': '1481', '12': '1306'}, 'pct_changes': {'1': '-0.2', '3': '-0.2', '6': '1.3', '12': '1.2'}}}, {'year': '2018', 'period': 'M08', 'periodName': 'August', 'value': '114086', 'footnotes': [{'code': 'P', 'text': 'Preliminary.'}], 'calculations': {'net_changes': {'1': '938', '3': '771', '6': '2399', '12': '1318'}, 'pct_changes': {'1': '0.8', '3': '0.7', '6': '2.1', '12': '1.2'}}}, {'year': '2018', 'period': 'M07', 'periodName': 'July', 'value': '113148', 'footnotes': [{'code': 'P', 'text': 'Preliminary.'}], 'calculations': {'net_changes': {'1': '-962', '3': '254', '6': '2487', '12': '1454'}, 'pct_changes': {'1': '-0.8', '3': '0.2', '6': '2.2', '12': '1.3'}}}, {'year': '2018', 'period': 'M06', 'periodName': 'June', 'value': '114110', 'footnotes': [{'code': 'P', 'text': 'Preliminary.'}], 'calculations': {'net_changes': {'1': '795', '3': '1742', '6': '856', '12': '1289'}, 'pct_changes': {'1': '0.7', '3': '1.6', '6': '0.8', '12': '1.1'}}}, {'year': '2018', 'period': 'M05', 'periodName': 'May', 'value': '113315', 'footnotes': [{'code': 'P', 'text': 'Preliminary.'}], 'calculations': {'net_changes': {'1': '421', '3': '1628', '6': '343', '12': '644'}, 'pct_changes': {'1': '0.4', '3': '1.5', '6': '0.3', '12': '0.6'}}}, {'year': '2018', 'period': 'M04', 'periodName': 'April', 'value': '112894', 'footnotes': [{'code': 'P', 'text': 'Preliminary.'}], 'calculations': {'net_changes': {'1': '526', '3': '2233', '6': '752', '12': '662'}, 'pct_changes': {'1': '0.5', '3': '2.0', '6': '0.7', '12': '0.6'}}}, {'year': '2018', 'period': 'M03', 'periodName': 'March', 'value': '112368', 'footnotes': [{'code': 'P', 'text': 'Preliminary.'}], 'calculations': {'net_changes': {'1': '681', '3': '-886', '6': '-175', '12': '-61'}, 'pct_changes': {'1': '0.6', '3': '-0.8', '6': '-0.2', '12': '-0.1'}}}, {'year': '2018', 'period': 'M02', 'periodName': 'February', 'value': '111687', 'footnotes': [{'code': 'P', 'text': 'Preliminary.'}], 'calculations': {'net_changes': {'1': '1026', '3': '-1285', '6': '-1081', '12': '-827'}, 'pct_changes': {'1': '0.9', '3': '-1.1', '6': '-1.0', '12': '-0.7'}}}, {'year': '2018', 'period': 'M01', 'periodName': 'January', 'value': '110661', 'footnotes': [{'code': 'P', 'text': 'Preliminary.'}], 'calculations': {'net_changes': {'1': '-2593', '3': '-1481', '6': '-1033', '12': '-1424'}, 'pct_changes': {'1': '-2.3', '3': '-1.3', '6': '-0.9', '12': '-1.3'}}}]}, {'seriesID': 'ENU4835510010', 'data': [{'year': '2018', 'period': 'M13', 'periodName': 'Annual', 'latest': 'true', 'value': '164043', 'footnotes': [{'code': 'P', 'text': 'Preliminary.'}], 'calculations': {'net_changes': {'1': '-1804', '3': '-279', '6': '59', '12': '1848'}, 'pct_changes': {'1': '-1.1', '3': '-0.2', '6': '0.0', '12': '1.1'}}}, {'year': '2018', 'period': 'M12', 'periodName': 'December', 'value': '165847', 'footnotes': [{'code': 'P', 'text': 'Preliminary.'}], 'calculations': {'net_changes': {'1': '238', '3': '3181', '6': '637', '12': '2384'}, 'pct_changes': {'1': '0.1', '3': '2.0', '6': '0.4', '12': '1.5'}}}, {'year': '2018', 'period': 'M11', 'periodName': 'November', 'value': '165609', 'footnotes': [{'code': 'P', 'text': 'Preliminary.'}], 'calculations': {'net_changes': {'1': '1287', '3': '1261', '6': '754', '12': '3160'}, 'pct_changes': {'1': '0.8', '3': '0.8', '6': '0.5', '12': '1.9'}}}, {'year': '2018', 'period': 'M10', 'periodName': 'October', 'value': '164322', 'footnotes': [{'code': 'P', 'text': 'Preliminary.'}], 'calculations': {'net_changes': {'1': '1656', '3': '338', '6': '-299', '12': '2036'}, 'pct_changes': {'1': '1.0', '3': '0.2', '6': '-0.2', '12': '1.3'}}}, {'year': '2018', 'period': 'M09', 'periodName': 'September', 'value': '162666', 'footnotes': [{'code': 'P', 'text': 'Preliminary.'}], 'calculations': {'net_changes': {'1': '-1682', '3': '-2544', '6': '-954', '12': '2056'}, 'pct_changes': {'1': '-1.0', '3': '-1.5', '6': '-0.6', '12': '1.3'}}}, {'year': '2018', 'period': 'M08', 'periodName': 'August', 'value': '164348', 'footnotes': [{'code': 'P', 'text': 'Preliminary.'}], 'calculations': {'net_changes': {'1': '364', '3': '-507', '6': '1695', '12': '3361'}, 'pct_changes': {'1': '0.2', '3': '-0.3', '6': '1.0', '12': '2.1'}}}, {'year': '2018', 'period': 'M07', 'periodName': 'July', 'value': '163984', 'footnotes': [{'code': 'P', 'text': 'Preliminary.'}], 'calculations': {'net_changes': {'1': '-1226', '3': '-637', '6': '3204', '12': '2659'}, 'pct_changes': {'1': '-0.7', '3': '-0.4', '6': '2.0', '12': '1.6'}}}, {'year': '2018', 'period': 'M06', 'periodName': 'June', 'value': '165210', 'footnotes': [{'code': 'P', 'text': 'Preliminary.'}], 'calculations': {'net_changes': {'1': '355', '3': '1590', '6': '1747', '12': '607'}, 'pct_changes': {'1': '0.2', '3': '1.0', '6': '1.1', '12': '0.4'}}}, {'year': '2018', 'period': 'M05', 'periodName': 'May', 'value': '164855', 'footnotes': [{'code': 'P', 'text': 'Preliminary.'}], 'calculations': {'net_changes': {'1': '234', '3': '2202', '6': '2406', '12': '842'}, 'pct_changes': {'1': '0.1', '3': '1.4', '6': '1.5', '12': '0.5'}}}, {'year': '2018', 'period': 'M04', 'periodName': 'April', 'value': '164621', 'footnotes': [{'code': 'P', 'text': 'Preliminary.'}], 'calculations': {'net_changes': {'1': '1001', '3': '3841', '6': '2335', '12': '1549'}, 'pct_changes': {'1': '0.6', '3': '2.4', '6': '1.4', '12': '0.9'}}}, {'year': '2018', 'period': 'M03', 'periodName': 'March', 'value': '163620', 'footnotes': [{'code': 'P', 'text': 'Preliminary.'}], 'calculations': {'net_changes': {'1': '967', '3': '157', '6': '3010', '12': '164'}, 'pct_changes': {'1': '0.6', '3': '0.1', '6': '1.9', '12': '0.1'}}}, {'year': '2018', 'period': 'M02', 'periodName': 'February', 'value': '162653', 'footnotes': [{'code': 'P', 'text': 'Preliminary.'}], 'calculations': {'net_changes': {'1': '1873', '3': '204', '6': '1666', '12': '1687'}, 'pct_changes': {'1': '1.2', '3': '0.1', '6': '1.0', '12': '1.0'}}}, {'year': '2018', 'period': 'M01', 'periodName': 'January', 'value': '160780', 'footnotes': [{'code': 'P', 'text': 'Preliminary.'}], 'calculations': {'net_changes': {'1': '-2683', '3': '-1506', '6': '-545', '12': '1668'}, 'pct_changes': {'1': '-1.6', '3': '-0.9', '6': '-0.3', '12': '1.0'}}}]}, {'seriesID': 'ENU4837510010', 'data': [{'year': '2018', 'period': 'M13', 'periodName': 'Annual', 'latest': 'true', 'value': '77674', 'footnotes': [{'code': 'P', 'text': 'Preliminary.'}], 'calculations': {'net_changes': {'1': '-703', '3': '38', '6': '859', '12': '-649'}, 'pct_changes': {'1': '-0.9', '3': '0.0', '6': '1.1', '12': '-0.8'}}}, {'year': '2018', 'period': 'M12', 'periodName': 'December', 'value': '78377', 'footnotes': [{'code': 'P', 'text': 'Preliminary.'}], 'calculations': {'net_changes': {'1': '55', '3': '929', '6': '650', '12': '-415'}, 'pct_changes': {'1': '0.1', '3': '1.2', '6': '0.8', '12': '-0.5'}}}, {'year': '2018', 'period': 'M11', 'periodName': 'November', 'value': '78322', 'footnotes': [{'code': 'P', 'text': 'Preliminary.'}], 'calculations': {'net_changes': {'1': '686', '3': '1184', '6': '282', '12': '-598'}, 'pct_changes': {'1': '0.9', '3': '1.5', '6': '0.4', '12': '-0.8'}}}, {'year': '2018', 'period': 'M10', 'periodName': 'October', 'value': '77636', 'footnotes': [{'code': 'P', 'text': 'Preliminary.'}], 'calculations': {'net_changes': {'1': '188', '3': '821', '6': '-326', '12': '-746'}, 'pct_changes': {'1': '0.2', '3': '1.1', '6': '-0.4', '12': '-1.0'}}}, {'year': '2018', 'period': 'M09', 'periodName': 'September', 'value': '77448', 'footnotes': [{'code': 'P', 'text': 'Preliminary.'}], 'calculations': {'net_changes': {'1': '310', '3': '-279', '6': '-300', '12': '-422'}, 'pct_changes': {'1': '0.4', '3': '-0.4', '6': '-0.4', '12': '-0.5'}}}, {'year': '2018', 'period': 'M08', 'periodName': 'August', 'value': '77138', 'footnotes': [{'code': 'P', 'text': 'Preliminary.'}], 'calculations': {'net_changes': {'1': '323', '3': '-902', '6': '-528', '12': '-477'}, 'pct_changes': {'1': '0.4', '3': '-1.2', '6': '-0.7', '12': '-0.6'}}}, {'year': '2018', 'period': 'M07', 'periodName': 'July', 'value': '76815', 'footnotes': [{'code': 'P', 'text': 'Preliminary.'}], 'calculations': {'net_changes': {'1': '-912', '3': '-1147', '6': '-397', '12': '-200'}, 'pct_changes': {'1': '-1.2', '3': '-1.5', '6': '-0.5', '12': '-0.3'}}}, {'year': '2018', 'period': 'M06', 'periodName': 'June', 'value': '77727', 'footnotes': [{'code': 'P', 'text': 'Preliminary.'}], 'calculations': {'net_changes': {'1': '-313', '3': '-21', '6': '-1065', '12': '-879'}, 'pct_changes': {'1': '-0.4', '3': '0.0', '6': '-1.4', '12': '-1.1'}}}, {'year': '2018', 'period': 'M05', 'periodName': 'May', 'value': '78040', 'footnotes': [{'code': 'P', 'text': 'Preliminary.'}], 'calculations': {'net_changes': {'1': '78', '3': '374', '6': '-880', '12': '-592'}, 'pct_changes': {'1': '0.1', '3': '0.5', '6': '-1.1', '12': '-0.8'}}}, {'year': '2018', 'period': 'M04', 'periodName': 'April', 'value': '77962', 'footnotes': [{'code': 'P', 'text': 'Preliminary.'}], 'calculations': {'net_changes': {'1': '214', '3': '750', '6': '-420', '12': '-864'}, 'pct_changes': {'1': '0.3', '3': '1.0', '6': '-0.5', '12': '-1.1'}}}, {'year': '2018', 'period': 'M03', 'periodName': 'March', 'value': '77748', 'footnotes': [{'code': 'P', 'text': 'Preliminary.'}], 'calculations': {'net_changes': {'1': '82', '3': '-1044', '6': '-122', '12': '-712'}, 'pct_changes': {'1': '0.1', '3': '-1.3', '6': '-0.2', '12': '-0.9'}}}, {'year': '2018', 'period': 'M02', 'periodName': 'February', 'value': '77666', 'footnotes': [{'code': 'P', 'text': 'Preliminary.'}], 'calculations': {'net_changes': {'1': '454', '3': '-1254', '6': '51', '12': '-831'}, 'pct_changes': {'1': '0.6', '3': '-1.6', '6': '0.1', '12': '-1.1'}}}, {'year': '2018', 'period': 'M01', 'periodName': 'January', 'value': '77212', 'footnotes': [{'code': 'P', 'text': 'Preliminary.'}], 'calculations': {'net_changes': {'1': '-1580', '3': '-1170', '6': '197', '12': '-1054'}, 'pct_changes': {'1': '-2.0', '3': '-1.5', '6': '0.3', '12': '-1.3'}}}]}, {'seriesID': 'ENU4842310010', 'data': [{'year': '2018', 'period': 'M13', 'periodName': 'Annual', 'latest': 'true', 'value': '103581', 'footnotes': [{'code': 'P', 'text': 'Preliminary.'}], 'calculations': {'net_changes': {'1': '-2182', '3': '-930', '6': '-116', '12': '1136'}, 'pct_changes': {'1': '-2.1', '3': '-0.9', '6': '-0.1', '12': '1.1'}}}, {'year': '2018', 'period': 'M12', 'periodName': 'December', 'value': '105763', 'footnotes': [{'code': 'P', 'text': 'Preliminary.'}], 'calculations': {'net_changes': {'1': '454', '3': '1689', '6': '2032', '12': '771'}, 'pct_changes': {'1': '0.4', '3': '1.6', '6': '2.0', '12': '0.7'}}}, {'year': '2018', 'period': 'M11', 'periodName': 'November', 'value': '105309', 'footnotes': [{'code': 'P', 'text': 'Preliminary.'}], 'calculations': {'net_changes': {'1': '798', '3': '1428', '6': '1718', '12': '513'}, 'pct_changes': {'1': '0.8', '3': '1.4', '6': '1.7', '12': '0.5'}}}, {'year': '2018', 'period': 'M10', 'periodName': 'October', 'value': '104511', 'footnotes': [{'code': 'P', 'text': 'Preliminary.'}], 'calculations': {'net_changes': {'1': '437', '3': '814', '6': '1327', '12': '346'}, 'pct_changes': {'1': '0.4', '3': '0.8', '6': '1.3', '12': '0.3'}}}, {'year': '2018', 'period': 'M09', 'periodName': 'September', 'value': '104074', 'footnotes': [{'code': 'P', 'text': 'Preliminary.'}], 'calculations': {'net_changes': {'1': '193', '3': '343', '6': '1703', '12': '1854'}, 'pct_changes': {'1': '0.2', '3': '0.3', '6': '1.7', '12': '1.8'}}}, {'year': '2018', 'period': 'M08', 'periodName': 'August', 'value': '103881', 'footnotes': [{'code': 'P', 'text': 'Preliminary.'}], 'calculations': {'net_changes': {'1': '184', '3': '290', '6': '1956', '12': '2095'}, 'pct_changes': {'1': '0.2', '3': '0.3', '6': '1.9', '12': '2.1'}}}, {'year': '2018', 'period': 'M07', 'periodName': 'July', 'value': '103697', 'footnotes': [{'code': 'P', 'text': 'Preliminary.'}], 'calculations': {'net_changes': {'1': '-34', '3': '513', '6': '2763', '12': '2175'}, 'pct_changes': {'1': '0.0', '3': '0.5', '6': '2.7', '12': '2.1'}}}, {'year': '2018', 'period': 'M06', 'periodName': 'June', 'value': '103731', 'footnotes': [{'code': 'P', 'text': 'Preliminary.'}], 'calculations': {'net_changes': {'1': '140', '3': '1360', '6': '-1261', '12': '1236'}, 'pct_changes': {'1': '0.1', '3': '1.3', '6': '-1.2', '12': '1.2'}}}, {'year': '2018', 'period': 'M05', 'periodName': 'May', 'value': '103591', 'footnotes': [{'code': 'P', 'text': 'Preliminary.'}], 'calculations': {'net_changes': {'1': '407', '3': '1666', '6': '-1205', '12': '1098'}, 'pct_changes': {'1': '0.4', '3': '1.6', '6': '-1.1', '12': '1.1'}}}, {'year': '2018', 'period': 'M04', 'periodName': 'April', 'value': '103184', 'footnotes': [{'code': 'P', 'text': 'Preliminary.'}], 'calculations': {'net_changes': {'1': '813', '3': '2250', '6': '-981', '12': '1159'}, 'pct_changes': {'1': '0.8', '3': '2.2', '6': '-0.9', '12': '1.1'}}}, {'year': '2018', 'period': 'M03', 'periodName': 'March', 'value': '102371', 'footnotes': [{'code': 'P', 'text': 'Preliminary.'}], 'calculations': {'net_changes': {'1': '446', '3': '-2621', '6': '151', '12': '580'}, 'pct_changes': {'1': '0.4', '3': '-2.5', '6': '0.1', '12': '0.6'}}}, {'year': '2018', 'period': 'M02', 'periodName': 'February', 'value': '101925', 'footnotes': [{'code': 'P', 'text': 'Preliminary.'}], 'calculations': {'net_changes': {'1': '991', '3': '-2871', '6': '139', '12': '967'}, 'pct_changes': {'1': '1.0', '3': '-2.7', '6': '0.1', '12': '1.0'}}}, {'year': '2018', 'period': 'M01', 'periodName': 'January', 'value': '100934', 'footnotes': [{'code': 'P', 'text': 'Preliminary.'}], 'calculations': {'net_changes': {'1': '-4058', '3': '-3231', '6': '-588', '12': '843'}, 'pct_changes': {'1': '-3.9', '3': '-3.1', '6': '-0.6', '12': '0.8'}}}]}, {'seriesID': 'ENU4843910010', 'data': [{'year': '2018', 'period': 'M13', 'periodName': 'Annual', 'latest': 'true', 'value': '897995', 'footnotes': [{'code': 'P', 'text': 'Preliminary.'}], 'calculations': {'net_changes': {'1': '-17752', '3': '-9056', '6': '3590', '12': '24128'}, 'pct_changes': {'1': '-1.9', '3': '-1.0', '6': '0.4', '12': '2.8'}}}, {'year': '2018', 'period': 'M12', 'periodName': 'December', 'value': '915747', 'footnotes': [{'code': 'P', 'text': 'Preliminary.'}], 'calculations': {'net_changes': {'1': '3258', '3': '14789', '6': '13342', '12': '24098'}, 'pct_changes': {'1': '0.4', '3': '1.6', '6': '1.5', '12': '2.7'}}}, {'year': '2018', 'period': 'M11', 'periodName': 'November', 'value': '912489', 'footnotes': [{'code': 'P', 'text': 'Preliminary.'}], 'calculations': {'net_changes': {'1': '5438', '3': '10506', '6': '14506', '12': '21691'}, 'pct_changes': {'1': '0.6', '3': '1.2', '6': '1.6', '12': '2.4'}}}, {'year': '2018', 'period': 'M10', 'periodName': 'October', 'value': '907051', 'footnotes': [{'code': 'P', 'text': 'Preliminary.'}], 'calculations': {'net_changes': {'1': '6093', '3': '12646', '6': '15463', '12': '23673'}, 'pct_changes': {'1': '0.7', '3': '1.4', '6': '1.7', '12': '2.7'}}}, {'year': '2018', 'period': 'M09', 'periodName': 'September', 'value': '900958', 'footnotes': [{'code': 'P', 'text': 'Preliminary.'}], 'calculations': {'net_changes': {'1': '-1025', '3': '-1447', '6': '13016', '12': '22451'}, 'pct_changes': {'1': '-0.1', '3': '-0.2', '6': '1.5', '12': '2.6'}}}, {'year': '2018', 'period': 'M08', 'periodName': 'August', 'value': '901983', 'footnotes': [{'code': 'P', 'text': 'Preliminary.'}], 'calculations': {'net_changes': {'1': '7578', '3': '4000', '6': '17102', '12': '25336'}, 'pct_changes': {'1': '0.8', '3': '0.4', '6': '1.9', '12': '2.9'}}}, {'year': '2018', 'period': 'M07', 'periodName': 'July', 'value': '894405', 'footnotes': [{'code': 'P', 'text': 'Preliminary.'}], 'calculations': {'net_changes': {'1': '-8000', '3': '2817', '6': '15893', '12': '23926'}, 'pct_changes': {'1': '-0.9', '3': '0.3', '6': '1.8', '12': '2.7'}}}, {'year': '2018', 'period': 'M06', 'periodName': 'June', 'value': '902405', 'footnotes': [{'code': 'P', 'text': 'Preliminary.'}], 'calculations': {'net_changes': {'1': '4422', '3': '14463', '6': '10756', '12': '24446'}, 'pct_changes': {'1': '0.5', '3': '1.6', '6': '1.2', '12': '2.8'}}}, {'year': '2018', 'period': 'M05', 'periodName': 'May', 'value': '897983', 'footnotes': [{'code': 'P', 'text': 'Preliminary.'}], 'calculations': {'net_changes': {'1': '6395', '3': '13102', '6': '7185', '12': '26529'}, 'pct_changes': {'1': '0.7', '3': '1.5', '6': '0.8', '12': '3.0'}}}, {'year': '2018', 'period': 'M04', 'periodName': 'April', 'value': '891588', 'footnotes': [{'code': 'P', 'text': 'Preliminary.'}], 'calculations': {'net_changes': {'1': '3646', '3': '13076', '6': '8210', '12': '24734'}, 'pct_changes': {'1': '0.4', '3': '1.5', '6': '0.9', '12': '2.9'}}}, {'year': '2018', 'period': 'M03', 'periodName': 'March', 'value': '887942', 'footnotes': [{'code': 'P', 'text': 'Preliminary.'}], 'calculations': {'net_changes': {'1': '3061', '3': '-3707', '6': '9435', '12': '24090'}, 'pct_changes': {'1': '0.3', '3': '-0.4', '6': '1.1', '12': '2.8'}}}, {'year': '2018', 'period': 'M02', 'periodName': 'February', 'value': '884881', 'footnotes': [{'code': 'P', 'text': 'Preliminary.'}], 'calculations': {'net_changes': {'1': '6369', '3': '-5917', '6': '8234', '12': '25460'}, 'pct_changes': {'1': '0.7', '3': '-0.7', '6': '0.9', '12': '3.0'}}}, {'year': '2018', 'period': 'M01', 'periodName': 'January', 'value': '878512', 'footnotes': [{'code': 'P', 'text': 'Preliminary.'}], 'calculations': {'net_changes': {'1': '-13137', '3': '-4866', '6': '8033', '12': '23106'}, 'pct_changes': {'1': '-1.5', '3': '-0.6', '6': '0.9', '12': '2.7'}}}]}, {'seriesID': 'ENU4844110010', 'data': [{'year': '2018', 'period': 'M13', 'periodName': 'Annual', 'latest': 'true', 'value': '62346', 'footnotes': [{'code': 'P', 'text': 'Preliminary.'}], 'calculations': {'net_changes': {'1': '-961', '3': '-439', '6': '374', '12': '1502'}, 'pct_changes': {'1': '-1.5', '3': '-0.7', '6': '0.6', '12': '2.5'}}}, {'year': '2018', 'period': 'M12', 'periodName': 'December', 'value': '63307', 'footnotes': [{'code': 'P', 'text': 'Preliminary.'}], 'calculations': {'net_changes': {'1': '87', '3': '874', '6': '851', '12': '1446'}, 'pct_changes': {'1': '0.1', '3': '1.4', '6': '1.4', '12': '2.3'}}}, {'year': '2018', 'period': 'M11', 'periodName': 'November', 'value': '63220', 'footnotes': [{'code': 'P', 'text': 'Preliminary.'}], 'calculations': {'net_changes': {'1': '435', '3': '1290', '6': '406', '12': '1328'}, 'pct_changes': {'1': '0.7', '3': '2.1', '6': '0.6', '12': '2.1'}}}, {'year': '2018', 'period': 'M10', 'periodName': 'October', 'value': '62785', 'footnotes': [{'code': 'P', 'text': 'Preliminary.'}], 'calculations': {'net_changes': {'1': '352', '3': '813', '6': '339', '12': '1179'}, 'pct_changes': {'1': '0.6', '3': '1.3', '6': '0.5', '12': '1.9'}}}, {'year': '2018', 'period': 'M09', 'periodName': 'September', 'value': '62433', 'footnotes': [{'code': 'P', 'text': 'Preliminary.'}], 'calculations': {'net_changes': {'1': '503', '3': '-23', '6': '536', '12': '1331'}, 'pct_changes': {'1': '0.8', '3': '0.0', '6': '0.9', '12': '2.2'}}}, {'year': '2018', 'period': 'M08', 'periodName': 'August', 'value': '61930', 'footnotes': [{'code': 'P', 'text': 'Preliminary.'}], 'calculations': {'net_changes': {'1': '-42', '3': '-884', '6': '131', '12': '1315'}, 'pct_changes': {'1': '-0.1', '3': '-1.4', '6': '0.2', '12': '2.2'}}}, {'year': '2018', 'period': 'M07', 'periodName': 'July', 'value': '61972', 'footnotes': [{'code': 'P', 'text': 'Preliminary.'}], 'calculations': {'net_changes': {'1': '-484', '3': '-474', '6': '877', '12': '1840'}, 'pct_changes': {'1': '-0.8', '3': '-0.8', '6': '1.4', '12': '3.1'}}}, {'year': '2018', 'period': 'M06', 'periodName': 'June', 'value': '62456', 'footnotes': [{'code': 'P', 'text': 'Preliminary.'}], 'calculations': {'net_changes': {'1': '-358', '3': '559', '6': '595', '12': '1834'}, 'pct_changes': {'1': '-0.6', '3': '0.9', '6': '1.0', '12': '3.0'}}}, {'year': '2018', 'period': 'M05', 'periodName': 'May', 'value': '62814', 'footnotes': [{'code': 'P', 'text': 'Preliminary.'}], 'calculations': {'net_changes': {'1': '368', '3': '1015', '6': '922', '12': '1972'}, 'pct_changes': {'1': '0.6', '3': '1.6', '6': '1.5', '12': '3.2'}}}, {'year': '2018', 'period': 'M04', 'periodName': 'April', 'value': '62446', 'footnotes': [{'code': 'P', 'text': 'Preliminary.'}], 'calculations': {'net_changes': {'1': '549', '3': '1351', '6': '840', '12': '1711'}, 'pct_changes': {'1': '0.9', '3': '2.2', '6': '1.4', '12': '2.8'}}}, {'year': '2018', 'period': 'M03', 'periodName': 'March', 'value': '61897', 'footnotes': [{'code': 'P', 'text': 'Preliminary.'}], 'calculations': {'net_changes': {'1': '98', '3': '36', '6': '795', '12': '1294'}, 'pct_changes': {'1': '0.2', '3': '0.1', '6': '1.3', '12': '2.1'}}}, {'year': '2018', 'period': 'M02', 'periodName': 'February', 'value': '61799', 'footnotes': [{'code': 'P', 'text': 'Preliminary.'}], 'calculations': {'net_changes': {'1': '704', '3': '-93', '6': '1184', '12': '1387'}, 'pct_changes': {'1': '1.2', '3': '-0.2', '6': '2.0', '12': '2.3'}}}, {'year': '2018', 'period': 'M01', 'periodName': 'January', 'value': '61095', 'footnotes': [{'code': 'P', 'text': 'Preliminary.'}], 'calculations': {'net_changes': {'1': '-766', '3': '-511', '6': '963', '12': '1394'}, 'pct_changes': {'1': '-1.2', '3': '-0.8', '6': '1.6', '12': '2.3'}}}]}, {'seriesID': 'ENU4845310010', 'data': [{'year': '2018', 'period': 'M13', 'periodName': 'Annual', 'latest': 'true', 'value': '749928', 'footnotes': [{'code': 'P', 'text': 'Preliminary.'}], 'calculations': {'net_changes': {'1': '-14426', '3': '-10741', '6': '936', '12': '24048'}, 'pct_changes': {'1': '-1.9', '3': '-1.4', '6': '0.1', '12': '3.3'}}}, {'year': '2018', 'period': 'M12', 'periodName': 'December', 'value': '764354', 'footnotes': [{'code': 'P', 'text': 'Preliminary.'}], 'calculations': {'net_changes': {'1': '-70', '3': '10632', '6': '9416', '12': '25783'}, 'pct_changes': {'1': '0.0', '3': '1.4', '6': '1.2', '12': '3.5'}}}, {'year': '2018', 'period': 'M11', 'periodName': 'November', 'value': '764424', 'footnotes': [{'code': 'P', 'text': 'Preliminary.'}], 'calculations': {'net_changes': {'1': '3755', '3': '11202', '6': '16513', '12': '27200'}, 'pct_changes': {'1': '0.5', '3': '1.5', '6': '2.2', '12': '3.7'}}}, {'year': '2018', 'period': 'M10', 'periodName': 'October', 'value': '760669', 'footnotes': [{'code': 'P', 'text': 'Preliminary.'}], 'calculations': {'net_changes': {'1': '6947', '3': '11677', '6': '17338', '12': '25881'}, 'pct_changes': {'1': '0.9', '3': '1.6', '6': '2.3', '12': '3.5'}}}, {'year': '2018', 'period': 'M09', 'periodName': 'September', 'value': '753722', 'footnotes': [{'code': 'P', 'text': 'Preliminary.'}], 'calculations': {'net_changes': {'1': '500', '3': '-1216', '6': '12649', '12': '24887'}, 'pct_changes': {'1': '0.1', '3': '-0.2', '6': '1.7', '12': '3.4'}}}, {'year': '2018', 'period': 'M08', 'periodName': 'August', 'value': '753222', 'footnotes': [{'code': 'P', 'text': 'Preliminary.'}], 'calculations': {'net_changes': {'1': '4230', '3': '5311', '6': '15729', '12': '27160'}, 'pct_changes': {'1': '0.6', '3': '0.7', '6': '2.1', '12': '3.7'}}}, {'year': '2018', 'period': 'M07', 'periodName': 'July', 'value': '748992', 'footnotes': [{'code': 'P', 'text': 'Preliminary.'}], 'calculations': {'net_changes': {'1': '-5946', '3': '5661', '6': '19981', '12': '24139'}, 'pct_changes': {'1': '-0.8', '3': '0.8', '6': '2.7', '12': '3.3'}}}, {'year': '2018', 'period': 'M06', 'periodName': 'June', 'value': '754938', 'footnotes': [{'code': 'P', 'text': 'Preliminary.'}], 'calculations': {'net_changes': {'1': '7027', '3': '13865', '6': '16367', '12': '25194'}, 'pct_changes': {'1': '0.9', '3': '1.9', '6': '2.2', '12': '3.5'}}}, {'year': '2018', 'period': 'M05', 'periodName': 'May', 'value': '747911', 'footnotes': [{'code': 'P', 'text': 'Preliminary.'}], 'calculations': {'net_changes': {'1': '4580', '3': '10418', '6': '10687', '12': '21838'}, 'pct_changes': {'1': '0.6', '3': '1.4', '6': '1.4', '12': '3.0'}}}, {'year': '2018', 'period': 'M04', 'periodName': 'April', 'value': '743331', 'footnotes': [{'code': 'P', 'text': 'Preliminary.'}], 'calculations': {'net_changes': {'1': '2258', '3': '14320', '6': '8543', '12': '21078'}, 'pct_changes': {'1': '0.3', '3': '2.0', '6': '1.2', '12': '2.9'}}}, {'year': '2018', 'period': 'M03', 'periodName': 'March', 'value': '741073', 'footnotes': [{'code': 'P', 'text': 'Preliminary.'}], 'calculations': {'net_changes': {'1': '3580', '3': '2502', '6': '12238', '12': '22461'}, 'pct_changes': {'1': '0.5', '3': '0.3', '6': '1.7', '12': '3.1'}}}, {'year': '2018', 'period': 'M02', 'periodName': 'February', 'value': '737493', 'footnotes': [{'code': 'P', 'text': 'Preliminary.'}], 'calculations': {'net_changes': {'1': '8482', '3': '269', '6': '11431', '12': '22158'}, 'pct_changes': {'1': '1.2', '3': '0.0', '6': '1.6', '12': '3.1'}}}, {'year': '2018', 'period': 'M01', 'periodName': 'January', 'value': '729011', 'footnotes': [{'code': 'P', 'text': 'Preliminary.'}], 'calculations': {'net_changes': {'1': '-9560', '3': '-5777', '6': '4158', '12': '20802'}, 'pct_changes': {'1': '-1.3', '3': '-0.8', '6': '0.6', '12': '2.9'}}}]}, {'seriesID': 'ENU4847910010', 'data': [{'year': '2018', 'period': 'M13', 'periodName': 'Annual', 'latest': 'true', 'value': '101298', 'footnotes': [{'code': 'P', 'text': 'Preliminary.'}], 'calculations': {'net_changes': {'1': '-1748', '3': '-399', '6': '953', '12': '1480'}, 'pct_changes': {'1': '-1.7', '3': '-0.4', '6': '0.9', '12': '1.5'}}}, {'year': '2018', 'period': 'M12', 'periodName': 'December', 'value': '103046', 'footnotes': [{'code': 'P', 'text': 'Preliminary.'}], 'calculations': {'net_changes': {'1': '229', '3': '1909', '6': '1705', '12': '1864'}, 'pct_changes': {'1': '0.2', '3': '1.9', '6': '1.7', '12': '1.8'}}}, {'year': '2018', 'period': 'M11', 'periodName': 'November', 'value': '102817', 'footnotes': [{'code': 'P', 'text': 'Preliminary.'}], 'calculations': {'net_changes': {'1': '1120', '3': '834', '6': '1829', '12': '1804'}, 'pct_changes': {'1': '1.1', '3': '0.8', '6': '1.8', '12': '1.8'}}}, {'year': '2018', 'period': 'M10', 'periodName': 'October', 'value': '101697', 'footnotes': [{'code': 'P', 'text': 'Preliminary.'}], 'calculations': {'net_changes': {'1': '560', '3': '1352', '6': '869', '12': '1470'}, 'pct_changes': {'1': '0.6', '3': '1.3', '6': '0.9', '12': '1.5'}}}, {'year': '2018', 'period': 'M09', 'periodName': 'September', 'value': '101137', 'footnotes': [{'code': 'P', 'text': 'Preliminary.'}], 'calculations': {'net_changes': {'1': '-846', '3': '-204', '6': '250', '12': '887'}, 'pct_changes': {'1': '-0.8', '3': '-0.2', '6': '0.2', '12': '0.9'}}}, {'year': '2018', 'period': 'M08', 'periodName': 'August', 'value': '101983', 'footnotes': [{'code': 'P', 'text': 'Preliminary.'}], 'calculations': {'net_changes': {'1': '1638', '3': '995', '6': '1524', '12': '1787'}, 'pct_changes': {'1': '1.6', '3': '1.0', '6': '1.5', '12': '1.8'}}}, {'year': '2018', 'period': 'M07', 'periodName': 'July', 'value': '100345', 'footnotes': [{'code': 'P', 'text': 'Preliminary.'}], 'calculations': {'net_changes': {'1': '-996', '3': '-483', '6': '300', '12': '1565'}, 'pct_changes': {'1': '-1.0', '3': '-0.5', '6': '0.3', '12': '1.6'}}}, {'year': '2018', 'period': 'M06', 'periodName': 'June', 'value': '101341', 'footnotes': [{'code': 'P', 'text': 'Preliminary.'}], 'calculations': {'net_changes': {'1': '353', '3': '454', '6': '159', '12': '1237'}, 'pct_changes': {'1': '0.3', '3': '0.5', '6': '0.2', '12': '1.2'}}}, {'year': '2018', 'period': 'M05', 'periodName': 'May', 'value': '100988', 'footnotes': [{'code': 'P', 'text': 'Preliminary.'}], 'calculations': {'net_changes': {'1': '160', '3': '529', '6': '-25', '12': '1037'}, 'pct_changes': {'1': '0.2', '3': '0.5', '6': '0.0', '12': '1.0'}}}, {'year': '2018', 'period': 'M04', 'periodName': 'April', 'value': '100828', 'footnotes': [{'code': 'P', 'text': 'Preliminary.'}], 'calculations': {'net_changes': {'1': '-59', '3': '783', '6': '601', '12': '1523'}, 'pct_changes': {'1': '-0.1', '3': '0.8', '6': '0.6', '12': '1.5'}}}, {'year': '2018', 'period': 'M03', 'periodName': 'March', 'value': '100887', 'footnotes': [{'code': 'P', 'text': 'Preliminary.'}], 'calculations': {'net_changes': {'1': '428', '3': '-295', '6': '637', '12': '1316'}, 'pct_changes': {'1': '0.4', '3': '-0.3', '6': '0.6', '12': '1.3'}}}, {'year': '2018', 'period': 'M02', 'periodName': 'February', 'value': '100459', 'footnotes': [{'code': 'P', 'text': 'Preliminary.'}], 'calculations': {'net_changes': {'1': '414', '3': '-554', '6': '263', '12': '1758'}, 'pct_changes': {'1': '0.4', '3': '-0.5', '6': '0.3', '12': '1.8'}}}, {'year': '2018', 'period': 'M01', 'periodName': 'January', 'value': '100045', 'footnotes': [{'code': 'P', 'text': 'Preliminary.'}], 'calculations': {'net_changes': {'1': '-1137', '3': '-182', '6': '1265', '12': '1515'}, 'pct_changes': {'1': '-1.1', '3': '-0.2', '6': '1.3', '12': '1.5'}}}]}, {'seriesID': 'ENU4849110010', 'data': [{'year': '2018', 'period': 'M13', 'periodName': 'Annual', 'latest': 'true', 'value': '173119', 'footnotes': [{'code': 'P', 'text': 'Preliminary.'}], 'calculations': {'net_changes': {'1': '-4698', '3': '-2668', '6': '330', '12': '7863'}, 'pct_changes': {'1': '-2.6', '3': '-1.5', '6': '0.2', '12': '4.8'}}}, {'year': '2018', 'period': 'M12', 'periodName': 'December', 'value': '177817', 'footnotes': [{'code': 'P', 'text': 'Preliminary.'}], 'calculations': {'net_changes': {'1': '277', '3': '4679', '6': '2951', '12': '8263'}, 'pct_changes': {'1': '0.2', '3': '2.7', '6': '1.7', '12': '4.9'}}}, {'year': '2018', 'period': 'M11', 'periodName': 'November', 'value': '177540', 'footnotes': [{'code': 'P', 'text': 'Preliminary.'}], 'calculations': {'net_changes': {'1': '1753', '3': '4156', '6': '4254', '12': '8132'}, 'pct_changes': {'1': '1.0', '3': '2.4', '6': '2.5', '12': '4.8'}}}, {'year': '2018', 'period': 'M10', 'periodName': 'October', 'value': '175787', 'footnotes': [{'code': 'P', 'text': 'Preliminary.'}], 'calculations': {'net_changes': {'1': '2649', '3': '2998', '6': '4123', '12': '7484'}, 'pct_changes': {'1': '1.5', '3': '1.7', '6': '2.4', '12': '4.4'}}}, {'year': '2018', 'period': 'M09', 'periodName': 'September', 'value': '173138', 'footnotes': [{'code': 'P', 'text': 'Preliminary.'}], 'calculations': {'net_changes': {'1': '-246', '3': '-1728', '6': '3178', '12': '8071'}, 'pct_changes': {'1': '-0.1', '3': '-1.0', '6': '1.9', '12': '4.9'}}}, {'year': '2018', 'period': 'M08', 'periodName': 'August', 'value': '173384', 'footnotes': [{'code': 'P', 'text': 'Preliminary.'}], 'calculations': {'net_changes': {'1': '595', '3': '98', '6': '4510', '12': '8034'}, 'pct_changes': {'1': '0.3', '3': '0.1', '6': '2.7', '12': '4.9'}}}, {'year': '2018', 'period': 'M07', 'periodName': 'July', 'value': '172789', 'footnotes': [{'code': 'P', 'text': 'Preliminary.'}], 'calculations': {'net_changes': {'1': '-2077', '3': '1125', '6': '4466', '12': '8200'}, 'pct_changes': {'1': '-1.2', '3': '0.7', '6': '2.7', '12': '5.0'}}}, {'year': '2018', 'period': 'M06', 'periodName': 'June', 'value': '174866', 'footnotes': [{'code': 'P', 'text': 'Preliminary.'}], 'calculations': {'net_changes': {'1': '1580', '3': '4906', '6': '5312', '12': '7917'}, 'pct_changes': {'1': '0.9', '3': '2.9', '6': '3.1', '12': '4.7'}}}, {'year': '2018', 'period': 'M05', 'periodName': 'May', 'value': '173286', 'footnotes': [{'code': 'P', 'text': 'Preliminary.'}], 'calculations': {'net_changes': {'1': '1622', '3': '4412', '6': '3878', '12': '8220'}, 'pct_changes': {'1': '0.9', '3': '2.6', '6': '2.3', '12': '5.0'}}}, {'year': '2018', 'period': 'M04', 'periodName': 'April', 'value': '171664', 'footnotes': [{'code': 'P', 'text': 'Preliminary.'}], 'calculations': {'net_changes': {'1': '1704', '3': '3341', '6': '3361', '12': '7950'}, 'pct_changes': {'1': '1.0', '3': '2.0', '6': '2.0', '12': '4.9'}}}, {'year': '2018', 'period': 'M03', 'periodName': 'March', 'value': '169960', 'footnotes': [{'code': 'P', 'text': 'Preliminary.'}], 'calculations': {'net_changes': {'1': '1086', '3': '406', '6': '4893', '12': '7375'}, 'pct_changes': {'1': '0.6', '3': '0.2', '6': '3.0', '12': '4.5'}}}, {'year': '2018', 'period': 'M02', 'periodName': 'February', 'value': '168874', 'footnotes': [{'code': 'P', 'text': 'Preliminary.'}], 'calculations': {'net_changes': {'1': '551', '3': '-534', '6': '3524', '12': '7397'}, 'pct_changes': {'1': '0.3', '3': '-0.3', '6': '2.1', '12': '4.6'}}}, {'year': '2018', 'period': 'M01', 'periodName': 'January', 'value': '168323', 'footnotes': [{'code': 'P', 'text': 'Preliminary.'}], 'calculations': {'net_changes': {'1': '-1231', '3': '20', '6': '3734', '12': '7314'}, 'pct_changes': {'1': '-0.7', '3': '0.0', '6': '2.3', '12': '4.5'}}}]}, {'seriesID': 'ENU4903510010', 'data': [{'year': '2018', 'period': 'M13', 'periodName': 'Annual', 'latest': 'true', 'value': '701959', 'footnotes': [{'code': 'P', 'text': 'Preliminary.'}], 'calculations': {'net_changes': {'1': '-16289', '3': '-9618', '6': '662', '12': '17533'}, 'pct_changes': {'1': '-2.3', '3': '-1.4', '6': '0.1', '12': '2.6'}}}, {'year': '2018', 'period': 'M12', 'periodName': 'December', 'value': '718248', 'footnotes': [{'code': 'P', 'text': 'Preliminary.'}], 'calculations': {'net_changes': {'1': '402', '3': '11064', '6': '14107', '12': '17058'}, 'pct_changes': {'1': '0.1', '3': '1.6', '6': '2.0', '12': '2.4'}}}, {'year': '2018', 'period': 'M11', 'periodName': 'November', 'value': '717846', 'footnotes': [{'code': 'P', 'text': 'Preliminary.'}], 'calculations': {'net_changes': {'1': '6269', '3': '13249', '6': '19389', '12': '19678'}, 'pct_changes': {'1': '0.9', '3': '1.9', '6': '2.8', '12': '2.8'}}}, {'year': '2018', 'period': 'M10', 'periodName': 'October', 'value': '711577', 'footnotes': [{'code': 'P', 'text': 'Preliminary.'}], 'calculations': {'net_changes': {'1': '4393', '3': '10280', '6': '16331', '12': '19026'}, 'pct_changes': {'1': '0.6', '3': '1.5', '6': '2.3', '12': '2.7'}}}, {'year': '2018', 'period': 'M09', 'periodName': 'September', 'value': '707184', 'footnotes': [{'code': 'P', 'text': 'Preliminary.'}], 'calculations': {'net_changes': {'1': '2587', '3': '3043', '6': '15992', '12': '19163'}, 'pct_changes': {'1': '0.4', '3': '0.4', '6': '2.3', '12': '2.8'}}}, {'year': '2018', 'period': 'M08', 'periodName': 'August', 'value': '704597', 'footnotes': [{'code': 'P', 'text': 'Preliminary.'}], 'calculations': {'net_changes': {'1': '3300', '3': '6140', '6': '15015', '12': '19473'}, 'pct_changes': {'1': '0.5', '3': '0.9', '6': '2.2', '12': '2.8'}}}, {'year': '2018', 'period': 'M07', 'periodName': 'July', 'value': '701297', 'footnotes': [{'code': 'P', 'text': 'Preliminary.'}], 'calculations': {'net_changes': {'1': '-2844', '3': '6051', '6': '17162', '12': '19920'}, 'pct_changes': {'1': '-0.4', '3': '0.9', '6': '2.5', '12': '2.9'}}}, {'year': '2018', 'period': 'M06', 'periodName': 'June', 'value': '704141', 'footnotes': [{'code': 'P', 'text': 'Preliminary.'}], 'calculations': {'net_changes': {'1': '5684', '3': '12949', '6': '2951', '12': '18099'}, 'pct_changes': {'1': '0.8', '3': '1.9', '6': '0.4', '12': '2.6'}}}, {'year': '2018', 'period': 'M05', 'periodName': 'May', 'value': '698457', 'footnotes': [{'code': 'P', 'text': 'Preliminary.'}], 'calculations': {'net_changes': {'1': '3211', '3': '8875', '6': '289', '12': '16373'}, 'pct_changes': {'1': '0.5', '3': '1.3', '6': '0.0', '12': '2.4'}}}, {'year': '2018', 'period': 'M04', 'periodName': 'April', 'value': '695246', 'footnotes': [{'code': 'P', 'text': 'Preliminary.'}], 'calculations': {'net_changes': {'1': '4054', '3': '11111', '6': '2695', '12': '16789'}, 'pct_changes': {'1': '0.6', '3': '1.6', '6': '0.4', '12': '2.5'}}}, {'year': '2018', 'period': 'M03', 'periodName': 'March', 'value': '691192', 'footnotes': [{'code': 'P', 'text': 'Preliminary.'}], 'calculations': {'net_changes': {'1': '1610', '3': '-9998', '6': '3171', '12': '15080'}, 'pct_changes': {'1': '0.2', '3': '-1.4', '6': '0.5', '12': '2.2'}}}, {'year': '2018', 'period': 'M02', 'periodName': 'February', 'value': '689582', 'footnotes': [{'code': 'P', 'text': 'Preliminary.'}], 'calculations': {'net_changes': {'1': '5447', '3': '-8586', '6': '4458', '12': '16078'}, 'pct_changes': {'1': '0.8', '3': '-1.2', '6': '0.7', '12': '2.4'}}}, {'year': '2018', 'period': 'M01', 'periodName': 'January', 'value': '684135', 'footnotes': [{'code': 'P', 'text': 'Preliminary.'}], 'calculations': {'net_changes': {'1': '-17055', '3': '-8416', '6': '2758', '12': '13649'}, 'pct_changes': {'1': '-2.4', '3': '-1.2', '6': '0.4', '12': '2.0'}}}]}, {'seriesID': 'ENU5151010010', 'data': [{'year': '2018', 'period': 'M13', 'periodName': 'Annual', 'latest': 'true', 'value': '91909', 'footnotes': [{'code': 'P', 'text': 'Preliminary.'}], 'calculations': {'net_changes': {'1': '-58', '3': '274', '6': '-841', '12': '-1865'}, 'pct_changes': {'1': '-0.1', '3': '0.3', '6': '-0.9', '12': '-2.0'}}}, {'year': '2018', 'period': 'M12', 'periodName': 'December', 'value': '91967', 'footnotes': [{'code': 'P', 'text': 'Preliminary.'}], 'calculations': {'net_changes': {'1': '-160', '3': '518', '6': '-1484', '12': '-2011'}, 'pct_changes': {'1': '-0.2', '3': '0.6', '6': '-1.6', '12': '-2.1'}}}, {'year': '2018', 'period': 'M11', 'periodName': 'November', 'value': '92127', 'footnotes': [{'code': 'P', 'text': 'Preliminary.'}], 'calculations': {'net_changes': {'1': '492', '3': '-198', '6': '-136', '12': '-1962'}, 'pct_changes': {'1': '0.5', '3': '-0.2', '6': '-0.1', '12': '-2.1'}}}, {'year': '2018', 'period': 'M10', 'periodName': 'October', 'value': '91635', 'footnotes': [{'code': 'P', 'text': 'Preliminary.'}], 'calculations': {'net_changes': {'1': '186', '3': '-1115', '6': '-84', '12': '-2004'}, 'pct_changes': {'1': '0.2', '3': '-1.2', '6': '-0.1', '12': '-2.1'}}}, {'year': '2018', 'period': 'M09', 'periodName': 'September', 'value': '91449', 'footnotes': [{'code': 'P', 'text': 'Preliminary.'}], 'calculations': {'net_changes': {'1': '-876', '3': '-2002', '6': '374', '12': '-1216'}, 'pct_changes': {'1': '-0.9', '3': '-2.1', '6': '0.4', '12': '-1.3'}}}, {'year': '2018', 'period': 'M08', 'periodName': 'August', 'value': '92325', 'footnotes': [{'code': 'P', 'text': 'Preliminary.'}], 'calculations': {'net_changes': {'1': '-425', '3': '62', '6': '1311', '12': '-1351'}, 'pct_changes': {'1': '-0.5', '3': '0.1', '6': '1.4', '12': '-1.4'}}}, {'year': '2018', 'period': 'M07', 'periodName': 'July', 'value': '92750', 'footnotes': [{'code': 'P', 'text': 'Preliminary.'}], 'calculations': {'net_changes': {'1': '-701', '3': '1031', '6': '1615', '12': '-1593'}, 'pct_changes': {'1': '-0.8', '3': '1.1', '6': '1.8', '12': '-1.7'}}}, {'year': '2018', 'period': 'M06', 'periodName': 'June', 'value': '93451', 'footnotes': [{'code': 'P', 'text': 'Preliminary.'}], 'calculations': {'net_changes': {'1': '1188', '3': '2376', '6': '-527', '12': '-1436'}, 'pct_changes': {'1': '1.3', '3': '2.6', '6': '-0.6', '12': '-1.5'}}}, {'year': '2018', 'period': 'M05', 'periodName': 'May', 'value': '92263', 'footnotes': [{'code': 'P', 'text': 'Preliminary.'}], 'calculations': {'net_changes': {'1': '544', '3': '1249', '6': '-1826', '12': '-1727'}, 'pct_changes': {'1': '0.6', '3': '1.4', '6': '-1.9', '12': '-1.8'}}}, {'year': '2018', 'period': 'M04', 'periodName': 'April', 'value': '91719', 'footnotes': [{'code': 'P', 'text': 'Preliminary.'}], 'calculations': {'net_changes': {'1': '644', '3': '584', '6': '-1920', '12': '-1766'}, 'pct_changes': {'1': '0.7', '3': '0.6', '6': '-2.1', '12': '-1.9'}}}, {'year': '2018', 'period': 'M03', 'periodName': 'March', 'value': '91075', 'footnotes': [{'code': 'P', 'text': 'Preliminary.'}], 'calculations': {'net_changes': {'1': '61', '3': '-2903', '6': '-1590', '12': '-2435'}, 'pct_changes': {'1': '0.1', '3': '-3.1', '6': '-1.7', '12': '-2.6'}}}, {'year': '2018', 'period': 'M02', 'periodName': 'February', 'value': '91014', 'footnotes': [{'code': 'P', 'text': 'Preliminary.'}], 'calculations': {'net_changes': {'1': '-121', '3': '-3075', '6': '-2662', '12': '-2526'}, 'pct_changes': {'1': '-0.1', '3': '-3.3', '6': '-2.8', '12': '-2.7'}}}, {'year': '2018', 'period': 'M01', 'periodName': 'January', 'value': '91135', 'footnotes': [{'code': 'P', 'text': 'Preliminary.'}], 'calculations': {'net_changes': {'1': '-2843', '3': '-2504', '6': '-3208', '12': '-2354'}, 'pct_changes': {'1': '-3.0', '3': '-2.7', '6': '-3.4', '12': '-2.5'}}}]}, {'seriesID': 'ENU5155010010', 'data': [{'year': '2018', 'period': 'M13', 'periodName': 'Annual', 'latest': 'true', 'value': '101229', 'footnotes': [{'code': 'P', 'text': 'Preliminary.'}], 'calculations': {'net_changes': {'1': '-971', '3': '-77', '6': '-70', '12': '1743'}, 'pct_changes': {'1': '-1.0', '3': '-0.1', '6': '-0.1', '12': '1.8'}}}, {'year': '2018', 'period': 'M12', 'periodName': 'December', 'value': '102200', 'footnotes': [{'code': 'P', 'text': 'Preliminary.'}], 'calculations': {'net_changes': {'1': '-572', '3': '2576', '6': '-216', '12': '799'}, 'pct_changes': {'1': '-0.6', '3': '2.6', '6': '-0.2', '12': '0.8'}}}, {'year': '2018', 'period': 'M11', 'periodName': 'November', 'value': '102772', 'footnotes': [{'code': 'P', 'text': 'Preliminary.'}], 'calculations': {'net_changes': {'1': '1466', '3': '2262', '6': '1049', '12': '1022'}, 'pct_changes': {'1': '1.4', '3': '2.3', '6': '1.0', '12': '1.0'}}}, {'year': '2018', 'period': 'M10', 'periodName': 'October', 'value': '101306', 'footnotes': [{'code': 'P', 'text': 'Preliminary.'}], 'calculations': {'net_changes': {'1': '1682', '3': '7', '6': '-175', '12': '949'}, 'pct_changes': {'1': '1.7', '3': '0.0', '6': '-0.2', '12': '0.9'}}}, {'year': '2018', 'period': 'M09', 'periodName': 'September', 'value': '99624', 'footnotes': [{'code': 'P', 'text': 'Preliminary.'}], 'calculations': {'net_changes': {'1': '-886', '3': '-2792', '6': '-1471', '12': '1657'}, 'pct_changes': {'1': '-0.9', '3': '-2.7', '6': '-1.5', '12': '1.7'}}}, {'year': '2018', 'period': 'M08', 'periodName': 'August', 'value': '100510', 'footnotes': [{'code': 'P', 'text': 'Preliminary.'}], 'calculations': {'net_changes': {'1': '-789', '3': '-1213', '6': '-58', '12': '2287'}, 'pct_changes': {'1': '-0.8', '3': '-1.2', '6': '-0.1', '12': '2.3'}}}, {'year': '2018', 'period': 'M07', 'periodName': 'July', 'value': '101299', 'footnotes': [{'code': 'P', 'text': 'Preliminary.'}], 'calculations': {'net_changes': {'1': '-1117', '3': '-182', '6': '1542', '12': '2296'}, 'pct_changes': {'1': '-1.1', '3': '-0.2', '6': '1.5', '12': '2.3'}}}, {'year': '2018', 'period': 'M06', 'periodName': 'June', 'value': '102416', 'footnotes': [{'code': 'P', 'text': 'Preliminary.'}], 'calculations': {'net_changes': {'1': '693', '3': '1321', '6': '1015', '12': '2334'}, 'pct_changes': {'1': '0.7', '3': '1.3', '6': '1.0', '12': '2.3'}}}, {'year': '2018', 'period': 'M05', 'periodName': 'May', 'value': '101723', 'footnotes': [{'code': 'P', 'text': 'Preliminary.'}], 'calculations': {'net_changes': {'1': '242', '3': '1155', '6': '-27', '12': '1956'}, 'pct_changes': {'1': '0.2', '3': '1.1', '6': '0.0', '12': '2.0'}}}, {'year': '2018', 'period': 'M04', 'periodName': 'April', 'value': '101481', 'footnotes': [{'code': 'P', 'text': 'Preliminary.'}], 'calculations': {'net_changes': {'1': '386', '3': '1724', '6': '1124', '12': '1974'}, 'pct_changes': {'1': '0.4', '3': '1.7', '6': '1.1', '12': '2.0'}}}, {'year': '2018', 'period': 'M03', 'periodName': 'March', 'value': '101095', 'footnotes': [{'code': 'P', 'text': 'Preliminary.'}], 'calculations': {'net_changes': {'1': '527', '3': '-306', '6': '3128', '12': '2395'}, 'pct_changes': {'1': '0.5', '3': '-0.3', '6': '3.2', '12': '2.4'}}}, {'year': '2018', 'period': 'M02', 'periodName': 'February', 'value': '100568', 'footnotes': [{'code': 'P', 'text': 'Preliminary.'}], 'calculations': {'net_changes': {'1': '811', '3': '-1182', '6': '2345', '12': '1974'}, 'pct_changes': {'1': '0.8', '3': '-1.2', '6': '2.4', '12': '2.0'}}}, {'year': '2018', 'period': 'M01', 'periodName': 'January', 'value': '99757', 'footnotes': [{'code': 'P', 'text': 'Preliminary.'}], 'calculations': {'net_changes': {'1': '-1644', '3': '-600', '6': '754', '12': '1277'}, 'pct_changes': {'1': '-1.6', '3': '-0.6', '6': '0.8', '12': '1.3'}}}]}, {'seriesID': 'ENU5165010010', 'data': [{'year': '2018', 'period': 'M13', 'periodName': 'Annual', 'latest': 'true', 'value': '54208', 'footnotes': [{'code': 'P', 'text': 'Preliminary.'}], 'calculations': {'net_changes': {'1': '273', '3': '186', '6': '1283', '12': '-239'}, 'pct_changes': {'1': '0.5', '3': '0.3', '6': '2.4', '12': '-0.4'}}}, {'year': '2018', 'period': 'M12', 'periodName': 'December', 'value': '53935', 'footnotes': [{'code': 'P', 'text': 'Preliminary.'}], 'calculations': {'net_changes': {'1': '-345', '3': '214', '6': '-1204', '12': '-1582'}, 'pct_changes': {'1': '-0.6', '3': '0.4', '6': '-2.2', '12': '-2.8'}}}, {'year': '2018', 'period': 'M11', 'periodName': 'November', 'value': '54280', 'footnotes': [{'code': 'P', 'text': 'Preliminary.'}], 'calculations': {'net_changes': {'1': '258', '3': '1146', '6': '-966', '12': '-1097'}, 'pct_changes': {'1': '0.5', '3': '2.2', '6': '-1.7', '12': '-2.0'}}}, {'year': '2018', 'period': 'M10', 'periodName': 'October', 'value': '54022', 'footnotes': [{'code': 'P', 'text': 'Preliminary.'}], 'calculations': {'net_changes': {'1': '301', '3': '1097', '6': '-1175', '12': '-888'}, 'pct_changes': {'1': '0.6', '3': '2.1', '6': '-2.1', '12': '-1.6'}}}, {'year': '2018', 'period': 'M09', 'periodName': 'September', 'value': '53721', 'footnotes': [{'code': 'P', 'text': 'Preliminary.'}], 'calculations': {'net_changes': {'1': '587', '3': '-1418', '6': '-849', '12': '-960'}, 'pct_changes': {'1': '1.1', '3': '-2.6', '6': '-1.6', '12': '-1.8'}}}, {'year': '2018', 'period': 'M08', 'periodName': 'August', 'value': '53134', 'footnotes': [{'code': 'P', 'text': 'Preliminary.'}], 'calculations': {'net_changes': {'1': '209', '3': '-2112', '6': '-1127', '12': '350'}, 'pct_changes': {'1': '0.4', '3': '-3.8', '6': '-2.1', '12': '0.7'}}}, {'year': '2018', 'period': 'M07', 'periodName': 'July', 'value': '52925', 'footnotes': [{'code': 'P', 'text': 'Preliminary.'}], 'calculations': {'net_changes': {'1': '-2214', '3': '-2272', '6': '-1146', '12': '108'}, 'pct_changes': {'1': '-4.0', '3': '-4.1', '6': '-2.1', '12': '0.2'}}}, {'year': '2018', 'period': 'M06', 'periodName': 'June', 'value': '55139', 'footnotes': [{'code': 'P', 'text': 'Preliminary.'}], 'calculations': {'net_changes': {'1': '-107', '3': '569', '6': '-378', '12': '-276'}, 'pct_changes': {'1': '-0.2', '3': '1.0', '6': '-0.7', '12': '-0.5'}}}, {'year': '2018', 'period': 'M05', 'periodName': 'May', 'value': '55246', 'footnotes': [{'code': 'P', 'text': 'Preliminary.'}], 'calculations': {'net_changes': {'1': '49', '3': '985', '6': '-131', '12': '-219'}, 'pct_changes': {'1': '0.1', '3': '1.8', '6': '-0.2', '12': '-0.4'}}}, {'year': '2018', 'period': 'M04', 'periodName': 'April', 'value': '55197', 'footnotes': [{'code': 'P', 'text': 'Preliminary.'}], 'calculations': {'net_changes': {'1': '627', '3': '1126', '6': '287', '12': '150'}, 'pct_changes': {'1': '1.1', '3': '2.1', '6': '0.5', '12': '0.3'}}}, {'year': '2018', 'period': 'M03', 'periodName': 'March', 'value': '54570', 'footnotes': [{'code': 'P', 'text': 'Preliminary.'}], 'calculations': {'net_changes': {'1': '309', '3': '-947', '6': '-111', '12': '302'}, 'pct_changes': {'1': '0.6', '3': '-1.7', '6': '-0.2', '12': '0.6'}}}, {'year': '2018', 'period': 'M02', 'periodName': 'February', 'value': '54261', 'footnotes': [{'code': 'P', 'text': 'Preliminary.'}], 'calculations': {'net_changes': {'1': '190', '3': '-1116', '6': '1477', '12': '532'}, 'pct_changes': {'1': '0.4', '3': '-2.0', '6': '2.8', '12': '1.0'}}}, {'year': '2018', 'period': 'M01', 'periodName': 'January', 'value': '54071', 'footnotes': [{'code': 'P', 'text': 'Preliminary.'}], 'calculations': {'net_changes': {'1': '-1446', '3': '-839', '6': '1254', '12': '713'}, 'pct_changes': {'1': '-2.6', '3': '-1.5', '6': '2.4', '12': '1.3'}}}]}, {'seriesID': 'ENU5170010010', 'data': [{'year': '2018', 'period': 'M13', 'periodName': 'Annual', 'latest': 'true', 'value': '101888', 'footnotes': [{'code': 'P', 'text': 'Preliminary.'}], 'calculations': {'net_changes': {'1': '-1763', '3': '-478', '6': '-315', '12': '4134'}, 'pct_changes': {'1': '-1.7', '3': '-0.5', '6': '-0.3', '12': '4.2'}}}, {'year': '2018', 'period': 'M12', 'periodName': 'December', 'value': '103651', 'footnotes': [{'code': 'P', 'text': 'Preliminary.'}], 'calculations': {'net_changes': {'1': '636', '3': '1979', '6': '796', '12': '2977'}, 'pct_changes': {'1': '0.6', '3': '1.9', '6': '0.8', '12': '3.0'}}}, {'year': '2018', 'period': 'M11', 'periodName': 'November', 'value': '103015', 'footnotes': [{'code': 'P', 'text': 'Preliminary.'}], 'calculations': {'net_changes': {'1': '649', '3': '527', '6': '702', '12': '2975'}, 'pct_changes': {'1': '0.6', '3': '0.5', '6': '0.7', '12': '3.0'}}}, {'year': '2018', 'period': 'M10', 'periodName': 'October', 'value': '102366', 'footnotes': [{'code': 'P', 'text': 'Preliminary.'}], 'calculations': {'net_changes': {'1': '694', '3': '163', '6': '860', '12': '3482'}, 'pct_changes': {'1': '0.7', '3': '0.2', '6': '0.8', '12': '3.5'}}}, {'year': '2018', 'period': 'M09', 'periodName': 'September', 'value': '101672', 'footnotes': [{'code': 'P', 'text': 'Preliminary.'}], 'calculations': {'net_changes': {'1': '-816', '3': '-1183', '6': '691', '12': '3491'}, 'pct_changes': {'1': '-0.8', '3': '-1.2', '6': '0.7', '12': '3.6'}}}, {'year': '2018', 'period': 'M08', 'periodName': 'August', 'value': '102488', 'footnotes': [{'code': 'P', 'text': 'Preliminary.'}], 'calculations': {'net_changes': {'1': '285', '3': '175', '6': '2178', '12': '4986'}, 'pct_changes': {'1': '0.3', '3': '0.2', '6': '2.2', '12': '5.1'}}}, {'year': '2018', 'period': 'M07', 'periodName': 'July', 'value': '102203', 'footnotes': [{'code': 'P', 'text': 'Preliminary.'}], 'calculations': {'net_changes': {'1': '-652', '3': '697', '6': '2909', '12': '4487'}, 'pct_changes': {'1': '-0.6', '3': '0.7', '6': '2.9', '12': '4.6'}}}, {'year': '2018', 'period': 'M06', 'periodName': 'June', 'value': '102855', 'footnotes': [{'code': 'P', 'text': 'Preliminary.'}], 'calculations': {'net_changes': {'1': '542', '3': '1874', '6': '2181', '12': '5072'}, 'pct_changes': {'1': '0.5', '3': '1.9', '6': '2.2', '12': '5.2'}}}, {'year': '2018', 'period': 'M05', 'periodName': 'May', 'value': '102313', 'footnotes': [{'code': 'P', 'text': 'Preliminary.'}], 'calculations': {'net_changes': {'1': '807', '3': '2003', '6': '2273', '12': '5515'}, 'pct_changes': {'1': '0.8', '3': '2.0', '6': '2.3', '12': '5.7'}}}, {'year': '2018', 'period': 'M04', 'periodName': 'April', 'value': '101506', 'footnotes': [{'code': 'P', 'text': 'Preliminary.'}], 'calculations': {'net_changes': {'1': '525', '3': '2212', '6': '2622', '12': '4706'}, 'pct_changes': {'1': '0.5', '3': '2.2', '6': '2.7', '12': '4.9'}}}, {'year': '2018', 'period': 'M03', 'periodName': 'March', 'value': '100981', 'footnotes': [{'code': 'P', 'text': 'Preliminary.'}], 'calculations': {'net_changes': {'1': '671', '3': '307', '6': '2800', '12': '4389'}, 'pct_changes': {'1': '0.7', '3': '0.3', '6': '2.9', '12': '4.5'}}}, {'year': '2018', 'period': 'M02', 'periodName': 'February', 'value': '100310', 'footnotes': [{'code': 'P', 'text': 'Preliminary.'}], 'calculations': {'net_changes': {'1': '1016', '3': '270', '6': '2808', '12': '3924'}, 'pct_changes': {'1': '1.0', '3': '0.3', '6': '2.9', '12': '4.1'}}}, {'year': '2018', 'period': 'M01', 'periodName': 'January', 'value': '99294', 'footnotes': [{'code': 'P', 'text': 'Preliminary.'}], 'calculations': {'net_changes': {'1': '-1380', '3': '410', '6': '1578', '12': '3601'}, 'pct_changes': {'1': '-1.4', '3': '0.4', '6': '1.6', '12': '3.8'}}}]}, {'seriesID': 'ENU5171010010', 'data': [{'year': '2018', 'period': 'M13', 'periodName': 'Annual', 'latest': 'true', 'value': '142708', 'footnotes': [{'code': 'P', 'text': 'Preliminary.'}], 'calculations': {'net_changes': {'1': '-1269', '3': '-234', '6': '791', '12': '749'}, 'pct_changes': {'1': '-0.9', '3': '-0.2', '6': '0.6', '12': '0.5'}}}, {'year': '2018', 'period': 'M12', 'periodName': 'December', 'value': '143977', 'footnotes': [{'code': 'P', 'text': 'Preliminary.'}], 'calculations': {'net_changes': {'1': '-93', '3': '2462', '6': '-108', '12': '-270'}, 'pct_changes': {'1': '-0.1', '3': '1.7', '6': '-0.1', '12': '-0.2'}}}, {'year': '2018', 'period': 'M11', 'periodName': 'November', 'value': '144070', 'footnotes': [{'code': 'P', 'text': 'Preliminary.'}], 'calculations': {'net_changes': {'1': '1128', '3': '2092', '6': '1150', '12': '576'}, 'pct_changes': {'1': '0.8', '3': '1.5', '6': '0.8', '12': '0.4'}}}, {'year': '2018', 'period': 'M10', 'periodName': 'October', 'value': '142942', 'footnotes': [{'code': 'P', 'text': 'Preliminary.'}], 'calculations': {'net_changes': {'1': '1427', '3': '1025', '6': '-320', '12': '437'}, 'pct_changes': {'1': '1.0', '3': '0.7', '6': '-0.2', '12': '0.3'}}}, {'year': '2018', 'period': 'M09', 'periodName': 'September', 'value': '141515', 'footnotes': [{'code': 'P', 'text': 'Preliminary.'}], 'calculations': {'net_changes': {'1': '-463', '3': '-2570', '6': '-1601', '12': '-757'}, 'pct_changes': {'1': '-0.3', '3': '-1.8', '6': '-1.1', '12': '-0.5'}}}, {'year': '2018', 'period': 'M08', 'periodName': 'August', 'value': '141978', 'footnotes': [{'code': 'P', 'text': 'Preliminary.'}], 'calculations': {'net_changes': {'1': '61', '3': '-942', '6': '-295', '12': '1893'}, 'pct_changes': {'1': '0.0', '3': '-0.7', '6': '-0.2', '12': '1.4'}}}, {'year': '2018', 'period': 'M07', 'periodName': 'July', 'value': '141917', 'footnotes': [{'code': 'P', 'text': 'Preliminary.'}], 'calculations': {'net_changes': {'1': '-2168', '3': '-1345', '6': '1472', '12': '739'}, 'pct_changes': {'1': '-1.5', '3': '-0.9', '6': '1.0', '12': '0.5'}}}, {'year': '2018', 'period': 'M06', 'periodName': 'June', 'value': '144085', 'footnotes': [{'code': 'P', 'text': 'Preliminary.'}], 'calculations': {'net_changes': {'1': '1165', '3': '969', '6': '-162', '12': '1264'}, 'pct_changes': {'1': '0.8', '3': '0.7', '6': '-0.1', '12': '0.9'}}}, {'year': '2018', 'period': 'M05', 'periodName': 'May', 'value': '142920', 'footnotes': [{'code': 'P', 'text': 'Preliminary.'}], 'calculations': {'net_changes': {'1': '-342', '3': '647', '6': '-574', '12': '817'}, 'pct_changes': {'1': '-0.2', '3': '0.5', '6': '-0.4', '12': '0.6'}}}, {'year': '2018', 'period': 'M04', 'periodName': 'April', 'value': '143262', 'footnotes': [{'code': 'P', 'text': 'Preliminary.'}], 'calculations': {'net_changes': {'1': '146', '3': '2817', '6': '757', '12': '329'}, 'pct_changes': {'1': '0.1', '3': '2.0', '6': '0.5', '12': '0.2'}}}, {'year': '2018', 'period': 'M03', 'periodName': 'March', 'value': '143116', 'footnotes': [{'code': 'P', 'text': 'Preliminary.'}], 'calculations': {'net_changes': {'1': '843', '3': '-1131', '6': '844', '12': '1290'}, 'pct_changes': {'1': '0.6', '3': '-0.8', '6': '0.6', '12': '0.9'}}}, {'year': '2018', 'period': 'M02', 'periodName': 'February', 'value': '142273', 'footnotes': [{'code': 'P', 'text': 'Preliminary.'}], 'calculations': {'net_changes': {'1': '1828', '3': '-1221', '6': '2188', '12': '1100'}, 'pct_changes': {'1': '1.3', '3': '-0.9', '6': '1.6', '12': '0.8'}}}, {'year': '2018', 'period': 'M01', 'periodName': 'January', 'value': '140445', 'footnotes': [{'code': 'P', 'text': 'Preliminary.'}], 'calculations': {'net_changes': {'1': '-3802', '3': '-2060', '6': '-733', '12': '1580'}, 'pct_changes': {'1': '-2.6', '3': '-1.4', '6': '-0.5', '12': '1.1'}}}]}, {'seriesID': 'ENU5176010010', 'data': [{'year': '2018', 'period': 'M13', 'periodName': 'Annual', 'latest': 'true', 'value': '155622', 'footnotes': [{'code': 'P', 'text': 'Preliminary.'}], 'calculations': {'net_changes': {'1': '-786', '3': '-1775', '6': '344', '12': '1120'}, 'pct_changes': {'1': '-0.5', '3': '-1.1', '6': '0.2', '12': '0.7'}}}, {'year': '2018', 'period': 'M12', 'periodName': 'December', 'value': '156408', 'footnotes': [{'code': 'P', 'text': 'Preliminary.'}], 'calculations': {'net_changes': {'1': '-1601', '3': '1231', '6': '1314', '12': '1153'}, 'pct_changes': {'1': '-1.0', '3': '0.8', '6': '0.8', '12': '0.7'}}}, {'year': '2018', 'period': 'M11', 'periodName': 'November', 'value': '158009', 'footnotes': [{'code': 'P', 'text': 'Preliminary.'}], 'calculations': {'net_changes': {'1': '612', '3': '2091', '6': '3089', '12': '2314'}, 'pct_changes': {'1': '0.4', '3': '1.3', '6': '2.0', '12': '1.5'}}}, {'year': '2018', 'period': 'M10', 'periodName': 'October', 'value': '157397', 'footnotes': [{'code': 'P', 'text': 'Preliminary.'}], 'calculations': {'net_changes': {'1': '2220', '3': '2119', '6': '1840', '12': '2118'}, 'pct_changes': {'1': '1.4', '3': '1.4', '6': '1.2', '12': '1.4'}}}, {'year': '2018', 'period': 'M09', 'periodName': 'September', 'value': '155177', 'footnotes': [{'code': 'P', 'text': 'Preliminary.'}], 'calculations': {'net_changes': {'1': '-741', '3': '83', '6': '88', '12': '1081'}, 'pct_changes': {'1': '-0.5', '3': '0.1', '6': '0.1', '12': '0.7'}}}, {'year': '2018', 'period': 'M08', 'periodName': 'August', 'value': '155918', 'footnotes': [{'code': 'P', 'text': 'Preliminary.'}], 'calculations': {'net_changes': {'1': '640', '3': '998', '6': '808', '12': '1790'}, 'pct_changes': {'1': '0.4', '3': '0.6', '6': '0.5', '12': '1.2'}}}, {'year': '2018', 'period': 'M07', 'periodName': 'July', 'value': '155278', 'footnotes': [{'code': 'P', 'text': 'Preliminary.'}], 'calculations': {'net_changes': {'1': '184', '3': '-279', '6': '1773', '12': '1082'}, 'pct_changes': {'1': '0.1', '3': '-0.2', '6': '1.2', '12': '0.7'}}}, {'year': '2018', 'period': 'M06', 'periodName': 'June', 'value': '155094', 'footnotes': [{'code': 'P', 'text': 'Preliminary.'}], 'calculations': {'net_changes': {'1': '174', '3': '5', '6': '-161', '12': '857'}, 'pct_changes': {'1': '0.1', '3': '0.0', '6': '-0.1', '12': '0.6'}}}, {'year': '2018', 'period': 'M05', 'periodName': 'May', 'value': '154920', 'footnotes': [{'code': 'P', 'text': 'Preliminary.'}], 'calculations': {'net_changes': {'1': '-637', '3': '-190', '6': '-775', '12': '438'}, 'pct_changes': {'1': '-0.4', '3': '-0.1', '6': '-0.5', '12': '0.3'}}}, {'year': '2018', 'period': 'M04', 'periodName': 'April', 'value': '155557', 'footnotes': [{'code': 'P', 'text': 'Preliminary.'}], 'calculations': {'net_changes': {'1': '468', '3': '2052', '6': '278', '12': '650'}, 'pct_changes': {'1': '0.3', '3': '1.3', '6': '0.2', '12': '0.4'}}}, {'year': '2018', 'period': 'M03', 'periodName': 'March', 'value': '155089', 'footnotes': [{'code': 'P', 'text': 'Preliminary.'}], 'calculations': {'net_changes': {'1': '-21', '3': '-166', '6': '993', '12': '347'}, 'pct_changes': {'1': '0.0', '3': '-0.1', '6': '0.6', '12': '0.2'}}}, {'year': '2018', 'period': 'M02', 'periodName': 'February', 'value': '155110', 'footnotes': [{'code': 'P', 'text': 'Preliminary.'}], 'calculations': {'net_changes': {'1': '1605', '3': '-585', '6': '982', '12': '284'}, 'pct_changes': {'1': '1.0', '3': '-0.4', '6': '0.6', '12': '0.2'}}}, {'year': '2018', 'period': 'M01', 'periodName': 'January', 'value': '153505', 'footnotes': [{'code': 'P', 'text': 'Preliminary.'}], 'calculations': {'net_changes': {'1': '-1750', '3': '-1774', '6': '-691', '12': '1329'}, 'pct_changes': {'1': '-1.1', '3': '-1.1', '6': '-0.4', '12': '0.9'}}}]}, {'seriesID': 'ENU5181010010', 'data': [{'year': '2018', 'period': 'M13', 'periodName': 'Annual', 'latest': 'true', 'value': '178137', 'footnotes': [{'code': 'P', 'text': 'Preliminary.'}], 'calculations': {'net_changes': {'1': '251', '3': '-274', '6': '-4191', '12': '-204'}, 'pct_changes': {'1': '0.1', '3': '-0.2', '6': '-2.3', '12': '-0.1'}}}, {'year': '2018', 'period': 'M12', 'periodName': 'December', 'value': '177886', 'footnotes': [{'code': 'P', 'text': 'Preliminary.'}], 'calculations': {'net_changes': {'1': '103', '3': '1242', '6': '-5269', '12': '143'}, 'pct_changes': {'1': '0.1', '3': '0.7', '6': '-2.9', '12': '0.1'}}}, {'year': '2018', 'period': 'M11', 'periodName': 'November', 'value': '177783', 'footnotes': [{'code': 'P', 'text': 'Preliminary.'}], 'calculations': {'net_changes': {'1': '-628', '3': '-3519', '6': '-2360', '12': '587'}, 'pct_changes': {'1': '-0.4', '3': '-1.9', '6': '-1.3', '12': '0.3'}}}, {'year': '2018', 'period': 'M10', 'periodName': 'October', 'value': '178411', 'footnotes': [{'code': 'P', 'text': 'Preliminary.'}], 'calculations': {'net_changes': {'1': '1767', '3': '-3917', '6': '861', '12': '600'}, 'pct_changes': {'1': '1.0', '3': '-2.1', '6': '0.5', '12': '0.3'}}}, {'year': '2018', 'period': 'M09', 'periodName': 'September', 'value': '176644', 'footnotes': [{'code': 'P', 'text': 'Preliminary.'}], 'calculations': {'net_changes': {'1': '-4658', '3': '-6511', '6': '896', '12': '-2214'}, 'pct_changes': {'1': '-2.6', '3': '-3.6', '6': '0.5', '12': '-1.2'}}}, {'year': '2018', 'period': 'M08', 'periodName': 'August', 'value': '181302', 'footnotes': [{'code': 'P', 'text': 'Preliminary.'}], 'calculations': {'net_changes': {'1': '-1026', '3': '1159', '6': '7006', '12': '-285'}, 'pct_changes': {'1': '-0.6', '3': '0.6', '6': '4.0', '12': '-0.2'}}}, {'year': '2018', 'period': 'M07', 'periodName': 'July', 'value': '182328', 'footnotes': [{'code': 'P', 'text': 'Preliminary.'}], 'calculations': {'net_changes': {'1': '-827', '3': '4778', '6': '9927', '12': '-644'}, 'pct_changes': {'1': '-0.5', '3': '2.7', '6': '5.8', '12': '-0.4'}}}, {'year': '2018', 'period': 'M06', 'periodName': 'June', 'value': '183155', 'footnotes': [{'code': 'P', 'text': 'Preliminary.'}], 'calculations': {'net_changes': {'1': '3012', '3': '7407', '6': '5412', '12': '-885'}, 'pct_changes': {'1': '1.7', '3': '4.2', '6': '3.0', '12': '-0.5'}}}, {'year': '2018', 'period': 'M05', 'periodName': 'May', 'value': '180143', 'footnotes': [{'code': 'P', 'text': 'Preliminary.'}], 'calculations': {'net_changes': {'1': '2593', '3': '5847', '6': '2947', '12': '-556'}, 'pct_changes': {'1': '1.5', '3': '3.4', '6': '1.7', '12': '-0.3'}}}, {'year': '2018', 'period': 'M04', 'periodName': 'April', 'value': '177550', 'footnotes': [{'code': 'P', 'text': 'Preliminary.'}], 'calculations': {'net_changes': {'1': '1802', '3': '5149', '6': '-261', '12': '-481'}, 'pct_changes': {'1': '1.0', '3': '3.0', '6': '-0.1', '12': '-0.3'}}}, {'year': '2018', 'period': 'M03', 'periodName': 'March', 'value': '175748', 'footnotes': [{'code': 'P', 'text': 'Preliminary.'}], 'calculations': {'net_changes': {'1': '1452', '3': '-1995', '6': '-3110', '12': '424'}, 'pct_changes': {'1': '0.8', '3': '-1.1', '6': '-1.7', '12': '0.2'}}}, {'year': '2018', 'period': 'M02', 'periodName': 'February', 'value': '174296', 'footnotes': [{'code': 'P', 'text': 'Preliminary.'}], 'calculations': {'net_changes': {'1': '1895', '3': '-2900', '6': '-7291', '12': '399'}, 'pct_changes': {'1': '1.1', '3': '-1.6', '6': '-4.0', '12': '0.2'}}}, {'year': '2018', 'period': 'M01', 'periodName': 'January', 'value': '172401', 'footnotes': [{'code': 'P', 'text': 'Preliminary.'}], 'calculations': {'net_changes': {'1': '-5342', '3': '-5410', '6': '-10571', '12': '469'}, 'pct_changes': {'1': '-3.0', '3': '-3.0', '6': '-5.8', '12': '0.3'}}}]}, {'seriesID': 'ENU5301110010', 'data': [{'year': '2018', 'period': 'M13', 'periodName': 'Annual', 'latest': 'true', 'value': '161181', 'footnotes': [{'code': 'P', 'text': 'Preliminary.'}], 'calculations': {'net_changes': {'1': '-2692', '3': '-1704', '6': '-289', '12': '5581'}, 'pct_changes': {'1': '-1.6', '3': '-1.0', '6': '-0.2', '12': '3.6'}}}, {'year': '2018', 'period': 'M12', 'periodName': 'December', 'value': '163873', 'footnotes': [{'code': 'P', 'text': 'Preliminary.'}], 'calculations': {'net_changes': {'1': '419', '3': '1566', '6': '645', '12': '4919'}, 'pct_changes': {'1': '0.3', '3': '1.0', '6': '0.4', '12': '3.1'}}}, {'year': '2018', 'period': 'M11', 'periodName': 'November', 'value': '163454', 'footnotes': [{'code': 'P', 'text': 'Preliminary.'}], 'calculations': {'net_changes': {'1': '569', '3': '3298', '6': '1830', '12': '4970'}, 'pct_changes': {'1': '0.3', '3': '2.1', '6': '1.1', '12': '3.1'}}}, {'year': '2018', 'period': 'M10', 'periodName': 'October', 'value': '162885', 'footnotes': [{'code': 'P', 'text': 'Preliminary.'}], 'calculations': {'net_changes': {'1': '578', '3': '1415', '6': '2545', '12': '5031'}, 'pct_changes': {'1': '0.4', '3': '0.9', '6': '1.6', '12': '3.2'}}}, {'year': '2018', 'period': 'M09', 'periodName': 'September', 'value': '162307', 'footnotes': [{'code': 'P', 'text': 'Preliminary.'}], 'calculations': {'net_changes': {'1': '2151', '3': '-921', '6': '2334', '12': '4420'}, 'pct_changes': {'1': '1.3', '3': '-0.6', '6': '1.5', '12': '2.8'}}}, {'year': '2018', 'period': 'M08', 'periodName': 'August', 'value': '160156', 'footnotes': [{'code': 'P', 'text': 'Preliminary.'}], 'calculations': {'net_changes': {'1': '-1314', '3': '-1468', '6': '2134', '12': '4328'}, 'pct_changes': {'1': '-0.8', '3': '-0.9', '6': '1.4', '12': '2.8'}}}, {'year': '2018', 'period': 'M07', 'periodName': 'July', 'value': '161470', 'footnotes': [{'code': 'P', 'text': 'Preliminary.'}], 'calculations': {'net_changes': {'1': '-1758', '3': '1130', '6': '4625', '12': '4510'}, 'pct_changes': {'1': '-1.1', '3': '0.7', '6': '2.9', '12': '2.9'}}}, {'year': '2018', 'period': 'M06', 'periodName': 'June', 'value': '163228', 'footnotes': [{'code': 'P', 'text': 'Preliminary.'}], 'calculations': {'net_changes': {'1': '1604', '3': '3255', '6': '4274', '12': '5455'}, 'pct_changes': {'1': '1.0', '3': '2.0', '6': '2.7', '12': '3.5'}}}, {'year': '2018', 'period': 'M05', 'periodName': 'May', 'value': '161624', 'footnotes': [{'code': 'P', 'text': 'Preliminary.'}], 'calculations': {'net_changes': {'1': '1284', '3': '3602', '6': '3140', '12': '6063'}, 'pct_changes': {'1': '0.8', '3': '2.3', '6': '2.0', '12': '3.9'}}}, {'year': '2018', 'period': 'M04', 'periodName': 'April', 'value': '160340', 'footnotes': [{'code': 'P', 'text': 'Preliminary.'}], 'calculations': {'net_changes': {'1': '367', '3': '3495', '6': '2486', '12': '6231'}, 'pct_changes': {'1': '0.2', '3': '2.2', '6': '1.6', '12': '4.0'}}}, {'year': '2018', 'period': 'M03', 'periodName': 'March', 'value': '159973', 'footnotes': [{'code': 'P', 'text': 'Preliminary.'}], 'calculations': {'net_changes': {'1': '1951', '3': '1019', '6': '2086', '12': '6979'}, 'pct_changes': {'1': '1.2', '3': '0.6', '6': '1.3', '12': '4.6'}}}, {'year': '2018', 'period': 'M02', 'periodName': 'February', 'value': '158022', 'footnotes': [{'code': 'P', 'text': 'Preliminary.'}], 'calculations': {'net_changes': {'1': '1177', '3': '-462', '6': '2194', '12': '6619'}, 'pct_changes': {'1': '0.8', '3': '-0.3', '6': '1.4', '12': '4.4'}}}, {'year': '2018', 'period': 'M01', 'periodName': 'January', 'value': '156845', 'footnotes': [{'code': 'P', 'text': 'Preliminary.'}], 'calculations': {'net_changes': {'1': '-2109', '3': '-1009', '6': '-115', '12': '7456'}, 'pct_changes': {'1': '-1.3', '3': '-0.6', '6': '-0.1', '12': '5.0'}}}]}, {'seriesID': 'ENU5303310010', 'data': [{'year': '2018', 'period': 'M13', 'periodName': 'Annual', 'latest': 'true', 'value': '1393990', 'footnotes': [{'code': 'P', 'text': 'Preliminary.'}], 'calculations': {'net_changes': {'1': '-21878', '3': '-9827', '6': '-14241', '12': '37849'}, 'pct_changes': {'1': '-1.5', '3': '-0.7', '6': '-1.0', '12': '2.8'}}}, {'year': '2018', 'period': 'M12', 'periodName': 'December', 'value': '1415868', 'footnotes': [{'code': 'P', 'text': 'Preliminary.'}], 'calculations': {'net_changes': {'1': '5027', '3': '12502', '6': '11157', '12': '38512'}, 'pct_changes': {'1': '0.4', '3': '0.9', '6': '0.8', '12': '2.8'}}}, {'year': '2018', 'period': 'M11', 'periodName': 'November', 'value': '1410841', 'footnotes': [{'code': 'P', 'text': 'Preliminary.'}], 'calculations': {'net_changes': {'1': '7024', '3': '822', '6': '20993', '12': '40400'}, 'pct_changes': {'1': '0.5', '3': '0.1', '6': '1.5', '12': '2.9'}}}, {'year': '2018', 'period': 'M10', 'periodName': 'October', 'value': '1403817', 'footnotes': [{'code': 'P', 'text': 'Preliminary.'}], 'calculations': {'net_changes': {'1': '451', '3': '-4414', '6': '27019', '12': '39314'}, 'pct_changes': {'1': '0.0', '3': '-0.3', '6': '2.0', '12': '2.9'}}}, {'year': '2018', 'period': 'M09', 'periodName': 'September', 'value': '1403366', 'footnotes': [{'code': 'P', 'text': 'Preliminary.'}], 'calculations': {'net_changes': {'1': '-6653', '3': '-1345', '6': '29331', '12': '35974'}, 'pct_changes': {'1': '-0.5', '3': '-0.1', '6': '2.1', '12': '2.6'}}}, {'year': '2018', 'period': 'M08', 'periodName': 'August', 'value': '1410019', 'footnotes': [{'code': 'P', 'text': 'Preliminary.'}], 'calculations': {'net_changes': {'1': '1788', '3': '20171', '6': '43158', '12': '40024'}, 'pct_changes': {'1': '0.1', '3': '1.5', '6': '3.2', '12': '2.9'}}}, {'year': '2018', 'period': 'M07', 'periodName': 'July', 'value': '1408231', 'footnotes': [{'code': 'P', 'text': 'Preliminary.'}], 'calculations': {'net_changes': {'1': '3520', '3': '31433', '6': '44749', '12': '37286'}, 'pct_changes': {'1': '0.3', '3': '2.3', '6': '3.3', '12': '2.7'}}}, {'year': '2018', 'period': 'M06', 'periodName': 'June', 'value': '1404711', 'footnotes': [{'code': 'P', 'text': 'Preliminary.'}], 'calculations': {'net_changes': {'1': '14863', '3': '30676', '6': '27355', '12': '33622'}, 'pct_changes': {'1': '1.1', '3': '2.2', '6': '2.0', '12': '2.5'}}}, {'year': '2018', 'period': 'M05', 'periodName': 'May', 'value': '1389848', 'footnotes': [{'code': 'P', 'text': 'Preliminary.'}], 'calculations': {'net_changes': {'1': '13050', '3': '22987', '6': '19407', '12': '35037'}, 'pct_changes': {'1': '0.9', '3': '1.7', '6': '1.4', '12': '2.6'}}}, {'year': '2018', 'period': 'M04', 'periodName': 'April', 'value': '1376798', 'footnotes': [{'code': 'P', 'text': 'Preliminary.'}], 'calculations': {'net_changes': {'1': '2763', '3': '13316', '6': '12295', '12': '35080'}, 'pct_changes': {'1': '0.2', '3': '1.0', '6': '0.9', '12': '2.6'}}}, {'year': '2018', 'period': 'M03', 'periodName': 'March', 'value': '1374035', 'footnotes': [{'code': 'P', 'text': 'Preliminary.'}], 'calculations': {'net_changes': {'1': '7174', '3': '-3321', '6': '6643', '12': '37779'}, 'pct_changes': {'1': '0.5', '3': '-0.2', '6': '0.5', '12': '2.8'}}}, {'year': '2018', 'period': 'M02', 'periodName': 'February', 'value': '1366861', 'footnotes': [{'code': 'P', 'text': 'Preliminary.'}], 'calculations': {'net_changes': {'1': '3379', '3': '-3580', '6': '-3134', '12': '39698'}, 'pct_changes': {'1': '0.2', '3': '-0.3', '6': '-0.2', '12': '3.0'}}}, {'year': '2018', 'period': 'M01', 'periodName': 'January', 'value': '1363482', 'footnotes': [{'code': 'P', 'text': 'Preliminary.'}], 'calculations': {'net_changes': {'1': '-13874', '3': '-1021', '6': '-7463', '12': '41458'}, 'pct_changes': {'1': '-1.0', '3': '-0.1', '6': '-0.5', '12': '3.1'}}}]}, {'seriesID': 'ENU5305310010', 'data': [{'year': '2018', 'period': 'M13', 'periodName': 'Annual', 'latest': 'true', 'value': '311026', 'footnotes': [{'code': 'P', 'text': 'Preliminary.'}], 'calculations': {'net_changes': {'1': '-2861', '3': '-1890', '6': '-2381', '12': '8617'}, 'pct_changes': {'1': '-0.9', '3': '-0.6', '6': '-0.8', '12': '2.8'}}}, {'year': '2018', 'period': 'M12', 'periodName': 'December', 'value': '313887', 'footnotes': [{'code': 'P', 'text': 'Preliminary.'}], 'calculations': {'net_changes': {'1': '-1580', '3': '-400', '6': '489', '12': '6709'}, 'pct_changes': {'1': '-0.5', '3': '-0.1', '6': '0.2', '12': '2.2'}}}, {'year': '2018', 'period': 'M11', 'periodName': 'November', 'value': '315467', 'footnotes': [{'code': 'P', 'text': 'Preliminary.'}], 'calculations': {'net_changes': {'1': '2551', '3': '1684', '6': '4440', '12': '8576'}, 'pct_changes': {'1': '0.8', '3': '0.5', '6': '1.4', '12': '2.8'}}}, {'year': '2018', 'period': 'M10', 'periodName': 'October', 'value': '312916', 'footnotes': [{'code': 'P', 'text': 'Preliminary.'}], 'calculations': {'net_changes': {'1': '-1371', '3': '-491', '6': '3743', '12': '8109'}, 'pct_changes': {'1': '-0.4', '3': '-0.2', '6': '1.2', '12': '2.7'}}}, {'year': '2018', 'period': 'M09', 'periodName': 'September', 'value': '314287', 'footnotes': [{'code': 'P', 'text': 'Preliminary.'}], 'calculations': {'net_changes': {'1': '504', '3': '889', '6': '7990', '12': '8908'}, 'pct_changes': {'1': '0.2', '3': '0.3', '6': '2.6', '12': '2.9'}}}, {'year': '2018', 'period': 'M08', 'periodName': 'August', 'value': '313783', 'footnotes': [{'code': 'P', 'text': 'Preliminary.'}], 'calculations': {'net_changes': {'1': '376', '3': '2756', '6': '8851', '12': '10176'}, 'pct_changes': {'1': '0.1', '3': '0.9', '6': '2.9', '12': '3.4'}}}, {'year': '2018', 'period': 'M07', 'periodName': 'July', 'value': '313407', 'footnotes': [{'code': 'P', 'text': 'Preliminary.'}], 'calculations': {'net_changes': {'1': '9', '3': '4234', '6': '9668', '12': '9866'}, 'pct_changes': {'1': '0.0', '3': '1.4', '6': '3.2', '12': '3.3'}}}, {'year': '2018', 'period': 'M06', 'periodName': 'June', 'value': '313398', 'footnotes': [{'code': 'P', 'text': 'Preliminary.'}], 'calculations': {'net_changes': {'1': '2371', '3': '7101', '6': '6220', '12': '9209'}, 'pct_changes': {'1': '0.8', '3': '2.3', '6': '2.0', '12': '3.0'}}}, {'year': '2018', 'period': 'M05', 'periodName': 'May', 'value': '311027', 'footnotes': [{'code': 'P', 'text': 'Preliminary.'}], 'calculations': {'net_changes': {'1': '1854', '3': '6095', '6': '4136', '12': '9216'}, 'pct_changes': {'1': '0.6', '3': '2.0', '6': '1.3', '12': '3.1'}}}, {'year': '2018', 'period': 'M04', 'periodName': 'April', 'value': '309173', 'footnotes': [{'code': 'P', 'text': 'Preliminary.'}], 'calculations': {'net_changes': {'1': '2876', '3': '5434', '6': '4366', '12': '9442'}, 'pct_changes': {'1': '0.9', '3': '1.8', '6': '1.4', '12': '3.2'}}}, {'year': '2018', 'period': 'M03', 'periodName': 'March', 'value': '306297', 'footnotes': [{'code': 'P', 'text': 'Preliminary.'}], 'calculations': {'net_changes': {'1': '1365', '3': '-881', '6': '918', '12': '7728'}, 'pct_changes': {'1': '0.4', '3': '-0.3', '6': '0.3', '12': '2.6'}}}, {'year': '2018', 'period': 'M02', 'periodName': 'February', 'value': '304932', 'footnotes': [{'code': 'P', 'text': 'Preliminary.'}], 'calculations': {'net_changes': {'1': '1193', '3': '-1959', '6': '1325', '12': '8056'}, 'pct_changes': {'1': '0.4', '3': '-0.6', '6': '0.4', '12': '2.7'}}}, {'year': '2018', 'period': 'M01', 'periodName': 'January', 'value': '303739', 'footnotes': [{'code': 'P', 'text': 'Preliminary.'}], 'calculations': {'net_changes': {'1': '-3439', '3': '-1068', '6': '198', '12': '7410'}, 'pct_changes': {'1': '-1.1', '3': '-0.4', '6': '0.1', '12': '2.5'}}}]}, {'seriesID': 'ENU5306110010', 'data': [{'year': '2018', 'period': 'M13', 'periodName': 'Annual', 'latest': 'true', 'value': '287527', 'footnotes': [{'code': 'P', 'text': 'Preliminary.'}], 'calculations': {'net_changes': {'1': '-3149', '3': '-1770', '6': '-2202', '12': '3552'}, 'pct_changes': {'1': '-1.1', '3': '-0.6', '6': '-0.8', '12': '1.3'}}}, {'year': '2018', 'period': 'M12', 'periodName': 'December', 'value': '290676', 'footnotes': [{'code': 'P', 'text': 'Preliminary.'}], 'calculations': {'net_changes': {'1': '-382', '3': '1930', '6': '534', '12': '4624'}, 'pct_changes': {'1': '-0.1', '3': '0.7', '6': '0.2', '12': '1.6'}}}, {'year': '2018', 'period': 'M11', 'periodName': 'November', 'value': '291058', 'footnotes': [{'code': 'P', 'text': 'Preliminary.'}], 'calculations': {'net_changes': {'1': '1761', '3': '1456', '6': '3656', '12': '6363'}, 'pct_changes': {'1': '0.6', '3': '0.5', '6': '1.3', '12': '2.2'}}}, {'year': '2018', 'period': 'M10', 'periodName': 'October', 'value': '289297', 'footnotes': [{'code': 'P', 'text': 'Preliminary.'}], 'calculations': {'net_changes': {'1': '551', '3': '-432', '6': '4037', '12': '6264'}, 'pct_changes': {'1': '0.2', '3': '-0.1', '6': '1.4', '12': '2.2'}}}, {'year': '2018', 'period': 'M09', 'periodName': 'September', 'value': '288746', 'footnotes': [{'code': 'P', 'text': 'Preliminary.'}], 'calculations': {'net_changes': {'1': '-856', '3': '-1396', '6': '4460', '12': '5288'}, 'pct_changes': {'1': '-0.3', '3': '-0.5', '6': '1.6', '12': '1.9'}}}, {'year': '2018', 'period': 'M08', 'periodName': 'August', 'value': '289602', 'footnotes': [{'code': 'P', 'text': 'Preliminary.'}], 'calculations': {'net_changes': {'1': '-127', '3': '2200', '6': '7097', '12': '5746'}, 'pct_changes': {'1': '0.0', '3': '0.8', '6': '2.5', '12': '2.0'}}}, {'year': '2018', 'period': 'M07', 'periodName': 'July', 'value': '289729', 'footnotes': [{'code': 'P', 'text': 'Preliminary.'}], 'calculations': {'net_changes': {'1': '-413', '3': '4469', '6': '8107', '12': '4113'}, 'pct_changes': {'1': '-0.1', '3': '1.6', '6': '2.9', '12': '1.4'}}}, {'year': '2018', 'period': 'M06', 'periodName': 'June', 'value': '290142', 'footnotes': [{'code': 'P', 'text': 'Preliminary.'}], 'calculations': {'net_changes': {'1': '2740', '3': '5856', '6': '4090', '12': '3750'}, 'pct_changes': {'1': '1.0', '3': '2.1', '6': '1.4', '12': '1.3'}}}, {'year': '2018', 'period': 'M05', 'periodName': 'May', 'value': '287402', 'footnotes': [{'code': 'P', 'text': 'Preliminary.'}], 'calculations': {'net_changes': {'1': '2142', '3': '4897', '6': '2707', '12': '2947'}, 'pct_changes': {'1': '0.8', '3': '1.7', '6': '1.0', '12': '1.0'}}}, {'year': '2018', 'period': 'M04', 'periodName': 'April', 'value': '285260', 'footnotes': [{'code': 'P', 'text': 'Preliminary.'}], 'calculations': {'net_changes': {'1': '974', '3': '3638', '6': '2227', '12': '1476'}, 'pct_changes': {'1': '0.3', '3': '1.3', '6': '0.8', '12': '0.5'}}}, {'year': '2018', 'period': 'M03', 'periodName': 'March', 'value': '284286', 'footnotes': [{'code': 'P', 'text': 'Preliminary.'}], 'calculations': {'net_changes': {'1': '1781', '3': '-1766', '6': '828', '12': '1241'}, 'pct_changes': {'1': '0.6', '3': '-0.6', '6': '0.3', '12': '0.4'}}}, {'year': '2018', 'period': 'M02', 'periodName': 'February', 'value': '282505', 'footnotes': [{'code': 'P', 'text': 'Preliminary.'}], 'calculations': {'net_changes': {'1': '883', '3': '-2190', '6': '-1351', '12': '624'}, 'pct_changes': {'1': '0.3', '3': '-0.8', '6': '-0.5', '12': '0.2'}}}, {'year': '2018', 'period': 'M01', 'periodName': 'January', 'value': '281622', 'footnotes': [{'code': 'P', 'text': 'Preliminary.'}], 'calculations': {'net_changes': {'1': '-4430', '3': '-1411', '6': '-3994', '12': '185'}, 'pct_changes': {'1': '-1.5', '3': '-0.5', '6': '-1.4', '12': '0.1'}}}]}, {'seriesID': 'ENU5502510010', 'data': [{'year': '2018', 'period': 'M13', 'periodName': 'Annual', 'latest': 'true', 'value': '336366', 'footnotes': [{'code': 'P', 'text': 'Preliminary.'}], 'calculations': {'net_changes': {'1': '-3606', '3': '-2020', '6': '-2175', '12': '3666'}, 'pct_changes': {'1': '-1.1', '3': '-0.6', '6': '-0.6', '12': '1.1'}}}, {'year': '2018', 'period': 'M12', 'periodName': 'December', 'value': '339972', 'footnotes': [{'code': 'P', 'text': 'Preliminary.'}], 'calculations': {'net_changes': {'1': '-505', '3': '3989', '6': '487', '12': '2877'}, 'pct_changes': {'1': '-0.1', '3': '1.2', '6': '0.1', '12': '0.9'}}}, {'year': '2018', 'period': 'M11', 'periodName': 'November', 'value': '340477', 'footnotes': [{'code': 'P', 'text': 'Preliminary.'}], 'calculations': {'net_changes': {'1': '2091', '3': '1885', '6': '3383', '12': '3192'}, 'pct_changes': {'1': '0.6', '3': '0.6', '6': '1.0', '12': '0.9'}}}, {'year': '2018', 'period': 'M10', 'periodName': 'October', 'value': '338386', 'footnotes': [{'code': 'P', 'text': 'Preliminary.'}], 'calculations': {'net_changes': {'1': '2403', '3': '-155', '6': '3857', '12': '3268'}, 'pct_changes': {'1': '0.7', '3': '0.0', '6': '1.2', '12': '1.0'}}}, {'year': '2018', 'period': 'M09', 'periodName': 'September', 'value': '335983', 'footnotes': [{'code': 'P', 'text': 'Preliminary.'}], 'calculations': {'net_changes': {'1': '-2609', '3': '-3502', '6': '3910', '12': '2308'}, 'pct_changes': {'1': '-0.8', '3': '-1.0', '6': '1.2', '12': '0.7'}}}, {'year': '2018', 'period': 'M08', 'periodName': 'August', 'value': '338592', 'footnotes': [{'code': 'P', 'text': 'Preliminary.'}], 'calculations': {'net_changes': {'1': '51', '3': '1498', '6': '7398', '12': '4762'}, 'pct_changes': {'1': '0.0', '3': '0.4', '6': '2.2', '12': '1.4'}}}, {'year': '2018', 'period': 'M07', 'periodName': 'July', 'value': '338541', 'footnotes': [{'code': 'P', 'text': 'Preliminary.'}], 'calculations': {'net_changes': {'1': '-944', '3': '4012', '6': '8472', '12': '4276'}, 'pct_changes': {'1': '-0.3', '3': '1.2', '6': '2.6', '12': '1.3'}}}, {'year': '2018', 'period': 'M06', 'periodName': 'June', 'value': '339485', 'footnotes': [{'code': 'P', 'text': 'Preliminary.'}], 'calculations': {'net_changes': {'1': '2391', '3': '7412', '6': '2390', '12': '5180'}, 'pct_changes': {'1': '0.7', '3': '2.2', '6': '0.7', '12': '1.5'}}}, {'year': '2018', 'period': 'M05', 'periodName': 'May', 'value': '337094', 'footnotes': [{'code': 'P', 'text': 'Preliminary.'}], 'calculations': {'net_changes': {'1': '2565', '3': '5900', '6': '-191', '12': '3822'}, 'pct_changes': {'1': '0.8', '3': '1.8', '6': '-0.1', '12': '1.1'}}}, {'year': '2018', 'period': 'M04', 'periodName': 'April', 'value': '334529', 'footnotes': [{'code': 'P', 'text': 'Preliminary.'}], 'calculations': {'net_changes': {'1': '2456', '3': '4460', '6': '-589', '12': '3239'}, 'pct_changes': {'1': '0.7', '3': '1.4', '6': '-0.2', '12': '1.0'}}}, {'year': '2018', 'period': 'M03', 'periodName': 'March', 'value': '332073', 'footnotes': [{'code': 'P', 'text': 'Preliminary.'}], 'calculations': {'net_changes': {'1': '879', '3': '-5022', '6': '-1602', '12': '3262'}, 'pct_changes': {'1': '0.3', '3': '-1.5', '6': '-0.5', '12': '1.0'}}}, {'year': '2018', 'period': 'M02', 'periodName': 'February', 'value': '331194', 'footnotes': [{'code': 'P', 'text': 'Preliminary.'}], 'calculations': {'net_changes': {'1': '1125', '3': '-6091', '6': '-2636', '12': '3718'}, 'pct_changes': {'1': '0.3', '3': '-1.8', '6': '-0.8', '12': '1.1'}}}, {'year': '2018', 'period': 'M01', 'periodName': 'January', 'value': '330069', 'footnotes': [{'code': 'P', 'text': 'Preliminary.'}], 'calculations': {'net_changes': {'1': '-7026', '3': '-5049', '6': '-4196', '12': '4097'}, 'pct_changes': {'1': '-2.1', '3': '-1.5', '6': '-1.3', '12': '1.3'}}}]}, {'seriesID': 'ENU5507910010', 'data': [{'year': '2018', 'period': 'M13', 'periodName': 'Annual', 'latest': 'true', 'value': '489007', 'footnotes': [{'code': 'P', 'text': 'Preliminary.'}], 'calculations': {'net_changes': {'1': '-4508', '3': '-2692', '6': '7209', '12': '4311'}, 'pct_changes': {'1': '-0.9', '3': '-0.5', '6': '1.5', '12': '0.9'}}}, {'year': '2018', 'period': 'M12', 'periodName': 'December', 'value': '493515', 'footnotes': [{'code': 'P', 'text': 'Preliminary.'}], 'calculations': {'net_changes': {'1': '59', '3': '2279', '6': '-169', '12': '927'}, 'pct_changes': {'1': '0.0', '3': '0.5', '6': '0.0', '12': '0.2'}}}, {'year': '2018', 'period': 'M11', 'periodName': 'November', 'value': '493456', 'footnotes': [{'code': 'P', 'text': 'Preliminary.'}], 'calculations': {'net_changes': {'1': '1757', '3': '4844', '6': '3117', '12': '3130'}, 'pct_changes': {'1': '0.4', '3': '1.0', '6': '0.6', '12': '0.6'}}}, {'year': '2018', 'period': 'M10', 'periodName': 'October', 'value': '491699', 'footnotes': [{'code': 'P', 'text': 'Preliminary.'}], 'calculations': {'net_changes': {'1': '463', '3': '9901', '6': '4183', '12': '2168'}, 'pct_changes': {'1': '0.1', '3': '2.1', '6': '0.9', '12': '0.4'}}}, {'year': '2018', 'period': 'M09', 'periodName': 'September', 'value': '491236', 'footnotes': [{'code': 'P', 'text': 'Preliminary.'}], 'calculations': {'net_changes': {'1': '2624', '3': '-2448', '6': '3821', '12': '3325'}, 'pct_changes': {'1': '0.5', '3': '-0.5', '6': '0.8', '12': '0.7'}}}, {'year': '2018', 'period': 'M08', 'periodName': 'August', 'value': '488612', 'footnotes': [{'code': 'P', 'text': 'Preliminary.'}], 'calculations': {'net_changes': {'1': '6814', '3': '-1727', '6': '2844', '12': '4900'}, 'pct_changes': {'1': '1.4', '3': '-0.4', '6': '0.6', '12': '1.0'}}}, {'year': '2018', 'period': 'M07', 'periodName': 'July', 'value': '481798', 'footnotes': [{'code': 'P', 'text': 'Preliminary.'}], 'calculations': {'net_changes': {'1': '-11886', '3': '-5718', '6': '-1244', '12': '3092'}, 'pct_changes': {'1': '-2.4', '3': '-1.2', '6': '-0.3', '12': '0.6'}}}, {'year': '2018', 'period': 'M06', 'periodName': 'June', 'value': '493684', 'footnotes': [{'code': 'P', 'text': 'Preliminary.'}], 'calculations': {'net_changes': {'1': '3345', '3': '6269', '6': '1096', '12': '4192'}, 'pct_changes': {'1': '0.7', '3': '1.3', '6': '0.2', '12': '0.9'}}}, {'year': '2018', 'period': 'M05', 'periodName': 'May', 'value': '490339', 'footnotes': [{'code': 'P', 'text': 'Preliminary.'}], 'calculations': {'net_changes': {'1': '2823', '3': '4571', '6': '13', '12': '4332'}, 'pct_changes': {'1': '0.6', '3': '0.9', '6': '0.0', '12': '0.9'}}}, {'year': '2018', 'period': 'M04', 'periodName': 'April', 'value': '487516', 'footnotes': [{'code': 'P', 'text': 'Preliminary.'}], 'calculations': {'net_changes': {'1': '101', '3': '4474', '6': '-2015', '12': '5079'}, 'pct_changes': {'1': '0.0', '3': '0.9', '6': '-0.4', '12': '1.1'}}}, {'year': '2018', 'period': 'M03', 'periodName': 'March', 'value': '487415', 'footnotes': [{'code': 'P', 'text': 'Preliminary.'}], 'calculations': {'net_changes': {'1': '1647', '3': '-5173', '6': '-496', '12': '5952'}, 'pct_changes': {'1': '0.3', '3': '-1.1', '6': '-0.1', '12': '1.2'}}}, {'year': '2018', 'period': 'M02', 'periodName': 'February', 'value': '485768', 'footnotes': [{'code': 'P', 'text': 'Preliminary.'}], 'calculations': {'net_changes': {'1': '2726', '3': '-4558', '6': '2056', '12': '7829'}, 'pct_changes': {'1': '0.6', '3': '-0.9', '6': '0.4', '12': '1.6'}}}, {'year': '2018', 'period': 'M01', 'periodName': 'January', 'value': '483042', 'footnotes': [{'code': 'P', 'text': 'Preliminary.'}], 'calculations': {'net_changes': {'1': '-9546', '3': '-6489', '6': '4336', '12': '6807'}, 'pct_changes': {'1': '-1.9', '3': '-1.3', '6': '0.9', '12': '1.4'}}}]}]}}\n"
     ]
    }
   ],
   "source": [
    "print(json_data)"
   ]
  },
  {
   "cell_type": "code",
   "execution_count": 311,
   "metadata": {},
   "outputs": [],
   "source": [
    "with open('data.txt', 'w') as outfile:  \n",
    "    json.dump(json_data, outfile)"
   ]
  },
  {
   "cell_type": "code",
   "execution_count": 314,
   "metadata": {
    "scrolled": true
   },
   "outputs": [
    {
     "data": {
      "text/plain": [
       "16"
      ]
     },
     "execution_count": 314,
     "metadata": {},
     "output_type": "execute_result"
    }
   ],
   "source": [
    "len(series_name)"
   ]
  },
  {
   "cell_type": "code",
   "execution_count": 303,
   "metadata": {},
   "outputs": [
    {
     "data": {
      "text/plain": [
       "['1.6', '0.6', '-0.8', '1.9', '3.4', '1.2', '2.4', '1.8', '1.9', '3.4']"
      ]
     },
     "execution_count": 303,
     "metadata": {},
     "output_type": "execute_result"
    }
   ],
   "source": [
    "wage_data[:10]"
   ]
  },
  {
   "cell_type": "code",
   "execution_count": 377,
   "metadata": {},
   "outputs": [
    {
     "name": "stdout",
     "output_type": "stream",
     "text": [
      "(159, 2)\n"
     ]
    },
    {
     "data": {
      "text/html": [
       "<div>\n",
       "<style scoped>\n",
       "    .dataframe tbody tr th:only-of-type {\n",
       "        vertical-align: middle;\n",
       "    }\n",
       "\n",
       "    .dataframe tbody tr th {\n",
       "        vertical-align: top;\n",
       "    }\n",
       "\n",
       "    .dataframe thead th {\n",
       "        text-align: right;\n",
       "    }\n",
       "</style>\n",
       "<table border=\"1\" class=\"dataframe\">\n",
       "  <thead>\n",
       "    <tr style=\"text-align: right;\">\n",
       "      <th></th>\n",
       "      <th>Series</th>\n",
       "      <th>wages_2018_12mo_pct_chg</th>\n",
       "    </tr>\n",
       "  </thead>\n",
       "  <tbody>\n",
       "    <tr>\n",
       "      <th>0</th>\n",
       "      <td>ENU0107310010</td>\n",
       "      <td>1.6</td>\n",
       "    </tr>\n",
       "    <tr>\n",
       "      <th>1</th>\n",
       "      <td>ENU0109710010</td>\n",
       "      <td>0.6</td>\n",
       "    </tr>\n",
       "    <tr>\n",
       "      <th>2</th>\n",
       "      <td>ENU0110110010</td>\n",
       "      <td>-0.8</td>\n",
       "    </tr>\n",
       "    <tr>\n",
       "      <th>3</th>\n",
       "      <td>ENU0112510010</td>\n",
       "      <td>1.9</td>\n",
       "    </tr>\n",
       "    <tr>\n",
       "      <th>4</th>\n",
       "      <td>ENU0401310010</td>\n",
       "      <td>3.4</td>\n",
       "    </tr>\n",
       "  </tbody>\n",
       "</table>\n",
       "</div>"
      ],
      "text/plain": [
       "          Series  wages_2018_12mo_pct_chg\n",
       "0  ENU0107310010                      1.6\n",
       "1  ENU0109710010                      0.6\n",
       "2  ENU0110110010                     -0.8\n",
       "3  ENU0112510010                      1.9\n",
       "4  ENU0401310010                      3.4"
      ]
     },
     "execution_count": 377,
     "metadata": {},
     "output_type": "execute_result"
    }
   ],
   "source": [
    "wages = pd.DataFrame({\n",
    "    'Series':series_name,\n",
    "    'wages_2018_12mo_pct_chg':wage_data\n",
    "})\n",
    "\n",
    "wages['wages_2018_12mo_pct_chg'] = wages['wages_2018_12mo_pct_chg'].astype(float)\n",
    "print(wages.shape)\n",
    "\n",
    "# Export to CSV to save on API calls\n",
    "wages.to_csv('./output/wages_2018_pct_chg_by_county.csv', index=False)\n",
    "\n",
    "wages.head()"
   ]
  },
  {
   "cell_type": "markdown",
   "metadata": {},
   "source": [
    "### Merge wages into working dataset to get county name"
   ]
  },
  {
   "cell_type": "code",
   "execution_count": 378,
   "metadata": {},
   "outputs": [
    {
     "name": "stdout",
     "output_type": "stream",
     "text": [
      "(159, 4)\n"
     ]
    },
    {
     "data": {
      "text/html": [
       "<div>\n",
       "<style scoped>\n",
       "    .dataframe tbody tr th:only-of-type {\n",
       "        vertical-align: middle;\n",
       "    }\n",
       "\n",
       "    .dataframe tbody tr th {\n",
       "        vertical-align: top;\n",
       "    }\n",
       "\n",
       "    .dataframe thead th {\n",
       "        text-align: right;\n",
       "    }\n",
       "</style>\n",
       "<table border=\"1\" class=\"dataframe\">\n",
       "  <thead>\n",
       "    <tr style=\"text-align: right;\">\n",
       "      <th></th>\n",
       "      <th>State</th>\n",
       "      <th>County</th>\n",
       "      <th>area_fips</th>\n",
       "      <th>wages_2018_12mo_pct_chg</th>\n",
       "    </tr>\n",
       "    <tr>\n",
       "      <th>Series</th>\n",
       "      <th></th>\n",
       "      <th></th>\n",
       "      <th></th>\n",
       "      <th></th>\n",
       "    </tr>\n",
       "  </thead>\n",
       "  <tbody>\n",
       "    <tr>\n",
       "      <th>ENU0107310010</th>\n",
       "      <td>Alabama</td>\n",
       "      <td>Jefferson County</td>\n",
       "      <td>1073</td>\n",
       "      <td>1.6</td>\n",
       "    </tr>\n",
       "    <tr>\n",
       "      <th>ENU0109710010</th>\n",
       "      <td>Alabama</td>\n",
       "      <td>Mobile County</td>\n",
       "      <td>1097</td>\n",
       "      <td>0.6</td>\n",
       "    </tr>\n",
       "    <tr>\n",
       "      <th>ENU0110110010</th>\n",
       "      <td>Alabama</td>\n",
       "      <td>Montgomery County</td>\n",
       "      <td>1101</td>\n",
       "      <td>-0.8</td>\n",
       "    </tr>\n",
       "    <tr>\n",
       "      <th>ENU0112510010</th>\n",
       "      <td>Alabama</td>\n",
       "      <td>Tuscaloosa County</td>\n",
       "      <td>1125</td>\n",
       "      <td>1.9</td>\n",
       "    </tr>\n",
       "    <tr>\n",
       "      <th>ENU0401310010</th>\n",
       "      <td>Arizona</td>\n",
       "      <td>Maricopa County</td>\n",
       "      <td>4013</td>\n",
       "      <td>3.4</td>\n",
       "    </tr>\n",
       "  </tbody>\n",
       "</table>\n",
       "</div>"
      ],
      "text/plain": [
       "                 State             County  area_fips  wages_2018_12mo_pct_chg\n",
       "Series                                                                       \n",
       "ENU0107310010  Alabama   Jefferson County       1073                      1.6\n",
       "ENU0109710010  Alabama      Mobile County       1097                      0.6\n",
       "ENU0110110010  Alabama  Montgomery County       1101                     -0.8\n",
       "ENU0112510010  Alabama  Tuscaloosa County       1125                      1.9\n",
       "ENU0401310010  Arizona    Maricopa County       4013                      3.4"
      ]
     },
     "execution_count": 378,
     "metadata": {},
     "output_type": "execute_result"
    }
   ],
   "source": [
    "# Add Series column to Counties dataframe. Will be used as join key\n",
    "counties['Series'] = series_list\n",
    "counties.head()\n",
    "counties.tail()\n",
    "\n",
    "# Set index for join\n",
    "counties_for_join = counties.set_index('Series')\n",
    "wages_for_join = wages.set_index('Series')\n",
    "\n",
    "full_wage_data = counties_for_join.join(wages_for_join, how='inner')\n",
    "\n",
    "# Confirm join\n",
    "print(full_wage_data.shape)\n",
    "full_wage_data.head()"
   ]
  },
  {
   "cell_type": "markdown",
   "metadata": {},
   "source": [
    "### Analysis of 2018 Wages (12 month pct change)"
   ]
  },
  {
   "cell_type": "code",
   "execution_count": 379,
   "metadata": {},
   "outputs": [
    {
     "data": {
      "text/plain": [
       "count    159.000000\n",
       "mean       1.595597\n",
       "std        1.344014\n",
       "min       -2.000000\n",
       "25%        0.700000\n",
       "50%        1.500000\n",
       "75%        2.400000\n",
       "max        6.200000\n",
       "Name: wages_2018_12mo_pct_chg, dtype: float64"
      ]
     },
     "execution_count": 379,
     "metadata": {},
     "output_type": "execute_result"
    }
   ],
   "source": [
    "full_wage_data.wages_2018_12mo_pct_chg.describe()"
   ]
  },
  {
   "cell_type": "code",
   "execution_count": 380,
   "metadata": {},
   "outputs": [
    {
     "data": {
      "text/plain": [
       "<matplotlib.axes._subplots.AxesSubplot at 0x120067780>"
      ]
     },
     "execution_count": 380,
     "metadata": {},
     "output_type": "execute_result"
    },
    {
     "data": {
      "image/png": "[encoded data removed]",
      "text/plain": [
       "<Figure size 432x288 with 1 Axes>"
      ]
     },
     "metadata": {
      "needs_background": "light"
     },
     "output_type": "display_data"
    }
   ],
   "source": [
    "# Graph\n",
    "full_wage_data.boxplot('wages_2018_12mo_pct_chg')"
   ]
  },
  {
   "cell_type": "code",
   "execution_count": 381,
   "metadata": {},
   "outputs": [
    {
     "data": {
      "text/html": [
       "<div>\n",
       "<style scoped>\n",
       "    .dataframe tbody tr th:only-of-type {\n",
       "        vertical-align: middle;\n",
       "    }\n",
       "\n",
       "    .dataframe tbody tr th {\n",
       "        vertical-align: top;\n",
       "    }\n",
       "\n",
       "    .dataframe thead th {\n",
       "        text-align: right;\n",
       "    }\n",
       "</style>\n",
       "<table border=\"1\" class=\"dataframe\">\n",
       "  <thead>\n",
       "    <tr style=\"text-align: right;\">\n",
       "      <th></th>\n",
       "      <th>State</th>\n",
       "      <th>County</th>\n",
       "      <th>wages_2018_12mo_pct_chg</th>\n",
       "    </tr>\n",
       "    <tr>\n",
       "      <th>Series</th>\n",
       "      <th></th>\n",
       "      <th></th>\n",
       "      <th></th>\n",
       "    </tr>\n",
       "  </thead>\n",
       "  <tbody>\n",
       "    <tr>\n",
       "      <th>ENU3608110010</th>\n",
       "      <td>New York</td>\n",
       "      <td>Queens County</td>\n",
       "      <td>6.2</td>\n",
       "    </tr>\n",
       "    <tr>\n",
       "      <th>ENU4815710010</th>\n",
       "      <td>Texas</td>\n",
       "      <td>Fort Bend County</td>\n",
       "      <td>5.9</td>\n",
       "    </tr>\n",
       "    <tr>\n",
       "      <th>ENU4803910010</th>\n",
       "      <td>Texas</td>\n",
       "      <td>Brazoria County</td>\n",
       "      <td>5.2</td>\n",
       "    </tr>\n",
       "    <tr>\n",
       "      <th>ENU4849110010</th>\n",
       "      <td>Texas</td>\n",
       "      <td>Williamson County</td>\n",
       "      <td>4.8</td>\n",
       "    </tr>\n",
       "    <tr>\n",
       "      <th>ENU1600110010</th>\n",
       "      <td>Idaho</td>\n",
       "      <td>Ada County</td>\n",
       "      <td>4.8</td>\n",
       "    </tr>\n",
       "    <tr>\n",
       "      <th>ENU4714910010</th>\n",
       "      <td>Tennessee</td>\n",
       "      <td>Rutherford County</td>\n",
       "      <td>4.4</td>\n",
       "    </tr>\n",
       "    <tr>\n",
       "      <th>ENU0606110010</th>\n",
       "      <td>California</td>\n",
       "      <td>Placer County</td>\n",
       "      <td>4.3</td>\n",
       "    </tr>\n",
       "    <tr>\n",
       "      <th>ENU5170010010</th>\n",
       "      <td>Virginia</td>\n",
       "      <td>Newport News City</td>\n",
       "      <td>4.2</td>\n",
       "    </tr>\n",
       "    <tr>\n",
       "      <th>ENU4808510010</th>\n",
       "      <td>Texas</td>\n",
       "      <td>Collin County</td>\n",
       "      <td>4.2</td>\n",
       "    </tr>\n",
       "    <tr>\n",
       "      <th>ENU0800110010</th>\n",
       "      <td>Colorado</td>\n",
       "      <td>Adams County</td>\n",
       "      <td>4.0</td>\n",
       "    </tr>\n",
       "  </tbody>\n",
       "</table>\n",
       "</div>"
      ],
      "text/plain": [
       "                    State             County  wages_2018_12mo_pct_chg\n",
       "Series                                                               \n",
       "ENU3608110010    New York      Queens County                      6.2\n",
       "ENU4815710010       Texas   Fort Bend County                      5.9\n",
       "ENU4803910010       Texas    Brazoria County                      5.2\n",
       "ENU4849110010       Texas  Williamson County                      4.8\n",
       "ENU1600110010       Idaho         Ada County                      4.8\n",
       "ENU4714910010   Tennessee  Rutherford County                      4.4\n",
       "ENU0606110010  California      Placer County                      4.3\n",
       "ENU5170010010    Virginia  Newport News City                      4.2\n",
       "ENU4808510010       Texas      Collin County                      4.2\n",
       "ENU0800110010    Colorado       Adams County                      4.0"
      ]
     },
     "execution_count": 381,
     "metadata": {},
     "output_type": "execute_result"
    }
   ],
   "source": [
    "# Inspect high values\n",
    "full_wage_data[['State','County','wages_2018_12mo_pct_chg']].sort_values(by='wages_2018_12mo_pct_chg',ascending=False)[:10]\n",
    "\n"
   ]
  },
  {
   "cell_type": "code",
   "execution_count": 382,
   "metadata": {},
   "outputs": [
    {
     "data": {
      "text/html": [
       "<div>\n",
       "<style scoped>\n",
       "    .dataframe tbody tr th:only-of-type {\n",
       "        vertical-align: middle;\n",
       "    }\n",
       "\n",
       "    .dataframe tbody tr th {\n",
       "        vertical-align: top;\n",
       "    }\n",
       "\n",
       "    .dataframe thead th {\n",
       "        text-align: right;\n",
       "    }\n",
       "</style>\n",
       "<table border=\"1\" class=\"dataframe\">\n",
       "  <thead>\n",
       "    <tr style=\"text-align: right;\">\n",
       "      <th></th>\n",
       "      <th>State</th>\n",
       "      <th>County</th>\n",
       "      <th>wages_2018_12mo_pct_chg</th>\n",
       "    </tr>\n",
       "    <tr>\n",
       "      <th>Series</th>\n",
       "      <th></th>\n",
       "      <th></th>\n",
       "      <th></th>\n",
       "    </tr>\n",
       "  </thead>\n",
       "  <tbody>\n",
       "    <tr>\n",
       "      <th>ENU5151010010</th>\n",
       "      <td>Virginia</td>\n",
       "      <td>Alexandria City</td>\n",
       "      <td>-2.0</td>\n",
       "    </tr>\n",
       "    <tr>\n",
       "      <th>ENU0110110010</th>\n",
       "      <td>Alabama</td>\n",
       "      <td>Montgomery County</td>\n",
       "      <td>-0.8</td>\n",
       "    </tr>\n",
       "    <tr>\n",
       "      <th>ENU4837510010</th>\n",
       "      <td>Texas</td>\n",
       "      <td>Potter County</td>\n",
       "      <td>-0.8</td>\n",
       "    </tr>\n",
       "    <tr>\n",
       "      <th>ENU2106710010</th>\n",
       "      <td>Kentucky</td>\n",
       "      <td>Fayette County</td>\n",
       "      <td>-0.8</td>\n",
       "    </tr>\n",
       "    <tr>\n",
       "      <th>ENU2020910010</th>\n",
       "      <td>Kansas</td>\n",
       "      <td>Wyandotte County</td>\n",
       "      <td>-0.6</td>\n",
       "    </tr>\n",
       "    <tr>\n",
       "      <th>ENU1704310010</th>\n",
       "      <td>Illinois</td>\n",
       "      <td>DuPage County</td>\n",
       "      <td>-0.6</td>\n",
       "    </tr>\n",
       "    <tr>\n",
       "      <th>ENU4816710010</th>\n",
       "      <td>Texas</td>\n",
       "      <td>Galveston County</td>\n",
       "      <td>-0.6</td>\n",
       "    </tr>\n",
       "    <tr>\n",
       "      <th>ENU2606510010</th>\n",
       "      <td>Michigan</td>\n",
       "      <td>Ingham County</td>\n",
       "      <td>-0.4</td>\n",
       "    </tr>\n",
       "    <tr>\n",
       "      <th>ENU5165010010</th>\n",
       "      <td>Virginia</td>\n",
       "      <td>Hampton City</td>\n",
       "      <td>-0.4</td>\n",
       "    </tr>\n",
       "    <tr>\n",
       "      <th>ENU2201710010</th>\n",
       "      <td>Louisiana</td>\n",
       "      <td>Caddo Parish</td>\n",
       "      <td>-0.4</td>\n",
       "    </tr>\n",
       "  </tbody>\n",
       "</table>\n",
       "</div>"
      ],
      "text/plain": [
       "                   State             County  wages_2018_12mo_pct_chg\n",
       "Series                                                              \n",
       "ENU5151010010   Virginia    Alexandria City                     -2.0\n",
       "ENU0110110010    Alabama  Montgomery County                     -0.8\n",
       "ENU4837510010      Texas      Potter County                     -0.8\n",
       "ENU2106710010   Kentucky     Fayette County                     -0.8\n",
       "ENU2020910010     Kansas   Wyandotte County                     -0.6\n",
       "ENU1704310010   Illinois      DuPage County                     -0.6\n",
       "ENU4816710010      Texas   Galveston County                     -0.6\n",
       "ENU2606510010   Michigan      Ingham County                     -0.4\n",
       "ENU5165010010   Virginia       Hampton City                     -0.4\n",
       "ENU2201710010  Louisiana       Caddo Parish                     -0.4"
      ]
     },
     "execution_count": 382,
     "metadata": {},
     "output_type": "execute_result"
    }
   ],
   "source": [
    "# Inspect low values\n",
    "full_wage_data[['State','County','wages_2018_12mo_pct_chg']].sort_values(by='wages_2018_12mo_pct_chg')[:10]"
   ]
  },
  {
   "cell_type": "code",
   "execution_count": 383,
   "metadata": {},
   "outputs": [
    {
     "data": {
      "text/plain": [
       "<matplotlib.axes._subplots.AxesSubplot at 0x120db5a58>"
      ]
     },
     "execution_count": 383,
     "metadata": {},
     "output_type": "execute_result"
    },
    {
     "data": {
      "image/png": "[encoded data removed]",
      "text/plain": [
       "<Figure size 432x288 with 1 Axes>"
      ]
     },
     "metadata": {
      "needs_background": "light"
     },
     "output_type": "display_data"
    }
   ],
   "source": [
    "sns.distplot(full_wage_data['wages_2018_12mo_pct_chg'])"
   ]
  },
  {
   "cell_type": "code",
   "execution_count": null,
   "metadata": {},
   "outputs": [],
   "source": []
  }
 ],
 "metadata": {
  "kernelspec": {
   "display_name": "Python 3",
   "language": "python",
   "name": "python3"
  },
  "language_info": {
   "codemirror_mode": {
    "name": "ipython",
    "version": 3
   },
   "file_extension": ".py",
   "mimetype": "text/x-python",
   "name": "python",
   "nbconvert_exporter": "python",
   "pygments_lexer": "ipython3",
   "version": "3.7.3"
  }
 },
 "nbformat": 4,
 "nbformat_minor": 2
}
