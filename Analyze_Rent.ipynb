{
 "cells": [
  {
   "cell_type": "code",
   "execution_count": 13,
   "metadata": {},
   "outputs": [],
   "source": [
    "import pandas as pd\n",
    "import matplotlib.pyplot as plt\n",
    "import seaborn as sns"
   ]
  },
  {
   "cell_type": "code",
   "execution_count": 3,
   "metadata": {},
   "outputs": [
    {
     "data": {
      "text/html": [
       "<div>\n",
       "<style scoped>\n",
       "    .dataframe tbody tr th:only-of-type {\n",
       "        vertical-align: middle;\n",
       "    }\n",
       "\n",
       "    .dataframe tbody tr th {\n",
       "        vertical-align: top;\n",
       "    }\n",
       "\n",
       "    .dataframe thead th {\n",
       "        text-align: right;\n",
       "    }\n",
       "</style>\n",
       "<table border=\"1\" class=\"dataframe\">\n",
       "  <thead>\n",
       "    <tr style=\"text-align: right;\">\n",
       "      <th></th>\n",
       "      <th>City</th>\n",
       "      <th>State</th>\n",
       "      <th>lat</th>\n",
       "      <th>long</th>\n",
       "      <th>Metro</th>\n",
       "      <th>County</th>\n",
       "      <th>2010-12</th>\n",
       "      <th>2011-12</th>\n",
       "      <th>2012-12</th>\n",
       "      <th>2013-12</th>\n",
       "      <th>...</th>\n",
       "      <th>2016-12</th>\n",
       "      <th>2017-12</th>\n",
       "      <th>2018-12</th>\n",
       "      <th>2019-01</th>\n",
       "      <th>2019-02</th>\n",
       "      <th>2019-03</th>\n",
       "      <th>2019-04</th>\n",
       "      <th>2019-05</th>\n",
       "      <th>2019_Avg</th>\n",
       "      <th>State_abbrev</th>\n",
       "    </tr>\n",
       "  </thead>\n",
       "  <tbody>\n",
       "    <tr>\n",
       "      <th>0</th>\n",
       "      <td>Ontario</td>\n",
       "      <td>California</td>\n",
       "      <td>34.0394</td>\n",
       "      <td>-117.6042</td>\n",
       "      <td>Riverside-San Bernardino-Ontario</td>\n",
       "      <td>San Bernardino County</td>\n",
       "      <td>NaN</td>\n",
       "      <td>NaN</td>\n",
       "      <td>NaN</td>\n",
       "      <td>NaN</td>\n",
       "      <td>...</td>\n",
       "      <td>NaN</td>\n",
       "      <td>1521.0</td>\n",
       "      <td>1637.0</td>\n",
       "      <td>1650.0</td>\n",
       "      <td>1649.0</td>\n",
       "      <td>1622.5</td>\n",
       "      <td>1647.0</td>\n",
       "      <td>1594.5</td>\n",
       "      <td>1632.6</td>\n",
       "      <td>CA</td>\n",
       "    </tr>\n",
       "    <tr>\n",
       "      <th>1</th>\n",
       "      <td>Santa Clara</td>\n",
       "      <td>California</td>\n",
       "      <td>37.3646</td>\n",
       "      <td>-121.9679</td>\n",
       "      <td>San Jose-Sunnyvale-Santa Clara</td>\n",
       "      <td>Santa Clara County</td>\n",
       "      <td>NaN</td>\n",
       "      <td>NaN</td>\n",
       "      <td>1727.0</td>\n",
       "      <td>1886.0</td>\n",
       "      <td>...</td>\n",
       "      <td>2425.0</td>\n",
       "      <td>2395.0</td>\n",
       "      <td>2550.0</td>\n",
       "      <td>2533.0</td>\n",
       "      <td>2623.5</td>\n",
       "      <td>2588.5</td>\n",
       "      <td>2509.5</td>\n",
       "      <td>2545.0</td>\n",
       "      <td>2559.9</td>\n",
       "      <td>CA</td>\n",
       "    </tr>\n",
       "    <tr>\n",
       "      <th>2</th>\n",
       "      <td>Fresno</td>\n",
       "      <td>California</td>\n",
       "      <td>36.7836</td>\n",
       "      <td>-119.7934</td>\n",
       "      <td>Fresno</td>\n",
       "      <td>Fresno County</td>\n",
       "      <td>NaN</td>\n",
       "      <td>NaN</td>\n",
       "      <td>NaN</td>\n",
       "      <td>NaN</td>\n",
       "      <td>...</td>\n",
       "      <td>595.0</td>\n",
       "      <td>650.0</td>\n",
       "      <td>775.0</td>\n",
       "      <td>795.0</td>\n",
       "      <td>795.0</td>\n",
       "      <td>800.0</td>\n",
       "      <td>850.0</td>\n",
       "      <td>907.5</td>\n",
       "      <td>829.5</td>\n",
       "      <td>CA</td>\n",
       "    </tr>\n",
       "    <tr>\n",
       "      <th>3</th>\n",
       "      <td>Akron</td>\n",
       "      <td>Ohio</td>\n",
       "      <td>41.0805</td>\n",
       "      <td>-81.5214</td>\n",
       "      <td>Akron</td>\n",
       "      <td>Summit County</td>\n",
       "      <td>NaN</td>\n",
       "      <td>NaN</td>\n",
       "      <td>NaN</td>\n",
       "      <td>NaN</td>\n",
       "      <td>...</td>\n",
       "      <td>NaN</td>\n",
       "      <td>535.0</td>\n",
       "      <td>550.0</td>\n",
       "      <td>550.0</td>\n",
       "      <td>550.0</td>\n",
       "      <td>540.0</td>\n",
       "      <td>580.0</td>\n",
       "      <td>575.0</td>\n",
       "      <td>559.0</td>\n",
       "      <td>OH</td>\n",
       "    </tr>\n",
       "    <tr>\n",
       "      <th>4</th>\n",
       "      <td>Syracuse</td>\n",
       "      <td>New York</td>\n",
       "      <td>43.0410</td>\n",
       "      <td>-76.1436</td>\n",
       "      <td>Syracuse</td>\n",
       "      <td>Onondaga County</td>\n",
       "      <td>NaN</td>\n",
       "      <td>NaN</td>\n",
       "      <td>NaN</td>\n",
       "      <td>NaN</td>\n",
       "      <td>...</td>\n",
       "      <td>NaN</td>\n",
       "      <td>NaN</td>\n",
       "      <td>800.0</td>\n",
       "      <td>800.0</td>\n",
       "      <td>750.0</td>\n",
       "      <td>800.0</td>\n",
       "      <td>825.0</td>\n",
       "      <td>797.5</td>\n",
       "      <td>794.5</td>\n",
       "      <td>NY</td>\n",
       "    </tr>\n",
       "  </tbody>\n",
       "</table>\n",
       "<p>5 rows × 22 columns</p>\n",
       "</div>"
      ],
      "text/plain": [
       "          City       State      lat      long  \\\n",
       "0      Ontario  California  34.0394 -117.6042   \n",
       "1  Santa Clara  California  37.3646 -121.9679   \n",
       "2       Fresno  California  36.7836 -119.7934   \n",
       "3        Akron        Ohio  41.0805  -81.5214   \n",
       "4     Syracuse    New York  43.0410  -76.1436   \n",
       "\n",
       "                              Metro                 County  2010-12  2011-12  \\\n",
       "0  Riverside-San Bernardino-Ontario  San Bernardino County      NaN      NaN   \n",
       "1    San Jose-Sunnyvale-Santa Clara     Santa Clara County      NaN      NaN   \n",
       "2                            Fresno          Fresno County      NaN      NaN   \n",
       "3                             Akron          Summit County      NaN      NaN   \n",
       "4                          Syracuse        Onondaga County      NaN      NaN   \n",
       "\n",
       "   2012-12  2013-12  ...  2016-12  2017-12  2018-12  2019-01  2019-02  \\\n",
       "0      NaN      NaN  ...      NaN   1521.0   1637.0   1650.0   1649.0   \n",
       "1   1727.0   1886.0  ...   2425.0   2395.0   2550.0   2533.0   2623.5   \n",
       "2      NaN      NaN  ...    595.0    650.0    775.0    795.0    795.0   \n",
       "3      NaN      NaN  ...      NaN    535.0    550.0    550.0    550.0   \n",
       "4      NaN      NaN  ...      NaN      NaN    800.0    800.0    750.0   \n",
       "\n",
       "   2019-03  2019-04  2019-05  2019_Avg  State_abbrev  \n",
       "0   1622.5   1647.0   1594.5    1632.6            CA  \n",
       "1   2588.5   2509.5   2545.0    2559.9            CA  \n",
       "2    800.0    850.0    907.5     829.5            CA  \n",
       "3    540.0    580.0    575.0     559.0            OH  \n",
       "4    800.0    825.0    797.5     794.5            NY  \n",
       "\n",
       "[5 rows x 22 columns]"
      ]
     },
     "execution_count": 3,
     "metadata": {},
     "output_type": "execute_result"
    }
   ],
   "source": [
    "rent_data = pd.read_csv('./output/master_data.csv')\n",
    "rent_data.head()"
   ]
  },
  {
   "cell_type": "markdown",
   "metadata": {},
   "source": [
    "### Analyzing the Average 2019 Rent Price\n",
    "* Is average rent for 219 uniformly distributed?\n",
    "* Are there outliers?"
   ]
  },
  {
   "cell_type": "code",
   "execution_count": 20,
   "metadata": {},
   "outputs": [
    {
     "data": {
      "text/plain": [
       "count     242.000000\n",
       "mean     1288.907025\n",
       "std       529.479964\n",
       "min       480.500000\n",
       "25%       895.750000\n",
       "50%      1236.050000\n",
       "75%      1576.200000\n",
       "max      3524.000000\n",
       "Name: 2019_Avg, dtype: float64"
      ]
     },
     "execution_count": 20,
     "metadata": {},
     "output_type": "execute_result"
    }
   ],
   "source": [
    "rent_data['2019_Avg'].describe()"
   ]
  },
  {
   "cell_type": "code",
   "execution_count": 19,
   "metadata": {},
   "outputs": [
    {
     "data": {
      "text/plain": [
       "<matplotlib.axes._subplots.AxesSubplot at 0x11e622ef0>"
      ]
     },
     "execution_count": 19,
     "metadata": {},
     "output_type": "execute_result"
    },
    {
     "data": {
      "image/png": "[encoded data removed]",
      "text/plain": [
       "<Figure size 432x288 with 1 Axes>"
      ]
     },
     "metadata": {
      "needs_background": "light"
     },
     "output_type": "display_data"
    }
   ],
   "source": [
    "rent_data.boxplot('2019_Avg')"
   ]
  },
  {
   "cell_type": "code",
   "execution_count": 18,
   "metadata": {
    "scrolled": true
   },
   "outputs": [
    {
     "data": {
      "text/plain": [
       "<matplotlib.axes._subplots.AxesSubplot at 0x11e6cbf28>"
      ]
     },
     "execution_count": 18,
     "metadata": {},
     "output_type": "execute_result"
    },
    {
     "data": {
      "image/png": "[encoded data removed]",
      "text/plain": [
       "<Figure size 432x288 with 1 Axes>"
      ]
     },
     "metadata": {
      "needs_background": "light"
     },
     "output_type": "display_data"
    }
   ],
   "source": [
    "sns.stripplot(rent_data['2019_Avg'])"
   ]
  },
  {
   "cell_type": "code",
   "execution_count": 41,
   "metadata": {},
   "outputs": [
    {
     "data": {
      "text/plain": [
       "<matplotlib.axes._subplots.AxesSubplot at 0x121b1d748>"
      ]
     },
     "execution_count": 41,
     "metadata": {},
     "output_type": "execute_result"
    },
    {
     "data": {
      "image/png": "[encoded data removed]",
      "text/plain": [
       "<Figure size 1080x360 with 2 Axes>"
      ]
     },
     "metadata": {
      "needs_background": "light"
     },
     "output_type": "display_data"
    }
   ],
   "source": [
    "high_rent = rent_data[['City','State','Metro','2019_Avg']][rent_data['2019_Avg'] >= 2000]\n",
    "low_rent = rent_data[['City','State','Metro','2019_Avg']][rent_data['2019_Avg'] < 2000]\n",
    "\n",
    "fig, (ax1, ax2) = plt.subplots(ncols=2, sharey=False, figsize=(15,5))\n",
    "\n",
    "sns.distplot(rent_data['2019_Avg'], ax=ax1)\n",
    "sns.distplot(low_rent['2019_Avg'], ax=ax2)"
   ]
  },
  {
   "cell_type": "markdown",
   "metadata": {},
   "source": [
    "Based on the above, we clearly see that the average rent for the 242 cities in the sample follow a general uniform distribution, albeit with a clear left skew. The majority of cities seem to have rent around \\$1,000 - \\$1,500 per month. There also seem to be a few outliers around the 2,000+ mark:"
   ]
  },
  {
   "cell_type": "code",
   "execution_count": 42,
   "metadata": {},
   "outputs": [
    {
     "name": "stdout",
     "output_type": "stream",
     "text": [
      "(27, 4)\n"
     ]
    },
    {
     "data": {
      "text/html": [
       "<div>\n",
       "<style scoped>\n",
       "    .dataframe tbody tr th:only-of-type {\n",
       "        vertical-align: middle;\n",
       "    }\n",
       "\n",
       "    .dataframe tbody tr th {\n",
       "        vertical-align: top;\n",
       "    }\n",
       "\n",
       "    .dataframe thead th {\n",
       "        text-align: right;\n",
       "    }\n",
       "</style>\n",
       "<table border=\"1\" class=\"dataframe\">\n",
       "  <thead>\n",
       "    <tr style=\"text-align: right;\">\n",
       "      <th></th>\n",
       "      <th>City</th>\n",
       "      <th>Metro</th>\n",
       "      <th>2019_Avg</th>\n",
       "    </tr>\n",
       "    <tr>\n",
       "      <th>State</th>\n",
       "      <th></th>\n",
       "      <th></th>\n",
       "      <th></th>\n",
       "    </tr>\n",
       "  </thead>\n",
       "  <tbody>\n",
       "    <tr>\n",
       "      <th>California</th>\n",
       "      <td>19</td>\n",
       "      <td>19</td>\n",
       "      <td>19</td>\n",
       "    </tr>\n",
       "    <tr>\n",
       "      <th>Connecticut</th>\n",
       "      <td>1</td>\n",
       "      <td>1</td>\n",
       "      <td>1</td>\n",
       "    </tr>\n",
       "    <tr>\n",
       "      <th>District of Columbia</th>\n",
       "      <td>1</td>\n",
       "      <td>1</td>\n",
       "      <td>1</td>\n",
       "    </tr>\n",
       "    <tr>\n",
       "      <th>Massachusetts</th>\n",
       "      <td>2</td>\n",
       "      <td>2</td>\n",
       "      <td>2</td>\n",
       "    </tr>\n",
       "    <tr>\n",
       "      <th>New Jersey</th>\n",
       "      <td>1</td>\n",
       "      <td>1</td>\n",
       "      <td>1</td>\n",
       "    </tr>\n",
       "    <tr>\n",
       "      <th>New York</th>\n",
       "      <td>1</td>\n",
       "      <td>1</td>\n",
       "      <td>1</td>\n",
       "    </tr>\n",
       "    <tr>\n",
       "      <th>Washington</th>\n",
       "      <td>2</td>\n",
       "      <td>2</td>\n",
       "      <td>2</td>\n",
       "    </tr>\n",
       "  </tbody>\n",
       "</table>\n",
       "</div>"
      ],
      "text/plain": [
       "                      City  Metro  2019_Avg\n",
       "State                                      \n",
       "California              19     19        19\n",
       "Connecticut              1      1         1\n",
       "District of Columbia     1      1         1\n",
       "Massachusetts            2      2         2\n",
       "New Jersey               1      1         1\n",
       "New York                 1      1         1\n",
       "Washington               2      2         2"
      ]
     },
     "execution_count": 42,
     "metadata": {},
     "output_type": "execute_result"
    }
   ],
   "source": [
    "# Analyze cities with high rent (>= $2,000)\n",
    "\n",
    "print(high_rent.shape)\n",
    "\n",
    "high_rent_grouped = high_rent.groupby('State').count()\n",
    "high_rent_grouped"
   ]
  },
  {
   "cell_type": "markdown",
   "metadata": {},
   "source": [
    "70% of the 27 cities with average rent of a 1 bedroom apartment in excess of 2,000/mo are located in Califronia which isn't terribly surprising. Let's group by metro area:"
   ]
  },
  {
   "cell_type": "code",
   "execution_count": 32,
   "metadata": {
    "scrolled": true
   },
   "outputs": [
    {
     "data": {
      "text/html": [
       "<div>\n",
       "<style scoped>\n",
       "    .dataframe tbody tr th:only-of-type {\n",
       "        vertical-align: middle;\n",
       "    }\n",
       "\n",
       "    .dataframe tbody tr th {\n",
       "        vertical-align: top;\n",
       "    }\n",
       "\n",
       "    .dataframe thead th {\n",
       "        text-align: right;\n",
       "    }\n",
       "</style>\n",
       "<table border=\"1\" class=\"dataframe\">\n",
       "  <thead>\n",
       "    <tr style=\"text-align: right;\">\n",
       "      <th></th>\n",
       "      <th>City</th>\n",
       "      <th>State</th>\n",
       "      <th>2019_Avg</th>\n",
       "    </tr>\n",
       "    <tr>\n",
       "      <th>Metro</th>\n",
       "      <th></th>\n",
       "      <th></th>\n",
       "      <th></th>\n",
       "    </tr>\n",
       "  </thead>\n",
       "  <tbody>\n",
       "    <tr>\n",
       "      <th>Boston-Cambridge-Newton</th>\n",
       "      <td>2</td>\n",
       "      <td>2</td>\n",
       "      <td>2</td>\n",
       "    </tr>\n",
       "    <tr>\n",
       "      <th>Bridgeport-Stamford-Norwalk</th>\n",
       "      <td>1</td>\n",
       "      <td>1</td>\n",
       "      <td>1</td>\n",
       "    </tr>\n",
       "    <tr>\n",
       "      <th>Los Angeles-Long Beach-Anaheim</th>\n",
       "      <td>8</td>\n",
       "      <td>8</td>\n",
       "      <td>8</td>\n",
       "    </tr>\n",
       "    <tr>\n",
       "      <th>New York-Newark-Jersey City</th>\n",
       "      <td>2</td>\n",
       "      <td>2</td>\n",
       "      <td>2</td>\n",
       "    </tr>\n",
       "    <tr>\n",
       "      <th>San Diego-Carlsbad</th>\n",
       "      <td>2</td>\n",
       "      <td>2</td>\n",
       "      <td>2</td>\n",
       "    </tr>\n",
       "    <tr>\n",
       "      <th>San Francisco-Oakland-Hayward</th>\n",
       "      <td>6</td>\n",
       "      <td>6</td>\n",
       "      <td>6</td>\n",
       "    </tr>\n",
       "    <tr>\n",
       "      <th>San Jose-Sunnyvale-Santa Clara</th>\n",
       "      <td>3</td>\n",
       "      <td>3</td>\n",
       "      <td>3</td>\n",
       "    </tr>\n",
       "    <tr>\n",
       "      <th>Seattle-Tacoma-Bellevue</th>\n",
       "      <td>2</td>\n",
       "      <td>2</td>\n",
       "      <td>2</td>\n",
       "    </tr>\n",
       "    <tr>\n",
       "      <th>Washington-Arlington-Alexandria</th>\n",
       "      <td>1</td>\n",
       "      <td>1</td>\n",
       "      <td>1</td>\n",
       "    </tr>\n",
       "  </tbody>\n",
       "</table>\n",
       "</div>"
      ],
      "text/plain": [
       "                                 City  State  2019_Avg\n",
       "Metro                                                 \n",
       "Boston-Cambridge-Newton             2      2         2\n",
       "Bridgeport-Stamford-Norwalk         1      1         1\n",
       "Los Angeles-Long Beach-Anaheim      8      8         8\n",
       "New York-Newark-Jersey City         2      2         2\n",
       "San Diego-Carlsbad                  2      2         2\n",
       "San Francisco-Oakland-Hayward       6      6         6\n",
       "San Jose-Sunnyvale-Santa Clara      3      3         3\n",
       "Seattle-Tacoma-Bellevue             2      2         2\n",
       "Washington-Arlington-Alexandria     1      1         1"
      ]
     },
     "execution_count": 32,
     "metadata": {},
     "output_type": "execute_result"
    }
   ],
   "source": [
    "high_rent_grouped = high_rent.groupby('Metro').count()\n",
    "high_rent_grouped"
   ]
  },
  {
   "cell_type": "markdown",
   "metadata": {},
   "source": [
    "Again, not surprising that 50% of the high rent cities are located in just two metro areas. It would be wise to exclude these cities from our development so as not to bias results"
   ]
  }
 ],
 "metadata": {
  "kernelspec": {
   "display_name": "Python 3",
   "language": "python",
   "name": "python3"
  },
  "language_info": {
   "codemirror_mode": {
    "name": "ipython",
    "version": 3
   },
   "file_extension": ".py",
   "mimetype": "text/x-python",
   "name": "python",
   "nbconvert_exporter": "python",
   "pygments_lexer": "ipython3",
   "version": "3.7.3"
  }
 },
 "nbformat": 4,
 "nbformat_minor": 2
}
